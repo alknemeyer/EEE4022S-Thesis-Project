{
  "cells": [
    {
      "cell_type": "markdown",
      "source": [
        "# Extended Kalman Filter\n",
        "\n",
        "Use uncertain information (sensor data) and knowledge of how the system behaves (educated guess) to understand the state of a system which is continuously changing)\n",
        "\n",
        "eg, combine\n",
        "- an intermittent and imprecise GPS signal\n",
        "- prediction of what will _probably_ happen when you enter a certain input, such as 'forward'\n",
        "- noisey but high frequency sensor data from an IMU\n",
        "\n",
        "To get a very accurate estimate of the current position and velocity of the system\n",
        "\n",
        "KF assumes that the variables are random and Gaussian distributed with a mean value $\\mu$ and variance/uncertainty $\\sigma^2$\n",
        "\n",
        "However, KF relies on the fact that the variables involved are related in some way - eg. position and velocity\n",
        "\nFollowing a guide from https://www.bzarg.com/p/how-a-kalman-filter-works-in-pictures/ Equation numbers correspond with this guide"
      ],
      "metadata": {}
    },
    {
      "cell_type": "code",
      "source": [
        "import numpy as np"
      ],
      "outputs": [],
      "execution_count": 1,
      "metadata": {
        "collapsed": false,
        "outputHidden": false,
        "inputHidden": false
      }
    },
    {
      "cell_type": "markdown",
      "source": [
        "## The State Estimate\n",
        "\n",
        "$$ x_k = \\begin{bmatrix} position \\\\ velocity \\end{bmatrix} $$\n",
        "\nwhere $x_k$ is the best estimate of the current state and velocity"
      ],
      "metadata": {}
    },
    {
      "cell_type": "code",
      "source": [
        "x = np.array([0, 0])"
      ],
      "outputs": [],
      "execution_count": 2,
      "metadata": {
        "collapsed": false,
        "outputHidden": false,
        "inputHidden": false
      }
    },
    {
      "cell_type": "markdown",
      "source": [
        "## The Covariance Matrix\n",
        "\n",
        "$$ P = \\begin{bmatrix} \\Sigma_{pp} & \\Sigma_{pv} \\\\ \\Sigma_{vp} & \\Sigma_{vv} \\end{bmatrix}$$\n",
        "\nwhere $ \\Sigma_{ij} $ is the degree of variance between the _i'th_ and _j'th_ state variable."
      ],
      "metadata": {}
    },
    {
      "cell_type": "code",
      "source": [
        "P = np.array([[0, 0],\n",
        "              [0, 0]])"
      ],
      "outputs": [],
      "execution_count": 3,
      "metadata": {
        "collapsed": false,
        "outputHidden": false,
        "inputHidden": false
      }
    },
    {
      "cell_type": "markdown",
      "source": [
        "## The Prediction Matrix, Control Matrix and Control Vector\n",
        "\n",
        "Indicates how we move from one state to the next\n",
        "\n",
        "$$ p_k = p_{k-1} + \\Delta t v_{k-1} + \\frac{1}{2} a \\Delta t^2 $$\n",
        "$$ v_k = v_{k-1} + a \\Delta t$$\n",
        "\n",
        "Thus,\n",
        "\n",
        "$$ \\begin{split} \\hat{x}_k &= \\begin{bmatrix} 1 & \\Delta t \\\\ 0 & 1 \\end{bmatrix}\\hat{x}_{k-1} + \\begin{bmatrix} \\frac{\\Delta t^2}{2} \\\\ \\Delta t \\end{bmatrix} a \\\\ &= F_k\\ \\hat{x}_{k-1} + B_k\\ u_k \\end{split} $$\n",
        "\n",
        "where $F_k$ is the prediction matrix, $B_k$ is the control matrix, and $u_k$ is the control vector\n",
        "\n",
        "$B$ and $u$ represented tracked external influences\n",
        "\nIn other words, the new best estimate is a prediction made from the previous best estimate, plus a correction for known external influences"
      ],
      "metadata": {}
    },
    {
      "cell_type": "code",
      "source": [
        "T = 0.1\n",
        "F = np.array([[1, T],\n",
        "              [0, 1]])\n",
        "B = np.array([[T**2 / 2],\n",
        "               [T]])"
      ],
      "outputs": [],
      "execution_count": 5,
      "metadata": {
        "collapsed": false,
        "outputHidden": false,
        "inputHidden": false
      }
    },
    {
      "cell_type": "markdown",
      "source": [
        "## Factoring in Uncertainty\n",
        "\n",
        "Eg. uncertainty from modelling, noise, etc\n",
        "\n",
        "Update the prediction matrix as follows,\n",
        "\n",
        "$$ P_k = F_k\\ P_{k-1}\\ F_k^T + Q_k$$\n",
        "\nIn other words, the new uncertainty is predicted from the old uncertainty, with some additional uncertainty from the environment"
      ],
      "metadata": {}
    },
    {
      "cell_type": "code",
      "source": [],
      "outputs": [],
      "execution_count": 31,
      "metadata": {
        "collapsed": false,
        "outputHidden": false,
        "inputHidden": false
      }
    },
    {
      "cell_type": "markdown",
      "source": [
        "## The Sensor Uncertainty Matrix\n",
        "\n",
        "$$ \\mu_{expected} = H_k\\ \\hat{x}_k $$\n",
        "$$ \\Sigma_{expected} = H_k\\ P_k\\ H_k^T $$\n",
        "\nwhere $H_k$ is a matrix which models the sensors"
      ],
      "metadata": {}
    },
    {
      "cell_type": "code",
      "source": [
        "def update_state_predict(F, x_prev, B, u):             # equation 7\n",
        "    x_cur = (F @ x_prev) + (B @ u)\n",
        "    return x_cur\n",
        "\n",
        "def update_prediction_matrix_predict(F, P_prev, Q):    # equation 7\n",
        "    P_cur = F @ P_prev @ F.T + Q\n",
        "    return P_cur\n",
        "\n",
        "def update_state_update(x_cur, K, z, H):             # equation 18\n",
        "    x_best = x_cur + K @ (z - H @ x_cur)\n",
        "    return x_best\n",
        "\n",
        "def update_prediction_matrix_update(P, K, H):    # equation 18\n",
        "    P_best = P_cur - K @ H @ P_cur\n",
        "    return P_best\n",
        "\n",
        "def update_Kalman_gain(P, H, R):            # equation 19\n",
        "    K_new = P @ H.T @ np.invert(H @ P @ H.T + R)\n",
        "    return K_new\n",
        "\n\n",
        "# x, P update the thing goes along\n",
        "# measure u\n"
      ],
      "outputs": [],
      "execution_count": 24,
      "metadata": {
        "collapsed": false,
        "outputHidden": false,
        "inputHidden": false
      }
    },
    {
      "cell_type": "markdown",
      "source": [
        "- x, P update as the thing goes along\n",
        "\n",
        "- F, B is modelled\n",
        "\n",
        "- u is measured\n",
        "\n",
        "- z is the sensor measurement???\n",
        "\n",
        "K???\n",
        "H???\n",
        "R???\n",
        "Q???"
      ],
      "metadata": {}
    },
    {
      "cell_type": "code",
      "source": [
        "class KalmanFilter():\n",
        "    \"\"\"\n",
        "        x       the state estimate\n",
        "        P       the covariance matrix\n",
        "        F       the prediction matrix\n",
        "        B       the control matrix\n",
        "        K       the Kalman gain matrix\n",
        "    \"\"\"\n",
        "    self.x = np.array([0, 0])\n",
        "    self.P = np.array([[0, 0],\n",
        "                       [0, 0]])\n",
        "\n",
        "    def __init__(self, F, B):\n",
        "        self.F = F\n",
        "        self.B = B\n",
        "    \n",
        "    def predict(self, u, Q):\n",
        "        \"\"\" get from x[k-1] to x[k] by using knowledge of how the system behaves \"\"\"\n",
        "        self.x = (self.F @ self.x) + (self.B @ u)\n",
        "        self.P = (self.F @ self.P @ self.F.T) + Q\n",
        "\n",
        "    def update(self, H, R, z):\n",
        "        \"\"\" get from x[k] to the best possible estimate of the system by using sensor data \"\"\"\n",
        "        self.K = (self.P @ H.T) @ np.invert(H @ P @ H.T + R)\n",
        "        self.x = self.x + (K @ (z - H @ self.x))\n",
        "        self.P = self.P - (K @ H @ self.P)\n",
        "    \n",
        "    def get_predictions(self):\n",
        "        return self.x"
      ],
      "outputs": [],
      "execution_count": null,
      "metadata": {
        "collapsed": false,
        "outputHidden": false,
        "inputHidden": false
      }
    }
  ],
  "metadata": {
    "kernel_info": {
      "name": "python3"
    },
    "language_info": {
      "name": "python",
      "version": "3.6.3",
      "mimetype": "text/x-python",
      "codemirror_mode": {
        "name": "ipython",
        "version": 3
      },
      "pygments_lexer": "ipython3",
      "nbconvert_exporter": "python",
      "file_extension": ".py"
    },
    "kernelspec": {
      "name": "python3",
      "language": "python",
      "display_name": "Python 3"
    },
    "nteract": {
      "version": "0.11.6"
    }
  },
  "nbformat": 4,
  "nbformat_minor": 4
}