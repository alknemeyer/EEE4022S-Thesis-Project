{
 "cells": [
  {
   "cell_type": "markdown",
   "metadata": {},
   "source": [
    "# SimpleBGC controller\n",
    "\n",
    "Implemented using the serial API specified in www.basecamelectronics.com/serialapi/"
   ]
  },
  {
   "cell_type": "code",
   "execution_count": 3,
   "metadata": {
    "inputHidden": false,
    "outputHidden": false
   },
   "outputs": [],
   "source": [
    "import numpy as np, serial, time"
   ]
  },
  {
   "cell_type": "code",
   "execution_count": 4,
   "metadata": {
    "inputHidden": false,
    "outputHidden": false
   },
   "outputs": [],
   "source": [
    "ser = serial.Serial('/dev/serial0',\n",
    "                    baudrate=115200,\n",
    "                    parity=serial.PARITY_NONE,  # serial.PARITY_EVEN\n",
    "                    stopbits=serial.STOPBITS_ONE,\n",
    "                    bytesize=serial.EIGHTBITS,\n",
    "                    timeout=0.2)\n",
    "#serial0 == '/dev/ttyS0', connected on physical pins 8 & 10.\n",
    "#serial1 == '/dev/ttyAMA0', connected internally to the Bluetooth hardware."
   ]
  },
  {
   "cell_type": "code",
   "execution_count": 5,
   "metadata": {
    "inputHidden": true,
    "outputHidden": false,
    "tags": []
   },
   "outputs": [],
   "source": [
    "L = {\n",
    "    'CMD_READ_PARAMS': 82,\n",
    "    'CMD_WRITE_PARAMS': 87,\n",
    "    'CMD_REALTIME_DATA': 68,\n",
    "    'CMD_BOARD_INFO': 86,\n",
    "    'CMD_CALIB_ACC': 65,\n",
    "    'CMD_CALIB_GYRO': 103,\n",
    "    'CMD_CALIB_EXT_GAIN': 71,\n",
    "    'CMD_USE_DEFAULTS': 70,\n",
    "    'CMD_CALIB_POLES': 80,\n",
    "    'CMD_RESET': 114,\n",
    "    'CMD_HELPER_DATA': 72,\n",
    "    'CMD_CALIB_OFFSET': 79,\n",
    "    'CMD_CALIB_BAT': 66,\n",
    "    'CMD_MOTORS_ON': 77,\n",
    "    'CMD_MOTORS_OFF': 109,\n",
    "    'CMD_CONTROL': 67,\n",
    "    'CMD_TRIGGER_PIN': 84,\n",
    "    'CMD_EXECUTE_MENU': 69,\n",
    "    'CMD_GET_ANGLES': 73,\n",
    "    'CMD_CONFIRM': 67,\n",
    "    'CMD_BOARD_INFO_3': 20,\n",
    "    'CMD_READ_PARAMS_3': 21,\n",
    "    'CMD_WRITE_PARAMS_3': 22,\n",
    "    'CMD_REALTIME_DATA_3': 23,\n",
    "    'CMD_REALTIME_DATA_4': 25,\n",
    "    'CMD_SELECT_IMU_3': 24,\n",
    "    'CMD_READ_PROFILE_NAMES': 28,\n",
    "    'CMD_WRITE_PROFILE_NAMES': 29,\n",
    "    'CMD_QUEUE_PARAMS_INFO_3': 30,\n",
    "    'CMD_SET_ADJ_VARS_VAL': 31,\n",
    "    'CMD_SAVE_PARAMS_3': 32,\n",
    "    'CMD_READ_PARAMS_EXT': 33,\n",
    "    'CMD_WRITE_PARAMS_EXT': 34,\n",
    "    'CMD_AUTO_PID': 35,\n",
    "    'CMD_SERVO_OUT': 36,\n",
    "    'CMD_I2C_WRITE_REG_BUF': 39,\n",
    "    'CMD_I2C_READ_REG_BUF': 40,\n",
    "    'CMD_WRITE_EXTERNAL_DATA': 41,\n",
    "    'CMD_READ_EXTERNAL_DATA': 42,\n",
    "    'CMD_READ_ADJ_VARS_CFG': 43,\n",
    "    'CMD_WRITE_ADJ_VARS_CFG': 44,\n",
    "    'CMD_API_VIRT_CH_CONTROL': 45,\n",
    "    'CMD_ADJ_VARS_STATE': 46,\n",
    "    'CMD_EEPROM_WRITE': 47,\n",
    "    'CMD_EEPROM_READ': 48,\n",
    "    'CMD_CALIB_INFO': 49,\n",
    "    'CMD_BOOT_MODE_3': 51,\n",
    "    'CMD_SYSTEM_STATE': 52,\n",
    "    'CMD_READ_FILE': 53,\n",
    "    'CMD_WRITE_FILE': 54,\n",
    "    'CMD_FS_CLEAR_ALL': 55,\n",
    "    'CMD_AHRS_HELPER': 56,\n",
    "    'CMD_RUN_SCRIPT': 57,\n",
    "    'CMD_SCRIPT_DEBUG': 58,\n",
    "    'CMD_CALIB_MAG': 59,\n",
    "    'CMD_GET_ANGLES_EXT': 61,\n",
    "    'CMD_READ_PARAMS_EXT2': 62,\n",
    "    'CMD_WRITE_PARAMS_EXT2': 63,\n",
    "    'CMD_GET_ADJ_VARS_VAL': 64,\n",
    "    'CMD_CALIB_MOTOR_MAG_LINK': 74,\n",
    "    'CMD_GYRO_CORRECTION': 75,\n",
    "    'CMD_DATA_STREAM_INTERVAL': 85,\n",
    "    'CMD_REALTIME_DATA_CUSTOM': 88,\n",
    "    'CMD_BEEP_SOUND': 89,\n",
    "    'CMD_ENCODERS_CALIB_OFFSET_4': 26,\n",
    "    'CMD_ENCODERS_CALIB_FLD_OFFSET_4': 27,\n",
    "    'CMD_CONTROL_CONFIG': 90,\n",
    "    'CMD_CALIB_ORIENT_CORR': 91,\n",
    "    'CMD_COGGING_CALIB_INFO': 92,\n",
    "    'CMD_CALIB_COGGING': 93,\n",
    "    'CMD_CALIB_ACC_EXT_REF': 94,\n",
    "    'CMD_PROFILE_SET': 95,\n",
    "    'CMD_CAN_DEVICE_SCAN': 96,\n",
    "    'CMD_CAN_DRV_HARD_PARAMS': 97,\n",
    "    'CMD_CAN_DRV_STATE': 98,\n",
    "    'CMD_CAN_DRV_CALIBRATE': 99,\n",
    "    'CMD_READ_RC_INPUTS': 100,\n",
    "    'CMD_REALTIME_DATA_CAN_DRV': 101,\n",
    "    'CMD_EVENT': 102,\n",
    "    'CMD_READ_PARAMS_EXT3': 104,\n",
    "    'CMD_WRITE_PARAMS_EXT3': 105,\n",
    "    'CMD_EXT_IMU_DEBUG_INFO': 106,\n",
    "    'CMD_SET_DEBUG_PORT': 249,\n",
    "    'CMD_MAVLINK_INFO': 250,\n",
    "    'CMD_MAVLINK_DEBUG': 251,\n",
    "    'CMD_DEBUG_VARS_INFO_3': 253,\n",
    "    'CMD_DEBUG_VARS_3': 254,\n",
    "    'CMD_ERROR': 255\n",
    "}\n"
   ]
  },
  {
   "cell_type": "code",
   "execution_count": 6,
   "metadata": {},
   "outputs": [],
   "source": [
    "def as_int(b):\n",
    "    \"\"\" converts b (a bytearray) into a signed integer.\n",
    "        assumes little endian \"\"\"\n",
    "    return int.from_bytes(b, byteorder='little', signed=True)\n",
    "\n",
    "def as_uint(b):\n",
    "    \"\"\" converts b (a bytearray) into an unsigned integer.\n",
    "        assumes little endian \"\"\"\n",
    "    return int.from_bytes(b, byteorder='little', signed=False)\n",
    "\n",
    "def print_binary_padded(hex_data, num_bits=8, reversed=False):\n",
    "    \"\"\" prints the hex value in binary, with zero padding\n",
    "    \n",
    "        eg: print_binary_padded(0x03)\n",
    "            print_binary_padded(0x0421, num_bits=16)\n",
    "    \"\"\"\n",
    "    if reversed is True:\n",
    "        print('LSB first: 0b' + bin(hex_data)[2:].zfill(num_bits)[::-1])\n",
    "    else:\n",
    "        print('0b' + bin(hex_data)[2:].zfill(num_bits))  # [2:] to get rid of the '0b' part"
   ]
  },
  {
   "cell_type": "code",
   "execution_count": 204,
   "metadata": {
    "inputHidden": false,
    "outputHidden": false
   },
   "outputs": [],
   "source": [
    "def send_data(command_ID, data=None, data_size=0):\n",
    "    \"\"\" Compose and send a command to the SimpleBGC\n",
    "    Inputs:\n",
    "        command_ID: a string, such as 'CMD_GET_ANGLES'\n",
    "        data: a list of numpy numbers\n",
    "        data_size: the number of bytes in data\n",
    "\n",
    "    Format:\n",
    "        head:\n",
    "            start_char = ord('>') = 0x3E. 1u\n",
    "            command_ID. 1u\n",
    "            data_size. 1u. Can be 0\n",
    "            header_checksum =  (command ID + data_size) % 255. 1u\n",
    "\n",
    "        body:\n",
    "            array_of_bytes_of_length_data_size\n",
    "            body_checksum. 1u\n",
    "    \"\"\"\n",
    "    # compose head:\n",
    "    start_char = np.uint8(ord('>'))\n",
    "#    header_checksum = np.uint8((L[command_ID] + data_size) % 0xFF)\n",
    "    header_checksum = np.uint8(L[command_ID] + data_size)\n",
    "    \n",
    "    message = bytearray()\n",
    "    message.append(start_char)\n",
    "    message.append(L[command_ID])\n",
    "    message.append(np.uint8(data_size))\n",
    "    message.append(header_checksum)\n",
    "\n",
    "    if data_size > 0:\n",
    "        for d in data:\n",
    "            if d.nbytes == 1:\n",
    "                message.append(d)\n",
    "            elif d.nbytes == 2:\n",
    "                d_bytes = d.tobytes()\n",
    "                # print('%s\\t-> %s'% (d, d_bytes))\n",
    "                message.append(d_bytes[0])  # working with little endian\n",
    "                message.append(d_bytes[1])  # TODO: change this???\n",
    "\n",
    "        body_checksum = np.uint8(sum(data))\n",
    "        message.append(body_checksum)\n",
    "    \n",
    "    ser.write(message)\n",
    "    \n",
    "    return message"
   ]
  },
  {
   "cell_type": "code",
   "execution_count": 172,
   "metadata": {
    "inputHidden": false,
    "outputHidden": false
   },
   "outputs": [],
   "source": [
    "def send_angle_command(roll, pitch, yaw):\n",
    "    \"\"\" send an angle command to the gimbal\n",
    "        roll, pitch and yaw are in degrees \"\"\"\n",
    "\n",
    "    scaling = 0.02197265625  # units/degree\n",
    "    message = [\n",
    "        np.uint8(2),                # CONTROL_MODE = MODE_ANGLE. do this three times for three axis??\n",
    "#         np.uint8(2),                # CONTROL_MODE = MODE_ANGLE. do this three times for three axis??\n",
    "#         np.uint8(2),                # CONTROL_MODE = MODE_ANGLE. do this three times for three axis??\n",
    "        np.int16(roll/scaling),                # roll speed\n",
    "        np.int16(roll/scaling),     # roll angle\n",
    "        np.int16(pitch/scaling),                # pitch speed\n",
    "        np.int16(pitch/scaling),    # pitch angle\n",
    "        np.int16(yaw/scaling),                # yaw speed\n",
    "        np.int16(yaw/scaling)       # yaw angle\n",
    "    ]\n",
    "    return send_data('CMD_CONTROL', message, 13)"
   ]
  },
  {
   "cell_type": "code",
   "execution_count": 207,
   "metadata": {
    "inputHidden": false,
    "outputHidden": false
   },
   "outputs": [
    {
     "data": {
      "text/plain": [
       "'3e430d5002ffffffffd3dfd3df00400040a6'"
      ]
     },
     "execution_count": 207,
     "metadata": {},
     "output_type": "execute_result"
    }
   ],
   "source": [
    "msg = send_angle_command(-0.02197265625*1, -181, 360)\n",
    "\n",
    "msg.hex()"
   ]
  },
  {
   "cell_type": "code",
   "execution_count": 189,
   "metadata": {
    "inputHidden": false,
    "outputHidden": false
   },
   "outputs": [],
   "source": [
    "def get_motor_angles():\n",
    "    \"\"\" get the gimbal angle, as measured by the IMU\n",
    "        units are in degrees \"\"\"\n",
    "    msg = send_data('CMD_GET_ANGLES')\n",
    "    return msg\n",
    "    \n",
    "    # the gimbal returns 18 bytes of data\n",
    "    # 3 axis, each having an angle, target angle and target speed\n",
    "    gimbal_state = ser.read(18)  # read (up to) 18 bytes\n",
    "\n",
    "    # only interested in the angles\n",
    "    # they each arrive in 14-bit resolution and require scaling\n",
    "    scaling = 0.02197265625  # scales to degrees\n",
    "    IMU = {\n",
    "        'roll': as_int(gimbal_state[0:2]) * scaling,\n",
    "        'pitch': as_int(gimbal_state[6:8]) * scaling,\n",
    "        'yaw': as_int(gimbal_state[12:14] * scaling)\n",
    "    }\n",
    "    \n",
    "    return IMU"
   ]
  },
  {
   "cell_type": "code",
   "execution_count": 208,
   "metadata": {
    "inputHidden": false,
    "outputHidden": false
   },
   "outputs": [
    {
     "ename": "TypeError",
     "evalue": "'NoneType' object is not iterable",
     "output_type": "error",
     "traceback": [
      "\u001b[0;31m---------------------------------------------------------------------------\u001b[0m",
      "\u001b[0;31mTypeError\u001b[0m                                 Traceback (most recent call last)",
      "\u001b[0;32m<ipython-input-208-2f71becaff12>\u001b[0m in \u001b[0;36m<module>\u001b[0;34m()\u001b[0m\n\u001b[0;32m----> 1\u001b[0;31m \u001b[0mmsg\u001b[0m \u001b[0;34m=\u001b[0m \u001b[0mget_motor_angles\u001b[0m\u001b[0;34m(\u001b[0m\u001b[0;34m)\u001b[0m\u001b[0;34m\u001b[0m\u001b[0m\n\u001b[0m\u001b[1;32m      2\u001b[0m \u001b[0mprint\u001b[0m\u001b[0;34m(\u001b[0m\u001b[0mmsg\u001b[0m\u001b[0;34m.\u001b[0m\u001b[0mhex\u001b[0m\u001b[0;34m(\u001b[0m\u001b[0;34m)\u001b[0m\u001b[0;34m)\u001b[0m\u001b[0;34m\u001b[0m\u001b[0m\n\u001b[1;32m      3\u001b[0m \u001b[0mser\u001b[0m\u001b[0;34m.\u001b[0m\u001b[0mread\u001b[0m\u001b[0;34m(\u001b[0m\u001b[0;36m10\u001b[0m\u001b[0;34m)\u001b[0m\u001b[0;34m\u001b[0m\u001b[0m\n",
      "\u001b[0;32m<ipython-input-189-589a216c9273>\u001b[0m in \u001b[0;36mget_motor_angles\u001b[0;34m()\u001b[0m\n\u001b[1;32m      2\u001b[0m     \"\"\" get the gimbal angle, as measured by the IMU\n\u001b[1;32m      3\u001b[0m         units are in degrees \"\"\"\n\u001b[0;32m----> 4\u001b[0;31m     \u001b[0mmsg\u001b[0m \u001b[0;34m=\u001b[0m \u001b[0msend_data\u001b[0m\u001b[0;34m(\u001b[0m\u001b[0;34m'CMD_GET_ANGLES'\u001b[0m\u001b[0;34m)\u001b[0m\u001b[0;34m\u001b[0m\u001b[0m\n\u001b[0m\u001b[1;32m      5\u001b[0m     \u001b[0;32mreturn\u001b[0m \u001b[0mmsg\u001b[0m\u001b[0;34m\u001b[0m\u001b[0m\n\u001b[1;32m      6\u001b[0m \u001b[0;34m\u001b[0m\u001b[0m\n",
      "\u001b[0;32m<ipython-input-204-ddf9f147a12d>\u001b[0m in \u001b[0;36msend_data\u001b[0;34m(command_ID, data, data_size)\u001b[0m\n\u001b[1;32m     38\u001b[0m                 \u001b[0mmessage\u001b[0m\u001b[0;34m.\u001b[0m\u001b[0mappend\u001b[0m\u001b[0;34m(\u001b[0m\u001b[0md_bytes\u001b[0m\u001b[0;34m[\u001b[0m\u001b[0;36m1\u001b[0m\u001b[0;34m]\u001b[0m\u001b[0;34m)\u001b[0m  \u001b[0;31m# TODO: change this???\u001b[0m\u001b[0;34m\u001b[0m\u001b[0m\n\u001b[1;32m     39\u001b[0m \u001b[0;34m\u001b[0m\u001b[0m\n\u001b[0;32m---> 40\u001b[0;31m     \u001b[0mbody_checksum\u001b[0m \u001b[0;34m=\u001b[0m \u001b[0mnp\u001b[0m\u001b[0;34m.\u001b[0m\u001b[0muint8\u001b[0m\u001b[0;34m(\u001b[0m\u001b[0msum\u001b[0m\u001b[0;34m(\u001b[0m\u001b[0mdata\u001b[0m\u001b[0;34m)\u001b[0m\u001b[0;34m)\u001b[0m\u001b[0;34m\u001b[0m\u001b[0m\n\u001b[0m\u001b[1;32m     41\u001b[0m     \u001b[0mmessage\u001b[0m\u001b[0;34m.\u001b[0m\u001b[0mappend\u001b[0m\u001b[0;34m(\u001b[0m\u001b[0mbody_checksum\u001b[0m\u001b[0;34m)\u001b[0m\u001b[0;34m\u001b[0m\u001b[0m\n\u001b[1;32m     42\u001b[0m     \u001b[0mser\u001b[0m\u001b[0;34m.\u001b[0m\u001b[0mwrite\u001b[0m\u001b[0;34m(\u001b[0m\u001b[0mmessage\u001b[0m\u001b[0;34m)\u001b[0m\u001b[0;34m\u001b[0m\u001b[0m\n",
      "\u001b[0;31mTypeError\u001b[0m: 'NoneType' object is not iterable"
     ]
    }
   ],
   "source": [
    "msg = get_motor_angles()\n",
    "print(msg.hex())\n",
    "ser.read(10)"
   ]
  },
  {
   "cell_type": "code",
   "execution_count": 191,
   "metadata": {
    "inputHidden": false,
    "outputHidden": false
   },
   "outputs": [],
   "source": [
    "def turn_off_motors():\n",
    "    return send_data('CMD_MOTORS_OFF')\n",
    "\n",
    "def turn_on_motors():\n",
    "    return send_data('CMD_MOTORS_ON')"
   ]
  },
  {
   "cell_type": "code",
   "execution_count": 192,
   "metadata": {
    "inputHidden": false,
    "outputHidden": false
   },
   "outputs": [],
   "source": [
    "msg = turn_on_motors()\n",
    "#msg.hex()"
   ]
  },
  {
   "cell_type": "markdown",
   "metadata": {},
   "source": [
    "# Debugging section"
   ]
  },
  {
   "cell_type": "code",
   "execution_count": 193,
   "metadata": {},
   "outputs": [
    {
     "data": {
      "text/plain": [
       "77"
      ]
     },
     "execution_count": 193,
     "metadata": {},
     "output_type": "execute_result"
    }
   ],
   "source": [
    "L['CMD_MOTORS_ON']"
   ]
  },
  {
   "cell_type": "code",
   "execution_count": 194,
   "metadata": {},
   "outputs": [
    {
     "data": {
      "text/plain": [
       "109"
      ]
     },
     "execution_count": 194,
     "metadata": {},
     "output_type": "execute_result"
    }
   ],
   "source": [
    "L['CMD_MOTORS_OFF']"
   ]
  },
  {
   "cell_type": "code",
   "execution_count": 195,
   "metadata": {},
   "outputs": [
    {
     "data": {
      "text/plain": [
       "73"
      ]
     },
     "execution_count": 195,
     "metadata": {},
     "output_type": "execute_result"
    }
   ],
   "source": [
    "L['CMD_GET_ANGLES']"
   ]
  },
  {
   "cell_type": "code",
   "execution_count": 203,
   "metadata": {
    "scrolled": true
   },
   "outputs": [
    {
     "ename": "KeyboardInterrupt",
     "evalue": "",
     "output_type": "error",
     "traceback": [
      "\u001b[0;31m---------------------------------------------------------------------------\u001b[0m",
      "\u001b[0;31mKeyboardInterrupt\u001b[0m                         Traceback (most recent call last)",
      "\u001b[0;32m<ipython-input-203-81ebaa43acfe>\u001b[0m in \u001b[0;36m<module>\u001b[0;34m()\u001b[0m\n\u001b[1;32m      5\u001b[0m \u001b[0;34m\u001b[0m\u001b[0m\n\u001b[1;32m      6\u001b[0m     \u001b[0mi\u001b[0m \u001b[0;34m+=\u001b[0m \u001b[0;36m0.05\u001b[0m\u001b[0;34m\u001b[0m\u001b[0m\n\u001b[0;32m----> 7\u001b[0;31m     \u001b[0mtime\u001b[0m\u001b[0;34m.\u001b[0m\u001b[0msleep\u001b[0m\u001b[0;34m(\u001b[0m\u001b[0;36m0.2\u001b[0m\u001b[0;34m)\u001b[0m\u001b[0;34m\u001b[0m\u001b[0m\n\u001b[0m\u001b[1;32m      8\u001b[0m     \u001b[0mser\u001b[0m\u001b[0;34m.\u001b[0m\u001b[0mflushOutput\u001b[0m\u001b[0;34m(\u001b[0m\u001b[0;34m)\u001b[0m\u001b[0;34m\u001b[0m\u001b[0m\n\u001b[1;32m      9\u001b[0m     \u001b[0mser\u001b[0m\u001b[0;34m.\u001b[0m\u001b[0mflushInput\u001b[0m\u001b[0;34m(\u001b[0m\u001b[0;34m)\u001b[0m\u001b[0;34m\u001b[0m\u001b[0m\n",
      "\u001b[0;31mKeyboardInterrupt\u001b[0m: "
     ]
    }
   ],
   "source": [
    "i = 0\n",
    "while True:\n",
    "    #turn_off_motors()\n",
    "    send_angle_command(i, -i, i/10)\n",
    "\n",
    "    i += 0.05\n",
    "    time.sleep(0.2)\n",
    "    ser.flushOutput()\n",
    "    ser.flushInput()\n",
    "    time.sleep(0.2)"
   ]
  },
  {
   "cell_type": "code",
   "execution_count": 169,
   "metadata": {},
   "outputs": [
    {
     "data": {
      "text/plain": [
       "bytearray(b'>C\\x0fR\\x02\\x02\\x02-\\x00-\\x00[\\x00[\\x00\\x88\\x00\\x88\\x00')"
      ]
     },
     "execution_count": 169,
     "metadata": {},
     "output_type": "execute_result"
    }
   ],
   "source": [
    "send_angle_command(1.0, 2.0, 3.0)"
   ]
  },
  {
   "cell_type": "code",
   "execution_count": null,
   "metadata": {},
   "outputs": [],
   "source": [
    "ser.flushInput()\n",
    "ser.flushOutput()\n",
    "\n",
    "send_angle_command(1, 2, 3)\n",
    "time.sleep(1)\n",
    "send_angle_command(50, 50, 50)\n",
    "time.sleep(1)\n",
    "send_angle_command(100, 100, 100)\n",
    "time.sleep(1)\n",
    "send_angle_command(30, 30, 30)\n",
    "time.sleep(1)\n",
    "send_angle_command(-5, -5, -5)\n",
    "time.sleep(1)\n"
   ]
  },
  {
   "cell_type": "code",
   "execution_count": null,
   "metadata": {},
   "outputs": [],
   "source": []
  },
  {
   "cell_type": "code",
   "execution_count": null,
   "metadata": {},
   "outputs": [],
   "source": [
    "reverse = True\n",
    "print_binary_padded(0x3e, reversed=reverse)\n",
    "print_binary_padded(0x6d, reversed=reverse)\n",
    "print_binary_padded(0x00, reversed=reverse)\n",
    "print_binary_padded(0x6d, reversed=reverse)"
   ]
  },
  {
   "cell_type": "code",
   "execution_count": null,
   "metadata": {
    "scrolled": true
   },
   "outputs": [],
   "source": [
    "import time\n",
    "\n",
    "arr = [0, 1, 2, 4, 8, 16, 32, 64, 128]\n",
    "i = 0\n",
    "while True:\n",
    "    x = bytearray()\n",
    "    x.append(np.uint8(arr[i]))\n",
    "    x.append(np.uint8(arr[i]))\n",
    "    ser.write(x)\n",
    "    print('i = %i, num = %i' % (i, arr[i]))\n",
    "    if i >= len(arr)-1:\n",
    "        i = 0\n",
    "    else:\n",
    "        i += 1\n",
    "    time.sleep(1)\n"
   ]
  },
  {
   "cell_type": "code",
   "execution_count": null,
   "metadata": {},
   "outputs": [],
   "source": [
    "time_width = 50 * 10**(-6)  # seconds\n",
    "baud_rate = 115200  # Hz\n",
    "print('time in seconds per bit = %f us' % (10**6 * 1/baud_rate))\n",
    "print('divisions per bit = %f divs/bit' % (1/baud_rate / time_width))\n",
    "print('divs per byte (9 bits) = %f' % (9/baud_rate/time_width))"
   ]
  },
  {
   "cell_type": "code",
   "execution_count": null,
   "metadata": {},
   "outputs": [],
   "source": []
  }
 ],
 "metadata": {
  "kernel_info": {
   "name": "python3"
  },
  "kernelspec": {
   "display_name": "Python 3",
   "language": "python",
   "name": "python3"
  },
  "language_info": {
   "codemirror_mode": {
    "name": "ipython",
    "version": 3
   },
   "file_extension": ".py",
   "mimetype": "text/x-python",
   "name": "python",
   "nbconvert_exporter": "python",
   "pygments_lexer": "ipython3",
   "version": "3.5.3"
  },
  "nteract": {
   "version": "0.11.6"
  }
 },
 "nbformat": 4,
 "nbformat_minor": 4
}
