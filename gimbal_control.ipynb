{
 "cells": [
  {
   "cell_type": "markdown",
   "metadata": {},
   "source": [
    "# SimpleBGC controller\n",
    "\n",
    "Implemented using the serial API specified in www.basecamelectronics.com/serialapi/"
   ]
  },
  {
   "cell_type": "code",
   "execution_count": 12,
   "metadata": {
    "inputHidden": false,
    "outputHidden": false
   },
   "outputs": [],
   "source": [
    "import numpy as np"
   ]
  },
  {
   "cell_type": "code",
   "execution_count": 13,
   "metadata": {
    "inputHidden": false,
    "outputHidden": false
   },
   "outputs": [],
   "source": [
    "import serial\n",
    "ser = serial.Serial('/dev/serial0',\n",
    "                    baudrate=115200,\n",
    "                    parity=serial.PARITY_NONE,\n",
    "                    stopbits=serial.STOPBITS_ONE,\n",
    "                    bytesize=serial.EIGHTBITS,\n",
    "                    timeout=0.2)\n",
    "#serial0 == '/dev/ttyS0', connected on physical pins 8 & 10.\n",
    "#serial1 == '/dev/ttyAMA0', connected internally to the Bluetooth hardware."
   ]
  },
  {
   "cell_type": "code",
   "execution_count": 14,
   "metadata": {
    "inputHidden": true,
    "outputHidden": false,
    "tags": []
   },
   "outputs": [],
   "source": [
    "L = {\n",
    "    'CMD_READ_PARAMS': 82,\n",
    "    'CMD_WRITE_PARAMS': 87,\n",
    "    'CMD_REALTIME_DATA': 68,\n",
    "    'CMD_BOARD_INFO': 86,\n",
    "    'CMD_CALIB_ACC': 65,\n",
    "    'CMD_CALIB_GYRO': 103,\n",
    "    'CMD_CALIB_EXT_GAIN': 71,\n",
    "    'CMD_USE_DEFAULTS': 70,\n",
    "    'CMD_CALIB_POLES': 80,\n",
    "    'CMD_RESET': 114,\n",
    "    'CMD_HELPER_DATA': 72,\n",
    "    'CMD_CALIB_OFFSET': 79,\n",
    "    'CMD_CALIB_BAT': 66,\n",
    "    'CMD_MOTORS_ON': 77,\n",
    "    'CMD_MOTORS_OFF': 109,\n",
    "    'CMD_CONTROL': 67,\n",
    "    'CMD_TRIGGER_PIN': 84,\n",
    "    'CMD_EXECUTE_MENU': 69,\n",
    "    'CMD_GET_ANGLES': 73,\n",
    "    'CMD_CONFIRM': 67,\n",
    "    'CMD_BOARD_INFO_3': 20,\n",
    "    'CMD_READ_PARAMS_3': 21,\n",
    "    'CMD_WRITE_PARAMS_3': 22,\n",
    "    'CMD_REALTIME_DATA_3': 23,\n",
    "    'CMD_REALTIME_DATA_4': 25,\n",
    "    'CMD_SELECT_IMU_3': 24,\n",
    "    'CMD_READ_PROFILE_NAMES': 28,\n",
    "    'CMD_WRITE_PROFILE_NAMES': 29,\n",
    "    'CMD_QUEUE_PARAMS_INFO_3': 30,\n",
    "    'CMD_SET_ADJ_VARS_VAL': 31,\n",
    "    'CMD_SAVE_PARAMS_3': 32,\n",
    "    'CMD_READ_PARAMS_EXT': 33,\n",
    "    'CMD_WRITE_PARAMS_EXT': 34,\n",
    "    'CMD_AUTO_PID': 35,\n",
    "    'CMD_SERVO_OUT': 36,\n",
    "    'CMD_I2C_WRITE_REG_BUF': 39,\n",
    "    'CMD_I2C_READ_REG_BUF': 40,\n",
    "    'CMD_WRITE_EXTERNAL_DATA': 41,\n",
    "    'CMD_READ_EXTERNAL_DATA': 42,\n",
    "    'CMD_READ_ADJ_VARS_CFG': 43,\n",
    "    'CMD_WRITE_ADJ_VARS_CFG': 44,\n",
    "    'CMD_API_VIRT_CH_CONTROL': 45,\n",
    "    'CMD_ADJ_VARS_STATE': 46,\n",
    "    'CMD_EEPROM_WRITE': 47,\n",
    "    'CMD_EEPROM_READ': 48,\n",
    "    'CMD_CALIB_INFO': 49,\n",
    "    'CMD_BOOT_MODE_3': 51,\n",
    "    'CMD_SYSTEM_STATE': 52,\n",
    "    'CMD_READ_FILE': 53,\n",
    "    'CMD_WRITE_FILE': 54,\n",
    "    'CMD_FS_CLEAR_ALL': 55,\n",
    "    'CMD_AHRS_HELPER': 56,\n",
    "    'CMD_RUN_SCRIPT': 57,\n",
    "    'CMD_SCRIPT_DEBUG': 58,\n",
    "    'CMD_CALIB_MAG': 59,\n",
    "    'CMD_GET_ANGLES_EXT': 61,\n",
    "    'CMD_READ_PARAMS_EXT2': 62,\n",
    "    'CMD_WRITE_PARAMS_EXT2': 63,\n",
    "    'CMD_GET_ADJ_VARS_VAL': 64,\n",
    "    'CMD_CALIB_MOTOR_MAG_LINK': 74,\n",
    "    'CMD_GYRO_CORRECTION': 75,\n",
    "    'CMD_DATA_STREAM_INTERVAL': 85,\n",
    "    'CMD_REALTIME_DATA_CUSTOM': 88,\n",
    "    'CMD_BEEP_SOUND': 89,\n",
    "    'CMD_ENCODERS_CALIB_OFFSET_4': 26,\n",
    "    'CMD_ENCODERS_CALIB_FLD_OFFSET_4': 27,\n",
    "    'CMD_CONTROL_CONFIG': 90,\n",
    "    'CMD_CALIB_ORIENT_CORR': 91,\n",
    "    'CMD_COGGING_CALIB_INFO': 92,\n",
    "    'CMD_CALIB_COGGING': 93,\n",
    "    'CMD_CALIB_ACC_EXT_REF': 94,\n",
    "    'CMD_PROFILE_SET': 95,\n",
    "    'CMD_CAN_DEVICE_SCAN': 96,\n",
    "    'CMD_CAN_DRV_HARD_PARAMS': 97,\n",
    "    'CMD_CAN_DRV_STATE': 98,\n",
    "    'CMD_CAN_DRV_CALIBRATE': 99,\n",
    "    'CMD_READ_RC_INPUTS': 100,\n",
    "    'CMD_REALTIME_DATA_CAN_DRV': 101,\n",
    "    'CMD_EVENT': 102,\n",
    "    'CMD_READ_PARAMS_EXT3': 104,\n",
    "    'CMD_WRITE_PARAMS_EXT3': 105,\n",
    "    'CMD_EXT_IMU_DEBUG_INFO': 106,\n",
    "    'CMD_SET_DEBUG_PORT': 249,\n",
    "    'CMD_MAVLINK_INFO': 250,\n",
    "    'CMD_MAVLINK_DEBUG': 251,\n",
    "    'CMD_DEBUG_VARS_INFO_3': 253,\n",
    "    'CMD_DEBUG_VARS_3': 254,\n",
    "    'CMD_ERROR': 255\n",
    "}\n"
   ]
  },
  {
   "cell_type": "code",
   "execution_count": 15,
   "metadata": {},
   "outputs": [],
   "source": [
    "def as_int(b):\n",
    "    \"\"\" converts b (a bytearray) into a signed integer\n",
    "        assumes little endian \"\"\"\n",
    "    return int.from_bytes(b, byteorder='little', signed=True)\n",
    "\n",
    "def as_uint(b):\n",
    "    \"\"\" converts b (a bytearray) into an unsigned integer\n",
    "        assumes little endian \"\"\"\n",
    "    return int.from_bytes(b, byteorder='little', signed=False)"
   ]
  },
  {
   "cell_type": "code",
   "execution_count": 24,
   "metadata": {
    "inputHidden": false,
    "outputHidden": false
   },
   "outputs": [],
   "source": [
    "def send_data(command_ID, data=None, data_size=0):\n",
    "    \"\"\" Compose and send a command to the SimpleBGC\n",
    "    Inputs:\n",
    "        command_ID: a string, such as 'CMD_GET_ANGLES'\n",
    "        data: a list of numpy numbers\n",
    "        data_size: the number of bytes in data\n",
    "\n",
    "    Format:\n",
    "        head:\n",
    "            start_char = ord('>') = 0x3E. 1u\n",
    "            command_ID. 1u\n",
    "            data_size. 1u. Can be 0\n",
    "            header_checksum =  (command ID + data_size) % 255. 1u\n",
    "\n",
    "        body:\n",
    "            array_of_bytes_of_length_data_size\n",
    "            body_checksum. 1u\n",
    "    \"\"\"\n",
    "    # compose head:\n",
    "    start_char = np.uint8(ord('>'))\n",
    "    header_checksum = np.uint8((L[command_ID] + data_size) % 0xFF)\n",
    "    \n",
    "    message = bytearray()\n",
    "    message.append(start_char)\n",
    "    message.append(L[command_ID])\n",
    "    message.append(data_size)\n",
    "    message.append(header_checksum)\n",
    "\n",
    "    if data_size > 0:\n",
    "        for d in data:\n",
    "            if d.nbytes == 1:\n",
    "                message.append(d)\n",
    "            elif d.nbytes == 2:\n",
    "                d_bytes = d.tobytes()\n",
    "                print('%s\\t-> %s'% (d, d_bytes))\n",
    "                message.append(d_bytes[0])  # working with little endian\n",
    "                message.append(d_bytes[1])\n",
    "\n",
    "    ser.write(message)\n",
    "    \n",
    "    return message"
   ]
  },
  {
   "cell_type": "code",
   "execution_count": 25,
   "metadata": {
    "inputHidden": false,
    "outputHidden": false
   },
   "outputs": [],
   "source": [
    "def send_angle_command(roll, pitch, yaw):\n",
    "    \"\"\" send an angle command to the gimbal\n",
    "        roll, pitch and yaw are in degrees \"\"\"\n",
    "\n",
    "    scaling = 0.02197265625  # units/degree\n",
    "    message = [\n",
    "        np.uint8(1),                # CONTROL_MODE = MODE_ANGLE. do this three times for three axis??\n",
    "        np.int16(0),                # roll speed\n",
    "        np.int16(roll/scaling),     # roll angle\n",
    "        np.int16(0),                # pitch speed\n",
    "        np.int16(pitch/scaling),    # pitch angle\n",
    "        np.int16(0),                # yaw speed\n",
    "        np.int16(yaw/scaling)       # yaw angle\n",
    "    ]\n",
    "    return send_data('CMD_CONTROL', message, 13)"
   ]
  },
  {
   "cell_type": "code",
   "execution_count": 26,
   "metadata": {
    "inputHidden": false,
    "outputHidden": false
   },
   "outputs": [
    {
     "name": "stdout",
     "output_type": "stream",
     "text": [
      "0\t-> b'\\x00\\x00'\n",
      "-2\t-> b'\\xfe\\xff'\n",
      "0\t-> b'\\x00\\x00'\n",
      "-8192\t-> b'\\x00\\xe0'\n",
      "0\t-> b'\\x00\\x00'\n",
      "16384\t-> b'\\x00@'\n"
     ]
    },
    {
     "data": {
      "text/plain": [
       "'3e430d50010000feff000000e000000040'"
      ]
     },
     "execution_count": 26,
     "metadata": {},
     "output_type": "execute_result"
    }
   ],
   "source": [
    "msg = send_angle_command(-0.02197265625*2, -180, 360)\n",
    "\n",
    "msg.hex()"
   ]
  },
  {
   "cell_type": "code",
   "execution_count": 27,
   "metadata": {
    "inputHidden": false,
    "outputHidden": false
   },
   "outputs": [],
   "source": [
    "def get_motor_angles():\n",
    "    \"\"\" get the gimbal angle, as measured by the IMU\n",
    "        units are in degrees \"\"\"\n",
    "    msg = send_data('CMD_GET_ANGLES')\n",
    "    return msg\n",
    "    \n",
    "    # the gimbal returns 18 bytes of data\n",
    "    # 3 axis, each having an angle, target angle and target speed\n",
    "    gimbal_state = ser.read(18)  # read up to 18 bytes\n",
    "\n",
    "    # only interested in the angles\n",
    "    # they each arrive in 14-bit resolution and require scaling\n",
    "    scaling = 0.02197265625  # scales to degrees\n",
    "    IMU = {\n",
    "        'roll': as_int(gimbal_state[0:2]) * scaling,\n",
    "        'pitch': as_int(gimbal_state[6:8]) * scaling,\n",
    "        'yaw': as_int(gimbal_state[12:14] * scaling)\n",
    "    }\n",
    "    \n",
    "    return IMU"
   ]
  },
  {
   "cell_type": "code",
   "execution_count": 70,
   "metadata": {
    "inputHidden": false,
    "outputHidden": false
   },
   "outputs": [
    {
     "data": {
      "text/plain": [
       "'3e490049'"
      ]
     },
     "execution_count": 70,
     "metadata": {},
     "output_type": "execute_result"
    }
   ],
   "source": [
    "msg = get_motor_angles()\n",
    "msg.hex()"
   ]
  },
  {
   "cell_type": "code",
   "execution_count": 21,
   "metadata": {
    "inputHidden": false,
    "outputHidden": false
   },
   "outputs": [],
   "source": [
    "def turn_off_motors():\n",
    "    return send_data('CMD_MOTORS_OFF')"
   ]
  },
  {
   "cell_type": "code",
   "execution_count": 22,
   "metadata": {
    "inputHidden": false,
    "outputHidden": false
   },
   "outputs": [
    {
     "data": {
      "text/plain": [
       "'3e6d006d'"
      ]
     },
     "execution_count": 22,
     "metadata": {},
     "output_type": "execute_result"
    }
   ],
   "source": [
    "msg = turn_off_motors()\n",
    "msg.hex()"
   ]
  },
  {
   "cell_type": "code",
   "execution_count": 109,
   "metadata": {},
   "outputs": [
    {
     "data": {
      "text/plain": [
       "10"
      ]
     },
     "execution_count": 109,
     "metadata": {},
     "output_type": "execute_result"
    }
   ],
   "source": [
    "x = bytearray()\n",
    "x.append(np.uint8(0xAA))\n",
    "x.append(np.uint8(0))\n",
    "x.append(np.uint8(255))\n",
    "x.append(np.uint8(0))\n",
    "x.append(np.uint8(255))\n",
    "x.append(np.uint8(2))\n",
    "x.append(np.uint8(4))\n",
    "x.append(np.uint8(8))\n",
    "x.append(np.uint8(16))\n",
    "x.append(np.uint8(32))\n",
    "\n",
    "ser.write(x)"
   ]
  },
  {
   "cell_type": "code",
   "execution_count": 110,
   "metadata": {},
   "outputs": [
    {
     "data": {
      "text/plain": [
       "b''"
      ]
     },
     "execution_count": 110,
     "metadata": {},
     "output_type": "execute_result"
    }
   ],
   "source": [
    "ser.read(3)"
   ]
  }
 ],
 "metadata": {
  "kernel_info": {
   "name": "python3"
  },
  "kernelspec": {
   "display_name": "Python 3",
   "language": "python",
   "name": "python3"
  },
  "language_info": {
   "codemirror_mode": {
    "name": "ipython",
    "version": 3
   },
   "file_extension": ".py",
   "mimetype": "text/x-python",
   "name": "python",
   "nbconvert_exporter": "python",
   "pygments_lexer": "ipython3",
   "version": "3.5.3"
  },
  "nteract": {
   "version": "0.11.6"
  }
 },
 "nbformat": 4,
 "nbformat_minor": 4
}
