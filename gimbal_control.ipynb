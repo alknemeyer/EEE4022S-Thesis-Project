{
  "cells": [
    {
      "cell_type": "markdown",
      "source": [
        "# SimpleBGC controller\n",
        "\nImplemented using the serial API specified in www.basecamelectronics.com/serialapi/"
      ],
      "metadata": {}
    },
    {
      "cell_type": "code",
      "source": [
        "import numpy as np"
      ],
      "outputs": [],
      "execution_count": 41,
      "metadata": {
        "collapsed": false,
        "outputHidden": false,
        "inputHidden": false
      }
    },
    {
      "cell_type": "code",
      "source": [
        "import serial\n",
        "# ser = serial.Serial('/dev/ttyUSB0',\n",
        "#                     baudrate=115200,\n",
        "#                     parity=serial.PARITY_NONE,\n",
        "#                     stopbits=serial.STOPBITS_ONE,\n",
        "#                     bytesize=serial.EIGHTBITS,\n",
        "#                     timeout=0.2)"
      ],
      "outputs": [],
      "execution_count": 42,
      "metadata": {
        "collapsed": false,
        "outputHidden": false,
        "inputHidden": false
      }
    },
    {
      "cell_type": "code",
      "source": [
        "L = {\n",
        "    'CMD_READ_PARAMS': 82,\n",
        "    'CMD_WRITE_PARAMS': 87,\n",
        "    'CMD_REALTIME_DATA': 68,\n",
        "    'CMD_BOARD_INFO': 86,\n",
        "    'CMD_CALIB_ACC': 65,\n",
        "    'CMD_CALIB_GYRO': 103,\n",
        "    'CMD_CALIB_EXT_GAIN': 71,\n",
        "    'CMD_USE_DEFAULTS': 70,\n",
        "    'CMD_CALIB_POLES': 80,\n",
        "    'CMD_RESET': 114,\n",
        "    'CMD_HELPER_DATA': 72,\n",
        "    'CMD_CALIB_OFFSET': 79,\n",
        "    'CMD_CALIB_BAT': 66,\n",
        "    'CMD_MOTORS_ON': 77,\n",
        "    'CMD_MOTORS_OFF': 109,\n",
        "    'CMD_CONTROL': 67,\n",
        "    'CMD_TRIGGER_PIN': 84,\n",
        "    'CMD_EXECUTE_MENU': 69,\n",
        "    'CMD_GET_ANGLES': 73,\n",
        "    'CMD_CONFIRM': 67,\n",
        "    'CMD_BOARD_INFO_3': 20,\n",
        "    'CMD_READ_PARAMS_3': 21,\n",
        "    'CMD_WRITE_PARAMS_3': 22,\n",
        "    'CMD_REALTIME_DATA_3': 23,\n",
        "    'CMD_REALTIME_DATA_4': 25,\n",
        "    'CMD_SELECT_IMU_3': 24,\n",
        "    'CMD_READ_PROFILE_NAMES': 28,\n",
        "    'CMD_WRITE_PROFILE_NAMES': 29,\n",
        "    'CMD_QUEUE_PARAMS_INFO_3': 30,\n",
        "    'CMD_SET_ADJ_VARS_VAL': 31,\n",
        "    'CMD_SAVE_PARAMS_3': 32,\n",
        "    'CMD_READ_PARAMS_EXT': 33,\n",
        "    'CMD_WRITE_PARAMS_EXT': 34,\n",
        "    'CMD_AUTO_PID': 35,\n",
        "    'CMD_SERVO_OUT': 36,\n",
        "    'CMD_I2C_WRITE_REG_BUF': 39,\n",
        "    'CMD_I2C_READ_REG_BUF': 40,\n",
        "    'CMD_WRITE_EXTERNAL_DATA': 41,\n",
        "    'CMD_READ_EXTERNAL_DATA': 42,\n",
        "    'CMD_READ_ADJ_VARS_CFG': 43,\n",
        "    'CMD_WRITE_ADJ_VARS_CFG': 44,\n",
        "    'CMD_API_VIRT_CH_CONTROL': 45,\n",
        "    'CMD_ADJ_VARS_STATE': 46,\n",
        "    'CMD_EEPROM_WRITE': 47,\n",
        "    'CMD_EEPROM_READ': 48,\n",
        "    'CMD_CALIB_INFO': 49,\n",
        "    'CMD_BOOT_MODE_3': 51,\n",
        "    'CMD_SYSTEM_STATE': 52,\n",
        "    'CMD_READ_FILE': 53,\n",
        "    'CMD_WRITE_FILE': 54,\n",
        "    'CMD_FS_CLEAR_ALL': 55,\n",
        "    'CMD_AHRS_HELPER': 56,\n",
        "    'CMD_RUN_SCRIPT': 57,\n",
        "    'CMD_SCRIPT_DEBUG': 58,\n",
        "    'CMD_CALIB_MAG': 59,\n",
        "    'CMD_GET_ANGLES_EXT': 61,\n",
        "    'CMD_READ_PARAMS_EXT2': 62,\n",
        "    'CMD_WRITE_PARAMS_EXT2': 63,\n",
        "    'CMD_GET_ADJ_VARS_VAL': 64,\n",
        "    'CMD_CALIB_MOTOR_MAG_LINK': 74,\n",
        "    'CMD_GYRO_CORRECTION': 75,\n",
        "    'CMD_DATA_STREAM_INTERVAL': 85,\n",
        "    'CMD_REALTIME_DATA_CUSTOM': 88,\n",
        "    'CMD_BEEP_SOUND': 89,\n",
        "    'CMD_ENCODERS_CALIB_OFFSET_4': 26,\n",
        "    'CMD_ENCODERS_CALIB_FLD_OFFSET_4': 27,\n",
        "    'CMD_CONTROL_CONFIG': 90,\n",
        "    'CMD_CALIB_ORIENT_CORR': 91,\n",
        "    'CMD_COGGING_CALIB_INFO': 92,\n",
        "    'CMD_CALIB_COGGING': 93,\n",
        "    'CMD_CALIB_ACC_EXT_REF': 94,\n",
        "    'CMD_PROFILE_SET': 95,\n",
        "    'CMD_CAN_DEVICE_SCAN': 96,\n",
        "    'CMD_CAN_DRV_HARD_PARAMS': 97,\n",
        "    'CMD_CAN_DRV_STATE': 98,\n",
        "    'CMD_CAN_DRV_CALIBRATE': 99,\n",
        "    'CMD_READ_RC_INPUTS': 100,\n",
        "    'CMD_REALTIME_DATA_CAN_DRV': 101,\n",
        "    'CMD_EVENT': 102,\n",
        "    'CMD_READ_PARAMS_EXT3': 104,\n",
        "    'CMD_WRITE_PARAMS_EXT3': 105,\n",
        "    'CMD_EXT_IMU_DEBUG_INFO': 106,\n",
        "    'CMD_SET_DEBUG_PORT': 249,\n",
        "    'CMD_MAVLINK_INFO': 250,\n",
        "    'CMD_MAVLINK_DEBUG': 251,\n",
        "    'CMD_DEBUG_VARS_INFO_3': 253,\n",
        "    'CMD_DEBUG_VARS_3': 254,\n",
        "    'CMD_ERROR': 255\n",
        "}\n"
      ],
      "outputs": [],
      "execution_count": 43,
      "metadata": {
        "collapsed": false,
        "outputHidden": false,
        "inputHidden": true,
        "tags": []
      }
    },
    {
      "cell_type": "code",
      "source": [
        "def as_int(b):\n",
        "    \"\"\" converts b (a bytearray) into a signed integer\n",
        "        assumes little endian \"\"\"\n",
        "    return int.from_bytes(b, byteorder='little', signed=True)\n",
        "\n",
        "def as_uint(b):\n",
        "    \"\"\" converts b (a bytearray) into an unsigned integer\n",
        "        assumes little endian \"\"\"\n",
        "    return int.from_bytes(b, byteorder='little', signed=False)"
      ],
      "outputs": [],
      "execution_count": 44,
      "metadata": {}
    },
    {
      "cell_type": "code",
      "source": [
        "def send_data(command_ID, data=None, data_size=0):\n",
        "    \"\"\" Compose and send a command to the SimpleBGC\n",
        "    Inputs:\n",
        "        command_ID: a string, such as 'CMD_GET_ANGLES'\n",
        "        data: a list of numpy numbers\n",
        "        data_size: the number of bytes in data\n",
        "\n",
        "    Format:\n",
        "        head:\n",
        "            start_char = ord('>') = 0x3E. 1u\n",
        "            command_ID. 1u\n",
        "            data_size. 1u. Can be 0\n",
        "            header_checksum =  (command ID + data_size) % 255. 1u\n",
        "\n",
        "        body:\n",
        "            array_of_bytes_of_length_data_size\n",
        "            body_checksum. 1u\n",
        "    \"\"\"\n",
        "    # compose head:\n",
        "    start_char = np.uint8(ord('>'))\n",
        "    header_checksum = np.uint8((L[command_ID] + data_size) % 0xFF)\n",
        "    \n",
        "    message = bytearray()\n",
        "    message.append(start_char)\n",
        "    message.append(L[command_ID])\n",
        "    message.append(data_size)\n",
        "    message.append(header_checksum)\n",
        "\n",
        "    if data_size > 0:\n",
        "        for d in data:\n",
        "            if d.nbytes == 1:\n",
        "                message.append(d)\n",
        "            elif d.nbytes == 2:\n",
        "                d_bytes = d.tobytes()\n",
        "                print(f'{d}\\t-> {d_bytes}')\n",
        "                message.append(d_bytes[0])  # working with little endian\n",
        "                message.append(d_bytes[1])\n",
        "\n",
        "    # ser.write(message)\n",
        "    \n",
        "    return message"
      ],
      "outputs": [],
      "execution_count": 45,
      "metadata": {
        "collapsed": false,
        "outputHidden": false,
        "inputHidden": false
      }
    },
    {
      "cell_type": "code",
      "source": [
        "def send_angle_command(roll, pitch, yaw):\n",
        "    \"\"\" send an angle command to the gimbal\n",
        "        roll, pitch and yaw are in degrees \"\"\"\n",
        "\n",
        "    scaling = 0.02197265625  # units/degree\n",
        "    message = [\n",
        "        np.uint8(1),                # CONTROL_MODE = MODE_ANGLE. do this three times for three axis??\n",
        "        np.int16(0),                # roll speed\n",
        "        np.int16(roll/scaling),     # roll angle\n",
        "        np.int16(0),                # pitch speed\n",
        "        np.int16(pitch/scaling),    # pitch angle\n",
        "        np.int16(0),                # yaw speed\n",
        "        np.int16(yaw/scaling)       # yaw angle\n",
        "    ]\n",
        "    return send_data('CMD_CONTROL', message, 13)"
      ],
      "outputs": [],
      "execution_count": 46,
      "metadata": {
        "collapsed": false,
        "outputHidden": false,
        "inputHidden": false
      }
    },
    {
      "cell_type": "code",
      "source": [
        "msg = send_angle_command(-0.02197265625*2, -180, 360)\n",
        "\nmsg.hex()"
      ],
      "outputs": [
        {
          "output_type": "stream",
          "name": "stdout",
          "text": [
            "0\t-> b'\\x00\\x00'\n",
            "-2\t-> b'\\xfe\\xff'\n",
            "0\t-> b'\\x00\\x00'\n",
            "-8192\t-> b'\\x00\\xe0'\n",
            "0\t-> b'\\x00\\x00'\n",
            "16384\t-> b'\\x00@'\n"
          ]
        },
        {
          "output_type": "execute_result",
          "execution_count": 47,
          "data": {
            "text/plain": [
              "'3e430d50010000feff000000e000000040'"
            ]
          },
          "metadata": {}
        }
      ],
      "execution_count": 47,
      "metadata": {
        "collapsed": false,
        "outputHidden": false,
        "inputHidden": false
      }
    },
    {
      "cell_type": "code",
      "source": [
        "def get_motor_angles():\n",
        "    \"\"\" get the gimbal angle, as measured by the IMU\n",
        "        units are in degrees \"\"\"\n",
        "    msg = send_data('CMD_GET_ANGLES')\n",
        "    return msg\n",
        "    \n",
        "    # the gimbal returns 18 bytes of data\n",
        "    # 3 axis, each having an angle, target angle and target speed\n",
        "    gimbal_state = ser.read(18)  # read up to 18 bytes\n",
        "\n",
        "    # only interested in the angles\n",
        "    # they each arrive in 14-bit resolution and require scaling\n",
        "    scaling = 0.02197265625  # scales to degrees\n",
        "    IMU = {\n",
        "        'roll': as_int(gimbal_state[0:2]) * scaling,\n",
        "        'pitch': as_int(gimbal_state[6:8]) * scaling,\n",
        "        'yaw': as_int(gimbal_state[12:14] * scaling)\n",
        "    }\n",
        "    \n",
        "    return IMU"
      ],
      "outputs": [],
      "execution_count": 48,
      "metadata": {
        "collapsed": false,
        "outputHidden": false,
        "inputHidden": false
      }
    },
    {
      "cell_type": "code",
      "source": [
        "msg = get_motor_angles()\n",
        "msg.hex()"
      ],
      "outputs": [
        {
          "output_type": "execute_result",
          "execution_count": 49,
          "data": {
            "text/plain": [
              "'3e490049'"
            ]
          },
          "metadata": {}
        }
      ],
      "execution_count": 49,
      "metadata": {
        "collapsed": false,
        "outputHidden": false,
        "inputHidden": false
      }
    },
    {
      "cell_type": "code",
      "source": [
        "def turn_off_motors():\n",
        "    return send_data('CMD_MOTORS_OFF')"
      ],
      "outputs": [],
      "execution_count": 50,
      "metadata": {
        "collapsed": false,
        "outputHidden": false,
        "inputHidden": false
      }
    },
    {
      "cell_type": "code",
      "source": [
        "msg = turn_off_motors()\n",
        "msg.hex()"
      ],
      "outputs": [
        {
          "output_type": "execute_result",
          "execution_count": 51,
          "data": {
            "text/plain": [
              "'3e6d006d'"
            ]
          },
          "metadata": {}
        }
      ],
      "execution_count": 51,
      "metadata": {
        "collapsed": false,
        "outputHidden": false,
        "inputHidden": false
      }
    },
    {
      "cell_type": "code",
      "source": [
        "import pandas as pd\n",
        "import random\n",
        "\n",
        "pd.options.display.html.table_schema = True\n",
        "\n",
        "time = np.linspace(0, 4.9)\n",
        "data = np.sin(time) + random.randint(-5, 5)/4\n",
        "data2 = [np.sin(x)*np.cos(x) for x in time]\n",
        "names = [f'name_{i}' for i in time]\n",
        "dct = {'time': time, 'data': data, 'data2': data2, 'names': names}\n",
        "df = pd.DataFrame(dct)\n",
        "\ndf"
      ],
      "outputs": [
        {
          "output_type": "execute_result",
          "execution_count": 60,
          "data": {
            "text/plain": [
              "    time      data     data2                     names\n",
              "0    0.0  0.000000  0.000000                  name_0.0\n",
              "1    0.1  0.099833  0.099335                  name_0.1\n",
              "2    0.2  0.198669  0.194709                  name_0.2\n",
              "3    0.3  0.295520  0.282321  name_0.30000000000000004\n",
              "4    0.4  0.389418  0.358678                  name_0.4\n",
              "5    0.5  0.479426  0.420735                  name_0.5\n",
              "6    0.6  0.564642  0.466020   name_0.6000000000000001\n",
              "7    0.7  0.644218  0.492725   name_0.7000000000000001\n",
              "8    0.8  0.717356  0.499787                  name_0.8\n",
              "9    0.9  0.783327  0.486924                  name_0.9\n",
              "10   1.0  0.841471  0.454649                  name_1.0\n",
              "11   1.1  0.891207  0.404248                  name_1.1\n",
              "12   1.2  0.932039  0.337732   name_1.2000000000000002\n",
              "13   1.3  0.963558  0.257751                  name_1.3\n",
              "14   1.4  0.985450  0.167494   name_1.4000000000000001\n",
              "15   1.5  0.997495  0.070560                  name_1.5\n",
              "16   1.6  0.999574 -0.029187                  name_1.6\n",
              "17   1.7  0.991665 -0.127771   name_1.7000000000000002\n",
              "18   1.8  0.973848 -0.221260                  name_1.8\n",
              "19   1.9  0.946300 -0.305929   name_1.9000000000000001\n",
              "20   2.0  0.909297 -0.378401                  name_2.0\n",
              "21   2.1  0.863209 -0.435788                  name_2.1\n",
              "22   2.2  0.808496 -0.475801                  name_2.2\n",
              "23   2.3  0.745705 -0.496846   name_2.3000000000000003\n",
              "24   2.4  0.675463 -0.498082   name_2.4000000000000004\n",
              "25   2.5  0.598472 -0.479462                  name_2.5\n",
              "26   2.6  0.515501 -0.441727                  name_2.6\n",
              "27   2.7  0.427380 -0.386382                  name_2.7\n",
              "28   2.8  0.334988 -0.315633   name_2.8000000000000003\n",
              "29   2.9  0.239249 -0.232301   name_2.9000000000000004\n",
              "30   3.0  0.141120 -0.139708                  name_3.0\n",
              "31   3.1  0.041581 -0.041545                  name_3.1\n",
              "32   3.2 -0.058374  0.058275                  name_3.2\n",
              "33   3.3 -0.157746  0.155771   name_3.3000000000000003\n",
              "34   3.4 -0.255541  0.247057   name_3.4000000000000004\n",
              "35   3.5 -0.350783  0.328493                  name_3.5\n",
              "36   3.6 -0.442520  0.396834                  name_3.6\n",
              "37   3.7 -0.529836  0.449354                  name_3.7\n",
              "38   3.8 -0.611858  0.483960   name_3.8000000000000003\n",
              "39   3.9 -0.687766  0.499272   name_3.9000000000000004\n",
              "40   4.0 -0.756802  0.494679                  name_4.0\n",
              "41   4.1 -0.818277  0.470365   name_4.1000000000000005\n",
              "42   4.2 -0.871576  0.427299                  name_4.2\n",
              "43   4.3 -0.916166  0.367199                  name_4.3\n",
              "44   4.4 -0.951602  0.292459                  name_4.4\n",
              "45   4.5 -0.977530  0.206059                  name_4.5\n",
              "46   4.6 -0.993691  0.111445   name_4.6000000000000005\n",
              "47   4.7 -0.999923  0.012388                  name_4.7\n",
              "48   4.8 -0.996165 -0.087163    name_4.800000000000001\n",
              "49   4.9 -0.982453 -0.183240                  name_4.9"
            ],
            "text/html": [
              "<div>\n",
              "<style scoped>\n",
              "    .dataframe tbody tr th:only-of-type {\n",
              "        vertical-align: middle;\n",
              "    }\n",
              "\n",
              "    .dataframe tbody tr th {\n",
              "        vertical-align: top;\n",
              "    }\n",
              "\n",
              "    .dataframe thead th {\n",
              "        text-align: right;\n",
              "    }\n",
              "</style>\n",
              "<table border=\"1\" class=\"dataframe\">\n",
              "  <thead>\n",
              "    <tr style=\"text-align: right;\">\n",
              "      <th></th>\n",
              "      <th>time</th>\n",
              "      <th>data</th>\n",
              "      <th>data2</th>\n",
              "      <th>names</th>\n",
              "    </tr>\n",
              "  </thead>\n",
              "  <tbody>\n",
              "    <tr>\n",
              "      <th>0</th>\n",
              "      <td>0.0</td>\n",
              "      <td>0.000000</td>\n",
              "      <td>0.000000</td>\n",
              "      <td>name_0.0</td>\n",
              "    </tr>\n",
              "    <tr>\n",
              "      <th>1</th>\n",
              "      <td>0.1</td>\n",
              "      <td>0.099833</td>\n",
              "      <td>0.099335</td>\n",
              "      <td>name_0.1</td>\n",
              "    </tr>\n",
              "    <tr>\n",
              "      <th>2</th>\n",
              "      <td>0.2</td>\n",
              "      <td>0.198669</td>\n",
              "      <td>0.194709</td>\n",
              "      <td>name_0.2</td>\n",
              "    </tr>\n",
              "    <tr>\n",
              "      <th>3</th>\n",
              "      <td>0.3</td>\n",
              "      <td>0.295520</td>\n",
              "      <td>0.282321</td>\n",
              "      <td>name_0.30000000000000004</td>\n",
              "    </tr>\n",
              "    <tr>\n",
              "      <th>4</th>\n",
              "      <td>0.4</td>\n",
              "      <td>0.389418</td>\n",
              "      <td>0.358678</td>\n",
              "      <td>name_0.4</td>\n",
              "    </tr>\n",
              "    <tr>\n",
              "      <th>5</th>\n",
              "      <td>0.5</td>\n",
              "      <td>0.479426</td>\n",
              "      <td>0.420735</td>\n",
              "      <td>name_0.5</td>\n",
              "    </tr>\n",
              "    <tr>\n",
              "      <th>6</th>\n",
              "      <td>0.6</td>\n",
              "      <td>0.564642</td>\n",
              "      <td>0.466020</td>\n",
              "      <td>name_0.6000000000000001</td>\n",
              "    </tr>\n",
              "    <tr>\n",
              "      <th>7</th>\n",
              "      <td>0.7</td>\n",
              "      <td>0.644218</td>\n",
              "      <td>0.492725</td>\n",
              "      <td>name_0.7000000000000001</td>\n",
              "    </tr>\n",
              "    <tr>\n",
              "      <th>8</th>\n",
              "      <td>0.8</td>\n",
              "      <td>0.717356</td>\n",
              "      <td>0.499787</td>\n",
              "      <td>name_0.8</td>\n",
              "    </tr>\n",
              "    <tr>\n",
              "      <th>9</th>\n",
              "      <td>0.9</td>\n",
              "      <td>0.783327</td>\n",
              "      <td>0.486924</td>\n",
              "      <td>name_0.9</td>\n",
              "    </tr>\n",
              "    <tr>\n",
              "      <th>10</th>\n",
              "      <td>1.0</td>\n",
              "      <td>0.841471</td>\n",
              "      <td>0.454649</td>\n",
              "      <td>name_1.0</td>\n",
              "    </tr>\n",
              "    <tr>\n",
              "      <th>11</th>\n",
              "      <td>1.1</td>\n",
              "      <td>0.891207</td>\n",
              "      <td>0.404248</td>\n",
              "      <td>name_1.1</td>\n",
              "    </tr>\n",
              "    <tr>\n",
              "      <th>12</th>\n",
              "      <td>1.2</td>\n",
              "      <td>0.932039</td>\n",
              "      <td>0.337732</td>\n",
              "      <td>name_1.2000000000000002</td>\n",
              "    </tr>\n",
              "    <tr>\n",
              "      <th>13</th>\n",
              "      <td>1.3</td>\n",
              "      <td>0.963558</td>\n",
              "      <td>0.257751</td>\n",
              "      <td>name_1.3</td>\n",
              "    </tr>\n",
              "    <tr>\n",
              "      <th>14</th>\n",
              "      <td>1.4</td>\n",
              "      <td>0.985450</td>\n",
              "      <td>0.167494</td>\n",
              "      <td>name_1.4000000000000001</td>\n",
              "    </tr>\n",
              "    <tr>\n",
              "      <th>15</th>\n",
              "      <td>1.5</td>\n",
              "      <td>0.997495</td>\n",
              "      <td>0.070560</td>\n",
              "      <td>name_1.5</td>\n",
              "    </tr>\n",
              "    <tr>\n",
              "      <th>16</th>\n",
              "      <td>1.6</td>\n",
              "      <td>0.999574</td>\n",
              "      <td>-0.029187</td>\n",
              "      <td>name_1.6</td>\n",
              "    </tr>\n",
              "    <tr>\n",
              "      <th>17</th>\n",
              "      <td>1.7</td>\n",
              "      <td>0.991665</td>\n",
              "      <td>-0.127771</td>\n",
              "      <td>name_1.7000000000000002</td>\n",
              "    </tr>\n",
              "    <tr>\n",
              "      <th>18</th>\n",
              "      <td>1.8</td>\n",
              "      <td>0.973848</td>\n",
              "      <td>-0.221260</td>\n",
              "      <td>name_1.8</td>\n",
              "    </tr>\n",
              "    <tr>\n",
              "      <th>19</th>\n",
              "      <td>1.9</td>\n",
              "      <td>0.946300</td>\n",
              "      <td>-0.305929</td>\n",
              "      <td>name_1.9000000000000001</td>\n",
              "    </tr>\n",
              "    <tr>\n",
              "      <th>20</th>\n",
              "      <td>2.0</td>\n",
              "      <td>0.909297</td>\n",
              "      <td>-0.378401</td>\n",
              "      <td>name_2.0</td>\n",
              "    </tr>\n",
              "    <tr>\n",
              "      <th>21</th>\n",
              "      <td>2.1</td>\n",
              "      <td>0.863209</td>\n",
              "      <td>-0.435788</td>\n",
              "      <td>name_2.1</td>\n",
              "    </tr>\n",
              "    <tr>\n",
              "      <th>22</th>\n",
              "      <td>2.2</td>\n",
              "      <td>0.808496</td>\n",
              "      <td>-0.475801</td>\n",
              "      <td>name_2.2</td>\n",
              "    </tr>\n",
              "    <tr>\n",
              "      <th>23</th>\n",
              "      <td>2.3</td>\n",
              "      <td>0.745705</td>\n",
              "      <td>-0.496846</td>\n",
              "      <td>name_2.3000000000000003</td>\n",
              "    </tr>\n",
              "    <tr>\n",
              "      <th>24</th>\n",
              "      <td>2.4</td>\n",
              "      <td>0.675463</td>\n",
              "      <td>-0.498082</td>\n",
              "      <td>name_2.4000000000000004</td>\n",
              "    </tr>\n",
              "    <tr>\n",
              "      <th>25</th>\n",
              "      <td>2.5</td>\n",
              "      <td>0.598472</td>\n",
              "      <td>-0.479462</td>\n",
              "      <td>name_2.5</td>\n",
              "    </tr>\n",
              "    <tr>\n",
              "      <th>26</th>\n",
              "      <td>2.6</td>\n",
              "      <td>0.515501</td>\n",
              "      <td>-0.441727</td>\n",
              "      <td>name_2.6</td>\n",
              "    </tr>\n",
              "    <tr>\n",
              "      <th>27</th>\n",
              "      <td>2.7</td>\n",
              "      <td>0.427380</td>\n",
              "      <td>-0.386382</td>\n",
              "      <td>name_2.7</td>\n",
              "    </tr>\n",
              "    <tr>\n",
              "      <th>28</th>\n",
              "      <td>2.8</td>\n",
              "      <td>0.334988</td>\n",
              "      <td>-0.315633</td>\n",
              "      <td>name_2.8000000000000003</td>\n",
              "    </tr>\n",
              "    <tr>\n",
              "      <th>29</th>\n",
              "      <td>2.9</td>\n",
              "      <td>0.239249</td>\n",
              "      <td>-0.232301</td>\n",
              "      <td>name_2.9000000000000004</td>\n",
              "    </tr>\n",
              "    <tr>\n",
              "      <th>30</th>\n",
              "      <td>3.0</td>\n",
              "      <td>0.141120</td>\n",
              "      <td>-0.139708</td>\n",
              "      <td>name_3.0</td>\n",
              "    </tr>\n",
              "    <tr>\n",
              "      <th>31</th>\n",
              "      <td>3.1</td>\n",
              "      <td>0.041581</td>\n",
              "      <td>-0.041545</td>\n",
              "      <td>name_3.1</td>\n",
              "    </tr>\n",
              "    <tr>\n",
              "      <th>32</th>\n",
              "      <td>3.2</td>\n",
              "      <td>-0.058374</td>\n",
              "      <td>0.058275</td>\n",
              "      <td>name_3.2</td>\n",
              "    </tr>\n",
              "    <tr>\n",
              "      <th>33</th>\n",
              "      <td>3.3</td>\n",
              "      <td>-0.157746</td>\n",
              "      <td>0.155771</td>\n",
              "      <td>name_3.3000000000000003</td>\n",
              "    </tr>\n",
              "    <tr>\n",
              "      <th>34</th>\n",
              "      <td>3.4</td>\n",
              "      <td>-0.255541</td>\n",
              "      <td>0.247057</td>\n",
              "      <td>name_3.4000000000000004</td>\n",
              "    </tr>\n",
              "    <tr>\n",
              "      <th>35</th>\n",
              "      <td>3.5</td>\n",
              "      <td>-0.350783</td>\n",
              "      <td>0.328493</td>\n",
              "      <td>name_3.5</td>\n",
              "    </tr>\n",
              "    <tr>\n",
              "      <th>36</th>\n",
              "      <td>3.6</td>\n",
              "      <td>-0.442520</td>\n",
              "      <td>0.396834</td>\n",
              "      <td>name_3.6</td>\n",
              "    </tr>\n",
              "    <tr>\n",
              "      <th>37</th>\n",
              "      <td>3.7</td>\n",
              "      <td>-0.529836</td>\n",
              "      <td>0.449354</td>\n",
              "      <td>name_3.7</td>\n",
              "    </tr>\n",
              "    <tr>\n",
              "      <th>38</th>\n",
              "      <td>3.8</td>\n",
              "      <td>-0.611858</td>\n",
              "      <td>0.483960</td>\n",
              "      <td>name_3.8000000000000003</td>\n",
              "    </tr>\n",
              "    <tr>\n",
              "      <th>39</th>\n",
              "      <td>3.9</td>\n",
              "      <td>-0.687766</td>\n",
              "      <td>0.499272</td>\n",
              "      <td>name_3.9000000000000004</td>\n",
              "    </tr>\n",
              "    <tr>\n",
              "      <th>40</th>\n",
              "      <td>4.0</td>\n",
              "      <td>-0.756802</td>\n",
              "      <td>0.494679</td>\n",
              "      <td>name_4.0</td>\n",
              "    </tr>\n",
              "    <tr>\n",
              "      <th>41</th>\n",
              "      <td>4.1</td>\n",
              "      <td>-0.818277</td>\n",
              "      <td>0.470365</td>\n",
              "      <td>name_4.1000000000000005</td>\n",
              "    </tr>\n",
              "    <tr>\n",
              "      <th>42</th>\n",
              "      <td>4.2</td>\n",
              "      <td>-0.871576</td>\n",
              "      <td>0.427299</td>\n",
              "      <td>name_4.2</td>\n",
              "    </tr>\n",
              "    <tr>\n",
              "      <th>43</th>\n",
              "      <td>4.3</td>\n",
              "      <td>-0.916166</td>\n",
              "      <td>0.367199</td>\n",
              "      <td>name_4.3</td>\n",
              "    </tr>\n",
              "    <tr>\n",
              "      <th>44</th>\n",
              "      <td>4.4</td>\n",
              "      <td>-0.951602</td>\n",
              "      <td>0.292459</td>\n",
              "      <td>name_4.4</td>\n",
              "    </tr>\n",
              "    <tr>\n",
              "      <th>45</th>\n",
              "      <td>4.5</td>\n",
              "      <td>-0.977530</td>\n",
              "      <td>0.206059</td>\n",
              "      <td>name_4.5</td>\n",
              "    </tr>\n",
              "    <tr>\n",
              "      <th>46</th>\n",
              "      <td>4.6</td>\n",
              "      <td>-0.993691</td>\n",
              "      <td>0.111445</td>\n",
              "      <td>name_4.6000000000000005</td>\n",
              "    </tr>\n",
              "    <tr>\n",
              "      <th>47</th>\n",
              "      <td>4.7</td>\n",
              "      <td>-0.999923</td>\n",
              "      <td>0.012388</td>\n",
              "      <td>name_4.7</td>\n",
              "    </tr>\n",
              "    <tr>\n",
              "      <th>48</th>\n",
              "      <td>4.8</td>\n",
              "      <td>-0.996165</td>\n",
              "      <td>-0.087163</td>\n",
              "      <td>name_4.800000000000001</td>\n",
              "    </tr>\n",
              "    <tr>\n",
              "      <th>49</th>\n",
              "      <td>4.9</td>\n",
              "      <td>-0.982453</td>\n",
              "      <td>-0.183240</td>\n",
              "      <td>name_4.9</td>\n",
              "    </tr>\n",
              "  </tbody>\n",
              "</table>\n",
              "</div>"
            ],
            "application/vnd.dataresource+json": {
              "schema": {
                "fields": [
                  {
                    "name": "index",
                    "type": "integer"
                  },
                  {
                    "name": "time",
                    "type": "number"
                  },
                  {
                    "name": "data",
                    "type": "number"
                  },
                  {
                    "name": "data2",
                    "type": "number"
                  },
                  {
                    "name": "names",
                    "type": "string"
                  }
                ],
                "primaryKey": [
                  "index"
                ],
                "pandas_version": "0.20.0"
              },
              "data": [
                {
                  "index": 0,
                  "time": 0,
                  "data": 0,
                  "data2": 0,
                  "names": "name_0.0"
                },
                {
                  "index": 1,
                  "time": 0.1,
                  "data": 0.0998334166,
                  "data2": 0.0993346654,
                  "names": "name_0.1"
                },
                {
                  "index": 2,
                  "time": 0.2,
                  "data": 0.1986693308,
                  "data2": 0.1947091712,
                  "names": "name_0.2"
                },
                {
                  "index": 3,
                  "time": 0.3,
                  "data": 0.2955202067,
                  "data2": 0.2823212367,
                  "names": "name_0.30000000000000004"
                },
                {
                  "index": 4,
                  "time": 0.4,
                  "data": 0.3894183423,
                  "data2": 0.3586780454,
                  "names": "name_0.4"
                },
                {
                  "index": 5,
                  "time": 0.5,
                  "data": 0.4794255386,
                  "data2": 0.4207354924,
                  "names": "name_0.5"
                },
                {
                  "index": 6,
                  "time": 0.6,
                  "data": 0.5646424734,
                  "data2": 0.466019543,
                  "names": "name_0.6000000000000001"
                },
                {
                  "index": 7,
                  "time": 0.7,
                  "data": 0.6442176872,
                  "data2": 0.492724865,
                  "names": "name_0.7000000000000001"
                },
                {
                  "index": 8,
                  "time": 0.8,
                  "data": 0.7173560909,
                  "data2": 0.4997868015,
                  "names": "name_0.8"
                },
                {
                  "index": 9,
                  "time": 0.9,
                  "data": 0.7833269096,
                  "data2": 0.4869238154,
                  "names": "name_0.9"
                },
                {
                  "index": 10,
                  "time": 1,
                  "data": 0.8414709848,
                  "data2": 0.4546487134,
                  "names": "name_1.0"
                },
                {
                  "index": 11,
                  "time": 1.1,
                  "data": 0.8912073601,
                  "data2": 0.4042482019,
                  "names": "name_1.1"
                },
                {
                  "index": 12,
                  "time": 1.2,
                  "data": 0.932039086,
                  "data2": 0.3377315903,
                  "names": "name_1.2000000000000002"
                },
                {
                  "index": 13,
                  "time": 1.3,
                  "data": 0.9635581854,
                  "data2": 0.2577506859,
                  "names": "name_1.3"
                },
                {
                  "index": 14,
                  "time": 1.4,
                  "data": 0.98544973,
                  "data2": 0.1674940751,
                  "names": "name_1.4000000000000001"
                },
                {
                  "index": 15,
                  "time": 1.5,
                  "data": 0.9974949866,
                  "data2": 0.070560004,
                  "names": "name_1.5"
                },
                {
                  "index": 16,
                  "time": 1.6,
                  "data": 0.999573603,
                  "data2": -0.0291870717,
                  "names": "name_1.6"
                },
                {
                  "index": 17,
                  "time": 1.7,
                  "data": 0.9916648105,
                  "data2": -0.127770551,
                  "names": "name_1.7000000000000002"
                },
                {
                  "index": 18,
                  "time": 1.8,
                  "data": 0.9738476309,
                  "data2": -0.2212602216,
                  "names": "name_1.8"
                },
                {
                  "index": 19,
                  "time": 1.9,
                  "data": 0.9463000877,
                  "data2": -0.3059289455,
                  "names": "name_1.9000000000000001"
                },
                {
                  "index": 20,
                  "time": 2,
                  "data": 0.9092974268,
                  "data2": -0.3784012477,
                  "names": "name_2.0"
                },
                {
                  "index": 21,
                  "time": 2.1,
                  "data": 0.8632093666,
                  "data2": -0.4357878862,
                  "names": "name_2.1"
                },
                {
                  "index": 22,
                  "time": 2.2,
                  "data": 0.8084964038,
                  "data2": -0.4758010369,
                  "names": "name_2.2"
                },
                {
                  "index": 23,
                  "time": 2.3,
                  "data": 0.7457052122,
                  "data2": -0.4968455018,
                  "names": "name_2.3000000000000003"
                },
                {
                  "index": 24,
                  "time": 2.4,
                  "data": 0.6754631806,
                  "data2": -0.4980823044,
                  "names": "name_2.4000000000000004"
                },
                {
                  "index": 25,
                  "time": 2.5,
                  "data": 0.5984721441,
                  "data2": -0.4794621373,
                  "names": "name_2.5"
                },
                {
                  "index": 26,
                  "time": 2.6,
                  "data": 0.5155013718,
                  "data2": -0.4417273279,
                  "names": "name_2.6"
                },
                {
                  "index": 27,
                  "time": 2.7,
                  "data": 0.4273798802,
                  "data2": -0.3863822438,
                  "names": "name_2.7"
                },
                {
                  "index": 28,
                  "time": 2.8,
                  "data": 0.3349881502,
                  "data2": -0.3156333189,
                  "names": "name_2.8000000000000003"
                },
                {
                  "index": 29,
                  "time": 2.9,
                  "data": 0.2392493292,
                  "data2": -0.2323010897,
                  "names": "name_2.9000000000000004"
                },
                {
                  "index": 30,
                  "time": 3,
                  "data": 0.1411200081,
                  "data2": -0.1397077491,
                  "names": "name_3.0"
                },
                {
                  "index": 31,
                  "time": 3.1,
                  "data": 0.0415806624,
                  "data2": -0.0415447014,
                  "names": "name_3.1"
                },
                {
                  "index": 32,
                  "time": 3.2,
                  "data": -0.0583741434,
                  "data2": 0.0582746024,
                  "names": "name_3.2"
                },
                {
                  "index": 33,
                  "time": 3.3,
                  "data": -0.1577456941,
                  "data2": 0.1557706818,
                  "names": "name_3.3000000000000003"
                },
                {
                  "index": 34,
                  "time": 3.4,
                  "data": -0.255541102,
                  "data2": 0.2470566756,
                  "names": "name_3.4000000000000004"
                },
                {
                  "index": 35,
                  "time": 3.5,
                  "data": -0.3507832277,
                  "data2": 0.3284932994,
                  "names": "name_3.5"
                },
                {
                  "index": 36,
                  "time": 3.6,
                  "data": -0.4425204433,
                  "data2": 0.3968339319,
                  "names": "name_3.6"
                },
                {
                  "index": 37,
                  "time": 3.7,
                  "data": -0.5298361409,
                  "data2": 0.4493540479,
                  "names": "name_3.7"
                },
                {
                  "index": 38,
                  "time": 3.8,
                  "data": -0.6118578909,
                  "data2": 0.483959836,
                  "names": "name_3.8000000000000003"
                },
                {
                  "index": 39,
                  "time": 3.9,
                  "data": -0.6877661592,
                  "data2": 0.4992716727,
                  "names": "name_3.9000000000000004"
                },
                {
                  "index": 40,
                  "time": 4,
                  "data": -0.7568024953,
                  "data2": 0.4946791233,
                  "names": "name_4.0"
                },
                {
                  "index": 41,
                  "time": 4.1,
                  "data": -0.8182771111,
                  "data2": 0.4703652783,
                  "names": "name_4.1000000000000005"
                },
                {
                  "index": 42,
                  "time": 4.2,
                  "data": -0.8715757724,
                  "data2": 0.427299454,
                  "names": "name_4.2"
                },
                {
                  "index": 43,
                  "time": 4.3,
                  "data": -0.9161659367,
                  "data2": 0.3671985489,
                  "names": "name_4.3"
                },
                {
                  "index": 44,
                  "time": 4.4,
                  "data": -0.9516020739,
                  "data2": 0.2924585964,
                  "names": "name_4.4"
                },
                {
                  "index": 45,
                  "time": 4.5,
                  "data": -0.9775301177,
                  "data2": 0.2060592426,
                  "names": "name_4.5"
                },
                {
                  "index": 46,
                  "time": 4.6,
                  "data": -0.9936910036,
                  "data2": 0.1114449571,
                  "names": "name_4.6000000000000005"
                },
                {
                  "index": 47,
                  "time": 4.7,
                  "data": -0.9999232576,
                  "data2": 0.0123877127,
                  "names": "name_4.7"
                },
                {
                  "index": 48,
                  "time": 4.8,
                  "data": -0.9961646088,
                  "data2": -0.0871633906,
                  "names": "name_4.800000000000001"
                },
                {
                  "index": 49,
                  "time": 4.9,
                  "data": -0.9824526126,
                  "data2": -0.1832395646,
                  "names": "name_4.9"
                }
              ]
            }
          },
          "metadata": {}
        }
      ],
      "execution_count": 60,
      "metadata": {
        "collapsed": false,
        "outputHidden": false,
        "inputHidden": false
      }
    },
    {
      "cell_type": "code",
      "source": [
        "x"
      ],
      "outputs": [],
      "execution_count": null,
      "metadata": {
        "collapsed": false,
        "outputHidden": false,
        "inputHidden": false
      }
    }
  ],
  "metadata": {
    "kernel_info": {
      "name": "python3"
    },
    "language_info": {
      "name": "python",
      "version": "3.6.3",
      "mimetype": "text/x-python",
      "codemirror_mode": {
        "name": "ipython",
        "version": 3
      },
      "pygments_lexer": "ipython3",
      "nbconvert_exporter": "python",
      "file_extension": ".py"
    },
    "kernelspec": {
      "name": "python3",
      "language": "python",
      "display_name": "Python 3"
    },
    "nteract": {
      "version": "0.11.6"
    }
  },
  "nbformat": 4,
  "nbformat_minor": 4
}