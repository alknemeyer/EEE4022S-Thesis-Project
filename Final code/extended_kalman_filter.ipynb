{
 "cells": [
  {
   "cell_type": "markdown",
   "metadata": {},
   "source": [
    "# Extended Kalman Filter\n",
    "\n",
    "Use uncertain information (sensor data) and knowledge of how the system behaves (educated guess) to understand the state of a system which is continuously changing\n",
    "\n",
    "eg, combine\n",
    "- an intermittent and imprecise GPS signal\n",
    "- prediction of what will _probably_ happen when you enter a certain input, such as 'forward'\n",
    "- noisey but high frequency sensor data from an IMU\n",
    "\n",
    "To get a very accurate estimate of the current position and velocity of a system\n",
    "\n",
    "KF assumes that the variables are random and Gaussian distributed with a mean value $\\mu$ and variance/uncertainty $\\sigma^2$. However, KF relies on the fact that the variables involved are related in some way - eg. position and velocity\n",
    "\n",
    "Following a guide from https://www.bzarg.com/p/how-a-kalman-filter-works-in-pictures/ . Equation numbers correspond with this guide"
   ]
  },
  {
   "cell_type": "code",
   "execution_count": 1,
   "metadata": {
    "inputHidden": false,
    "outputHidden": false
   },
   "outputs": [],
   "source": [
    "import numpy as np"
   ]
  },
  {
   "cell_type": "markdown",
   "metadata": {},
   "source": [
    "## The State Estimate\n",
    "\n",
    "$$ x_k = \\begin{bmatrix} position \\\\ velocity \\end{bmatrix} $$\n",
    "\n",
    "where $x_k$ is the best estimate of the current state and velocity"
   ]
  },
  {
   "cell_type": "markdown",
   "metadata": {},
   "source": [
    "## The Covariance Matrix\n",
    "\n",
    "$$ P = \\begin{bmatrix} \\Sigma_{pp} & \\Sigma_{pv} \\\\ \\Sigma_{vp} & \\Sigma_{vv} \\end{bmatrix}$$\n",
    "\n",
    "where $ \\Sigma_{ij} $ is the degree of variance between the _i'th_ and _j'th_ state variable."
   ]
  },
  {
   "cell_type": "markdown",
   "metadata": {},
   "source": [
    "## The Prediction Matrix, Control Matrix and Control Vector\n",
    "\n",
    "Indicates how we move from one state to the next\n",
    "\n",
    "$$ p_k = p_{k-1} + \\Delta t v_{k-1} + \\frac{1}{2} a \\Delta t^2 $$\n",
    "$$ v_k = v_{k-1} + a \\Delta t$$\n",
    "\n",
    "Thus,\n",
    "\n",
    "$$ \\begin{split} \\hat{x}_k &= \\begin{bmatrix} 1 & \\Delta t \\\\ 0 & 1 \\end{bmatrix}\\hat{x}_{k-1} + \\begin{bmatrix} \\frac{\\Delta t^2}{2} \\\\ \\Delta t \\end{bmatrix} a \\\\ &= F_k\\ \\hat{x}_{k-1} + B_k\\ u_k \\end{split} $$\n",
    "\n",
    "where $F_k$ is the prediction matrix, $B_k$ is the control matrix, and $u_k$ is the control vector\n",
    "\n",
    "$B$ and $u$ represented tracked external influences\n",
    "\n",
    "In other words, the new best estimate is a prediction made from the previous best estimate, plus a correction for known external influences"
   ]
  },
  {
   "cell_type": "markdown",
   "metadata": {},
   "source": [
    "## Factoring in Uncertainty\n",
    "\n",
    "Eg. uncertainty from modelling, noise, etc\n",
    "\n",
    "Update the prediction matrix as follows,\n",
    "\n",
    "$$ P_k = F_k\\ P_{k-1}\\ F_k^T + Q_k$$\n",
    "\n",
    "In other words, the new uncertainty is predicted from the old uncertainty, with some additional uncertainty from the environment"
   ]
  },
  {
   "cell_type": "markdown",
   "metadata": {},
   "source": [
    "## The Sensor Uncertainty Matrix\n",
    "\n",
    "$$ \\mu_{expected} = H_k\\ \\hat{x}_k $$\n",
    "$$ \\Sigma_{expected} = H_k\\ P_k\\ H_k^T $$\n",
    "\n",
    "where $H_k$ is a matrix which models the sensors"
   ]
  },
  {
   "cell_type": "code",
   "execution_count": 3,
   "metadata": {
    "inputHidden": false,
    "outputHidden": false
   },
   "outputs": [],
   "source": [
    "# class ExtendedKalmanFilter():\n",
    "class KalmanFilter():\n",
    "    \"\"\"\n",
    "        x       the state estimate\n",
    "        P       the covariance matrix\n",
    "        F       the prediction matrix\n",
    "        B       the control matrix\n",
    "        K       the Kalman gain matrix\n",
    "    \"\"\"\n",
    "    x = np.array([0, 0])\n",
    "    P = np.array([[0, 0],\n",
    "                  [0, 0]])\n",
    "\n",
    "    def __init__(self, F, B, Q, Ts):\n",
    "        self.F = F\n",
    "        self.B = B\n",
    "        self.Ts = Ts\n",
    "        self.Q = Q\n",
    "    \n",
    "    def predict(self, u):\n",
    "        \"\"\"\n",
    "            get from x[k-1] to x[k] by using knowledge of how the system behaves \n",
    "            x = F*x + B*u\n",
    "            P = F*P*F' + Q\n",
    "        \"\"\"\n",
    "        self.x = (self.F @ self.x) + (self.B @ u)\n",
    "        self.P = (self.F @ self.P @ self.F.T) + self.Q\n",
    "    \n",
    "    def update(self, H, R, z):\n",
    "        \"\"\"\n",
    "            get from x[k] to the best possible estimate of the system by using sensor data\n",
    "            K = P*H' * inv(H*P*H' + R)\n",
    "            x = x + K*(z - H*x)\n",
    "            P = P - K*H*P\n",
    "        \"\"\"\n",
    "        self.K = (self.P @ H.T) @ np.invert(H @ P @ H.T + R)\n",
    "        y = z - H*self.x\n",
    "        self.x = self.x  +  K @ y\n",
    "        self.P = self.P - (K @ H @ self.P)\n",
    "    \n",
    "    def get_predictions(self):\n",
    "        return self.x"
   ]
  },
  {
   "cell_type": "code",
   "execution_count": null,
   "metadata": {},
   "outputs": [],
   "source": [
    "Ts = 0.1\n",
    "F = np.array([[1, T],\n",
    "              [0, 1]])\n",
    "B = np.array([[T**2 / 2],\n",
    "               [T]])\n",
    "\n",
    "KF = KalmanFilter(F, B, Ts)"
   ]
  }
 ],
 "metadata": {
  "kernel_info": {
   "name": "python3"
  },
  "kernelspec": {
   "display_name": "Python 3",
   "language": "python",
   "name": "python3"
  },
  "language_info": {
   "codemirror_mode": {
    "name": "ipython",
    "version": 3
   },
   "file_extension": ".py",
   "mimetype": "text/x-python",
   "name": "python",
   "nbconvert_exporter": "python",
   "pygments_lexer": "ipython3",
   "version": "3.6.3"
  },
  "nteract": {
   "version": "0.11.6"
  }
 },
 "nbformat": 4,
 "nbformat_minor": 4
}
