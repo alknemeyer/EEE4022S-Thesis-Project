{
 "cells": [
  {
   "cell_type": "markdown",
   "metadata": {},
   "source": [
    "# Extended Kalman Filter\n",
    "\n",
    "Use uncertain information (sensor data) and knowledge of how the system behaves (educated guess) to understand the state of a system which is continuously changing\n",
    "\n",
    "eg, combine\n",
    "- an intermittent and imprecise GPS signal\n",
    "- prediction of what will _probably_ happen when you enter a certain input, such as 'forward'\n",
    "- noisey but high frequency sensor data from an IMU\n",
    "\n",
    "to get a very accurate estimate of the current position and velocity of a system\n",
    "\n",
    "KF assumes that the variables are random and Gaussian distributed with a mean value $\\mu$ and variance/uncertainty $\\sigma^2$. However, KF relies on the fact that the variables involved are related in some way - eg. position and velocity\n",
    "\n",
    "Following a guide from https://www.bzarg.com/p/how-a-kalman-filter-works-in-pictures/ . Equation numbers correspond with this guide"
   ]
  },
  {
   "cell_type": "markdown",
   "metadata": {},
   "source": [
    "## The State Estimate\n",
    "\n",
    "$$ x_k = \\begin{bmatrix} \\theta \\\\ \\dot{\\theta} \\end{bmatrix} $$\n",
    "\n",
    "where $\\theta$ is the absolute angle to the object"
   ]
  },
  {
   "cell_type": "markdown",
   "metadata": {},
   "source": [
    "## The Covariance Matrix\n",
    "\n",
    "$$ P = \\begin{bmatrix} \\Sigma_{pp} & \\Sigma_{pv} \\\\ \\Sigma_{vp} & \\Sigma_{vv} \\end{bmatrix}$$\n",
    "\n",
    "where $ \\Sigma_{ij} $ is the degree of variance between the _i'th_ and _j'th_ state variable."
   ]
  },
  {
   "cell_type": "markdown",
   "metadata": {},
   "source": [
    "## The Prediction Matrix, Control Matrix and Control Vector\n",
    "\n",
    "Indicates how we move from one state to the next\n",
    "\n",
    "$$ p_k = p_{k-1} + \\Delta t v_{k-1} + \\frac{1}{2} a \\Delta t^2 $$\n",
    "$$ v_k = v_{k-1} + a \\Delta t$$\n",
    "\n",
    "Thus,\n",
    "\n",
    "$$ \\begin{split} \\hat{x}_k &= \\begin{bmatrix} 1 & \\Delta t \\\\ 0 & 1 \\end{bmatrix}\\hat{x}_{k-1} + \\begin{bmatrix} \\frac{\\Delta t^2}{2} \\\\ \\Delta t \\end{bmatrix} a \\\\ &= F_k\\ \\hat{x}_{k-1} + B_k\\ u_k \\end{split} $$\n",
    "\n",
    "where $F_k$ is the prediction matrix, $B_k$ is the control matrix, and $u_k$ is the control vector\n",
    "\n",
    "$B$ and $u$ represented tracked external influences\n",
    "\n",
    "In other words, the new best estimate is a prediction made from the previous best estimate, plus a correction for known external influences"
   ]
  },
  {
   "cell_type": "markdown",
   "metadata": {},
   "source": [
    "## Factoring in Uncertainty\n",
    "\n",
    "Eg. uncertainty from modelling, noise, etc\n",
    "\n",
    "Update the prediction matrix as follows,\n",
    "\n",
    "$$ P_k = F_k\\ P_{k-1}\\ F_k^T + Q_k$$\n",
    "\n",
    "In other words, the new uncertainty is predicted from the old uncertainty, with some additional uncertainty from the environment"
   ]
  },
  {
   "cell_type": "markdown",
   "metadata": {},
   "source": [
    "## The Sensor Uncertainty Matrix\n",
    "\n",
    "$$ \\mu_{expected} = H_k\\ \\hat{x}_k $$\n",
    "$$ \\Sigma_{expected} = H_k\\ P_k\\ H_k^T $$\n",
    "$$ y = z - h(x) $$\n",
    "\n",
    "where $H_k$ is a matrix which models the sensors"
   ]
  },
  {
   "cell_type": "code",
   "execution_count": null,
   "metadata": {},
   "outputs": [],
   "source": [
    "import numpy as np\n",
    "# import matplotlib.pyplot as plt"
   ]
  },
  {
   "cell_type": "code",
   "execution_count": null,
   "metadata": {
    "inputHidden": false,
    "outputHidden": false
   },
   "outputs": [],
   "source": [
    "class ExtendedKalmanFilter():\n",
    "    \"\"\"\n",
    "        x       the state estimate, θ and θ_dot\n",
    "        P       the covariance matrix\n",
    "        F       the prediction matrix\n",
    "        Q       the [xxxxx] uncertainty matrix\n",
    "        R       the [xxxxx] uncertainty matrix\n",
    "        K       the Kalman gain matrix\n",
    "    \"\"\"\n",
    "    def __init__(self, Ts=0.1, Q=5, R=1, camera_FOV_deg=62.2):\n",
    "        self.Ts = Ts\n",
    "        \n",
    "        self.x = np.array([0, 0])\n",
    "        self.P = np.eye(2)\n",
    "        self.F = np.array([[1, Ts],\n",
    "                           [0,  1]])\n",
    "        self.Q = Q\n",
    "        self.R = R\n",
    "        self.camera_FOV_rad = np.deg2rad(camera_FOV_deg)\n",
    "        \n",
    "        \n",
    "    def predict(self):\n",
    "        \"\"\"\n",
    "            get from x[k-1] to x[k] by using knowledge of how the system behaves \n",
    "            x = F*x\n",
    "            P = F*P*F' + Q\n",
    "        \"\"\"\n",
    "        self.x = self.F @ self.x\n",
    "#         print(f'before: self.P = {self.P}')\n",
    "        self.P = (self.F @ self.P @ self.F.T) + np.array([[0.1, 0], [0, self.Q]])\n",
    "#         self.P = (self.F @ self.P @ self.F.T) + self.Q\n",
    "#         self.P = (self.F @ self.P @ self.F.T) + np.eye(2)*self.Q\n",
    "#         print(f'after: self.P = {self.P}')\n",
    "    \n",
    "    \n",
    "    def update(self, z):\n",
    "        \"\"\"\n",
    "            get from x[k] to the best possible estimate of the system by using sensor data\n",
    "            y = z - h(x)\n",
    "            K = P*H' * inv(H*P*H' + R)\n",
    "            x = x + K*(z - H*x)\n",
    "            P = P - K*H*P\n",
    "            \n",
    "            where z = the pixel position, scaled from -1 (pixel 0) to 1 (end pixel)\n",
    "        \"\"\"\n",
    "        y = z - self.h(self.x)\n",
    "        _h_dash = self.h_dash(self.x)\n",
    "        H = np.array([_h_dash, 1])\n",
    "        \n",
    "        K = (self.P @ H.T) /(H @ self.P @ H.T + self.R)\n",
    "        self.x = self.x  +  K * y\n",
    "#         print(f'before: self.P = {self.P}')\n",
    "        self.P = (np.eye(2) - K @ H) @ self.P\n",
    "#         print(f'after: self.P = {self.P}')\n",
    "    \n",
    "    def h(self, x):\n",
    "        \"\"\" convert from angle to pixel\n",
    "        x is the pixel value [-1, 1]\n",
    "        cam_angle is the angular size of the camera along that dimension \"\"\"\n",
    "        return x[0]#np.tan(x[0]) / np.tan(self.camera_FOV_rad/2)\n",
    "    \n",
    "    def h_dash(self, x):\n",
    "        return 1#(1/np.cos(x[0]))**2 / np.tan(self.camera_FOV_rad/2)\n",
    "    \n",
    "    def get_predictions(self):\n",
    "        return self.x"
   ]
  },
  {
   "cell_type": "code",
   "execution_count": null,
   "metadata": {
    "scrolled": true
   },
   "outputs": [],
   "source": [
    "T_nn = 0.3\n",
    "sim_time = 20  # seconds\n",
    "\n",
    "EKF = ExtendedKalmanFilter(Ts=0.1, Q=5, R=1)\n",
    "\n",
    "x_arr, x_dot_arr, angle_arr, t_arr = [], [], [], []\n",
    "P_00_arr, P_01_arr, P_10_arr, P_11_arr = [], [], [], []\n",
    "angle = 0\n",
    "\n",
    "for t in np.arange(0, sim_time, 0.1):\n",
    "    t_arr.append(t)\n",
    "\n",
    "#     angle = np.sin(t)\n",
    "    angle = -1 + 2*(t > sim_time/2)\n",
    "#     angle += (np.random.random() - 0.5)/2\n",
    "#     if len(angle_arr) > 0: angle = (angle + angle_arr[-1])/2\n",
    "    \n",
    "    if t % T_nn < 0.01: EKF.update(angle)  # + (np.random.random()-0.5)/3\n",
    "    else: EKF.predict()\n",
    "\n",
    "    x_arr.append(EKF.x[0])\n",
    "    x_dot_arr.append(EKF.x[1])\n",
    "    angle_arr.append(angle)\n",
    "    \n",
    "    P = EKF.P\n",
    "    P_00_arr.append(P[0][0]); P_01_arr.append(P[0][1]); P_10_arr.append(P[1][0]); P_11_arr.append(P[1][1])\n",
    "\n",
    "\n",
    "plt.subplot(211)\n",
    "plt.plot(t_arr, angle_arr, label='input angle')\n",
    "plt.plot(t_arr, x_arr, label='EKF angle')\n",
    "plt.legend(); plt.grid()\n",
    "\n",
    "plt.subplot(212)\n",
    "angle_dot_arr = [(x - y) for x, y in zip(angle_arr[1:], angle_arr[0:-1])]  # need to divide by dt\n",
    "angle_dot_arr.append(angle_dot_arr[-1])\n",
    "plt.plot(t_arr, angle_dot_arr, label='input angle velocity')\n",
    "plt.plot(t_arr, x_dot_arr, label='EKF angle velocity')\n",
    "plt.legend(); plt.grid()\n",
    "\n",
    "fig = plt.gcf(); fig.set_size_inches(18.5, 6, forward=True)\n",
    "\n",
    "plt.show()"
   ]
  },
  {
   "cell_type": "code",
   "execution_count": null,
   "metadata": {},
   "outputs": [],
   "source": [
    "plt.subplot(411); plt.plot(P_00_arr, label='P_00'); plt.legend(); plt.grid()\n",
    "plt.subplot(412); plt.plot(P_01_arr, label='P_01'); plt.legend(); plt.grid()\n",
    "plt.subplot(413); plt.plot(P_10_arr, label='P_10'); plt.legend(); plt.grid()\n",
    "plt.subplot(414); plt.plot(P_11_arr, label='P_11'); plt.legend(); plt.grid()\n",
    "fig = plt.gcf(); fig.set_size_inches(18.5, 8, forward=True); plt.show()"
   ]
  },
  {
   "cell_type": "code",
   "execution_count": null,
   "metadata": {},
   "outputs": [],
   "source": []
  }
 ],
 "metadata": {
  "kernel_info": {
   "name": "python3"
  },
  "kernelspec": {
   "display_name": "Python 3",
   "language": "python",
   "name": "python3"
  },
  "language_info": {
   "codemirror_mode": {
    "name": "ipython",
    "version": 3
   },
   "file_extension": ".py",
   "mimetype": "text/x-python",
   "name": "python",
   "nbconvert_exporter": "python",
   "pygments_lexer": "ipython3",
   "version": "3.6.3"
  },
  "nteract": {
   "version": "0.11.6"
  }
 },
 "nbformat": 4,
 "nbformat_minor": 4
}
