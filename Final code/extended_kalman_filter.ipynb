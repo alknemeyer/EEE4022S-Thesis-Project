{
 "cells": [
  {
   "cell_type": "markdown",
   "metadata": {},
   "source": [
    "# Extended Kalman Filter\n",
    "\n",
    "Use uncertain information (sensor data) and knowledge of how the system behaves (educated guess) to understand the state of a system which is continuously changing\n",
    "\n",
    "eg, combine\n",
    "- an intermittent and imprecise GPS signal\n",
    "- prediction of what will _probably_ happen when you enter a certain input, such as 'forward'\n",
    "- noisey but high frequency sensor data from an IMU\n",
    "\n",
    "To get a very accurate estimate of the current position and velocity of a system\n",
    "\n",
    "KF assumes that the variables are random and Gaussian distributed with a mean value $\\mu$ and variance/uncertainty $\\sigma^2$. However, KF relies on the fact that the variables involved are related in some way - eg. position and velocity\n",
    "\n",
    "Following a guide from https://www.bzarg.com/p/how-a-kalman-filter-works-in-pictures/ . Equation numbers correspond with this guide"
   ]
  },
  {
   "cell_type": "markdown",
   "metadata": {},
   "source": [
    "## The State Estimate\n",
    "\n",
    "$$ x_k = \\begin{bmatrix} \\theta \\\\ \\dot{\\theta} \\end{bmatrix} $$\n",
    "\n",
    "where $\\theta$ is the absolute angle to the object"
   ]
  },
  {
   "cell_type": "markdown",
   "metadata": {},
   "source": [
    "## The Covariance Matrix\n",
    "\n",
    "$$ P = \\begin{bmatrix} \\Sigma_{pp} & \\Sigma_{pv} \\\\ \\Sigma_{vp} & \\Sigma_{vv} \\end{bmatrix}$$\n",
    "\n",
    "where $ \\Sigma_{ij} $ is the degree of variance between the _i'th_ and _j'th_ state variable."
   ]
  },
  {
   "cell_type": "markdown",
   "metadata": {},
   "source": [
    "## The Prediction Matrix, Control Matrix and Control Vector\n",
    "\n",
    "Indicates how we move from one state to the next\n",
    "\n",
    "$$ p_k = p_{k-1} + \\Delta t v_{k-1} + \\frac{1}{2} a \\Delta t^2 $$\n",
    "$$ v_k = v_{k-1} + a \\Delta t$$\n",
    "\n",
    "Thus,\n",
    "\n",
    "$$ \\begin{split} \\hat{x}_k &= \\begin{bmatrix} 1 & \\Delta t \\\\ 0 & 1 \\end{bmatrix}\\hat{x}_{k-1} + \\begin{bmatrix} \\frac{\\Delta t^2}{2} \\\\ \\Delta t \\end{bmatrix} a \\\\ &= F_k\\ \\hat{x}_{k-1} + B_k\\ u_k \\end{split} $$\n",
    "\n",
    "where $F_k$ is the prediction matrix, $B_k$ is the control matrix, and $u_k$ is the control vector\n",
    "\n",
    "$B$ and $u$ represented tracked external influences\n",
    "\n",
    "In other words, the new best estimate is a prediction made from the previous best estimate, plus a correction for known external influences"
   ]
  },
  {
   "cell_type": "markdown",
   "metadata": {},
   "source": [
    "## Factoring in Uncertainty\n",
    "\n",
    "Eg. uncertainty from modelling, noise, etc\n",
    "\n",
    "Update the prediction matrix as follows,\n",
    "\n",
    "$$ P_k = F_k\\ P_{k-1}\\ F_k^T + Q_k$$\n",
    "\n",
    "In other words, the new uncertainty is predicted from the old uncertainty, with some additional uncertainty from the environment"
   ]
  },
  {
   "cell_type": "markdown",
   "metadata": {},
   "source": [
    "## The Sensor Uncertainty Matrix\n",
    "\n",
    "$$ \\mu_{expected} = H_k\\ \\hat{x}_k $$\n",
    "$$ \\Sigma_{expected} = H_k\\ P_k\\ H_k^T $$\n",
    "\n",
    "where $H_k$ is a matrix which models the sensors"
   ]
  },
  {
   "cell_type": "code",
   "execution_count": 2,
   "metadata": {},
   "outputs": [],
   "source": [
    "import numpy as np"
   ]
  },
  {
   "cell_type": "code",
   "execution_count": 56,
   "metadata": {
    "inputHidden": false,
    "outputHidden": false
   },
   "outputs": [],
   "source": [
    "class ExtendedKalmanFilter():\n",
    "    \"\"\"\n",
    "        x       the state estimate, θ and θ_dot\n",
    "        P       the covariance matrix\n",
    "        F       the prediction matrix\n",
    "        Q       the [xxxxx] uncertainty matrix\n",
    "        R       the [xxxxx] uncertainty matrix\n",
    "        K       the Kalman gain matrix\n",
    "    \"\"\"\n",
    "    def __init__(self, Ts=0.1, Q=5, R=1, camera_FOV=62.2):\n",
    "        self.Ts = Ts\n",
    "        \n",
    "        self.x = np.array([0, 0])\n",
    "        self.P = np.eye(2)\n",
    "        self.F = np.array([[1, Ts],\n",
    "                           [1,  0]])\n",
    "        self.Q = Q\n",
    "        self.R = R\n",
    "        self.camera_FOV = camera_FOV\n",
    "        \n",
    "        \n",
    "    def predict(self):\n",
    "        \"\"\"\n",
    "            get from x[k-1] to x[k] by using knowledge of how the system behaves \n",
    "            x = F*x\n",
    "            P = F*P*F' + Q\n",
    "        \"\"\"\n",
    "        self.x = self.F @ self.x\n",
    "        self.P = (self.F @ self.P @ self.F.T) + self.Q\n",
    "    \n",
    "    \n",
    "    def update(self, z):\n",
    "        \"\"\"\n",
    "            get from x[k] to the best possible estimate of the system by using sensor data\n",
    "            y = z - h(x)\n",
    "            K = P*H' * inv(H*P*H' + R)\n",
    "            x = x + K*(z - H*x)\n",
    "            P = P - K*H*P\n",
    "            \n",
    "            where z = the pixel position, scaled from -1 (pixel 0) to 1 (end pixel)\n",
    "        \"\"\"\n",
    "        y = z - self.h(self.x)\n",
    "        h_dash = (1/np.cos(self.x[0]))**2 / np.tan(self.camera_FOV/2)\n",
    "        H = np.array([h_dash, h_dash])\n",
    "        K = (self.P @ H.T) /(H @ self.P @ H.T + self.R)\n",
    "        \n",
    "        self.x = self.x  +  K * y\n",
    "        self.P = (np.eye(2) - K @ H) @ self.P\n",
    "        \n",
    "    \n",
    "    def h(self, x):\n",
    "        \"\"\" convert from angle to pixel\n",
    "        x is the pixel value [-1, 1]\n",
    "        cam_angle is the angular size of the camera along that dimension\"\"\"\n",
    "        return np.tan(x[0]) / np.tan(self.camera_FOV/2)\n",
    "    \n",
    "    \n",
    "    def get_predictions(self):\n",
    "        return self.x"
   ]
  },
  {
   "cell_type": "code",
   "execution_count": 57,
   "metadata": {},
   "outputs": [],
   "source": [
    "EKF = ExtendedKalmanFilter()"
   ]
  },
  {
   "cell_type": "code",
   "execution_count": 58,
   "metadata": {},
   "outputs": [
    {
     "name": "stdout",
     "output_type": "stream",
     "text": [
      "x = [0. 0.]\n",
      "P =\n",
      " [[1.01 1.  ]\n",
      " [1.   6.  ]]\n"
     ]
    }
   ],
   "source": [
    "EKF.predict()\n",
    "print('x =', EKF.x)\n",
    "print('P =\\n', EKF.P)"
   ]
  },
  {
   "cell_type": "code",
   "execution_count": 59,
   "metadata": {},
   "outputs": [
    {
     "name": "stdout",
     "output_type": "stream",
     "text": [
      "x = [-0.72066371 -2.50977411]\n",
      "P =\n",
      " [[-0.97644333 -5.91796184]\n",
      " [-0.98644333 -0.91796184]]\n"
     ]
    }
   ],
   "source": [
    "EKF.update(10)\n",
    "print('x =', EKF.x)\n",
    "print('P =\\n', EKF.P)"
   ]
  },
  {
   "cell_type": "code",
   "execution_count": 60,
   "metadata": {},
   "outputs": [
    {
     "name": "stdout",
     "output_type": "stream",
     "text": [
      "[-6.51068089  4.2227577 ]\n",
      "[-7.06483866 -8.84147781]\n",
      "[-8.21060151 -6.92707319]\n",
      "[ -9.80865692 -10.18070808]\n",
      "[-10.7208026   -9.84123116]\n",
      "[-12.33442919 -11.96963438]\n",
      "[-14.20173307 -12.25732552]\n",
      "[-16.58990802 -16.30414344]\n",
      "[-20.74244661 -16.70004991]\n",
      "[-23.29143824 -22.20235973]\n",
      "----\n",
      "[-22.81938728 -22.78780412]\n",
      "[-23.82928021 -20.87521706]\n",
      "[-24.27728681 -23.32479394]\n",
      "[-26.55969941 -24.20547287]\n",
      "[-27.27814991 -25.86892436]\n",
      "[-29.872974   -27.28882927]\n",
      "[-32.05824352 -29.60778589]\n",
      "[-33.69474545 -30.37008705]\n",
      "[-36.35456388 -33.48626205]\n",
      "[-39.61513141 -36.24749573]\n"
     ]
    }
   ],
   "source": [
    "for i in range(10):\n",
    "    EKF.predict()\n",
    "    EKF.update(10)\n",
    "    print(EKF.x)\n",
    "print('----')\n",
    "for i in range(10):\n",
    "    EKF.predict()\n",
    "    EKF.update(-10)\n",
    "    print(EKF.x)"
   ]
  },
  {
   "cell_type": "code",
   "execution_count": null,
   "metadata": {},
   "outputs": [],
   "source": []
  }
 ],
 "metadata": {
  "kernel_info": {
   "name": "python3"
  },
  "kernelspec": {
   "display_name": "Python 3",
   "language": "python",
   "name": "python3"
  },
  "language_info": {
   "codemirror_mode": {
    "name": "ipython",
    "version": 3
   },
   "file_extension": ".py",
   "mimetype": "text/x-python",
   "name": "python",
   "nbconvert_exporter": "python",
   "pygments_lexer": "ipython3",
   "version": "3.5.3"
  },
  "nteract": {
   "version": "0.11.6"
  }
 },
 "nbformat": 4,
 "nbformat_minor": 4
}
