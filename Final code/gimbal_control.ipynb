{
 "cells": [
  {
   "cell_type": "markdown",
   "metadata": {},
   "source": [
    "# SimpleBGC controller\n",
    "\n",
    "Implemented using the serial API specified in https://www.basecamelectronics.com/serialapi/ and by looking at the source code for the arduino library, found at https://github.com/alexmos/sbgc-api-examples. It is very incomplete (I only added the commands I need) but should be easy enough to follow that other commands can be added without much extra work.\n",
    "\n",
    "Main commands (prefixed with `gimbal_control.`):\n",
    "1. `turn_on_motors()`\n",
    "2. `send_angle_command(roll=, pitch=, yaw=)`\n",
    "3. `angles_dict = get_motor_angles()`\n",
    "4. `turn_off_motors()`\n",
    "\n",
    "All angles are in degrees"
   ]
  },
  {
   "cell_type": "markdown",
   "metadata": {},
   "source": [
    "## Setup"
   ]
  },
  {
   "cell_type": "code",
   "execution_count": null,
   "metadata": {
    "inputHidden": false,
    "outputHidden": false
   },
   "outputs": [],
   "source": [
    "import numpy as np, serial, time"
   ]
  },
  {
   "cell_type": "code",
   "execution_count": null,
   "metadata": {
    "inputHidden": false,
    "outputHidden": false
   },
   "outputs": [],
   "source": [
    "ser = serial.Serial('/dev/serial0',  # pin 8 = Tx, pin 10 = Rx, has been mapped to ttyAMA0\n",
    "                    baudrate=115200,\n",
    "                    bytesize=serial.EIGHTBITS,\n",
    "                    parity=serial.PARITY_NONE,\n",
    "                    stopbits=serial.STOPBITS_ONE,\n",
    "                    timeout=0.05)  # 50 ms timeout\n",
    "\n",
    "#serial0 == '/dev/ttyS0', connected on physical pins 8 & 10.\n",
    "# parity issues on ttyS0:\n",
    "#     https://github.com/pyserial/pyserial/issues/196#issuecomment-323382976\n",
    "\n",
    "# therefore, these pins have been mapped to ttyAMA0 which has better support\n",
    "#serial1 == '/dev/ttyAMA0', connected internally to the Bluetooth hardware."
   ]
  },
  {
   "cell_type": "code",
   "execution_count": null,
   "metadata": {
    "inputHidden": true,
    "outputHidden": false,
    "tags": []
   },
   "outputs": [],
   "source": [
    "# incomplete lookup table - see the note in last cell\n",
    "L = {\n",
    "    # menu items\n",
    "    'CMD_EXECUTE_MENU': 69,\n",
    "    'SBGC_MENU_MOTOR_ON': 11,\n",
    "    'SBGC_MENU_MOTOR_OFF': 12,\n",
    "    \n",
    "    # cmd items\n",
    "    'CMD_CONTROL': 67,\n",
    "    'CMD_REALTIME_DATA_CUSTOM': 88\n",
    "}"
   ]
  },
  {
   "cell_type": "markdown",
   "metadata": {},
   "source": [
    "## Utils"
   ]
  },
  {
   "cell_type": "code",
   "execution_count": null,
   "metadata": {},
   "outputs": [],
   "source": [
    "def as_int(b):\n",
    "    \"\"\" Converts b (a bytearray) into a signed integer.\n",
    "        Assumes little endian \"\"\"\n",
    "    return int.from_bytes(b, byteorder='little', signed=True)\n",
    "\n",
    "def as_uint(b):\n",
    "    \"\"\" Converts b (a bytearray) into an unsigned integer.\n",
    "        Assumes little endian \"\"\"\n",
    "    return int.from_bytes(b, byteorder='little', signed=False)\n",
    "\n",
    "def print_binary_padded(hex_data, num_bits=8, reverse=False):\n",
    "    \"\"\" Prints the hex value in binary, with zero padding\n",
    "    \n",
    "        >>> print_binary_padded(0x03) # --> 0b00000011\n",
    "        >>> print_binary_padded(0x0421, num_bits=16) # --> 0b0000010000100001\n",
    "    \"\"\"\n",
    "    if reverse is True:\n",
    "        print('LSB first: 0b' + bin(hex_data)[2:].zfill(num_bits)[::-1])\n",
    "    else:\n",
    "        print('0b' + bin(hex_data)[2:].zfill(num_bits))  # [2:] to get rid of the '0b' part\n",
    "\n",
    "def print_hex_nicely(hex_string):\n",
    "    \"\"\" Prints a hex string in groups of bytes\n",
    "        Useful when you want to decode a bytearray by eye\n",
    "    \n",
    "        >>> print('Response:   ', end='')\n",
    "        >>> print_hex_nicely(b'>X\\x08`\\x0c\\xf3z\\xffr\\xfc\\x8e\\x03w'.hex())\n",
    "    \"\"\"\n",
    "    [print(hex_string[i*2:i*2+2] + ' ', end='') for i in range(len(hex_string)//2)]\n",
    "    print()\n",
    "\n",
    "def print_twos_complement(number, num_bits=16):\n",
    "    \"\"\" Another function made while debugging.\n",
    "    >>> print_twos_complement(-4, num_bits=8)  # --> 11111100\n",
    "    \"\"\"\n",
    "    print(format(number % (1 << num_bits), '0' + str(num_bits) + 'b'))"
   ]
  },
  {
   "cell_type": "markdown",
   "metadata": {},
   "source": [
    "## Main command functions"
   ]
  },
  {
   "cell_type": "code",
   "execution_count": null,
   "metadata": {
    "inputHidden": false,
    "outputHidden": false
   },
   "outputs": [],
   "source": [
    "def send_data(command_ID, data=None, data_size=0, debug=False):\n",
    "    \"\"\" Compose and send a command to the SimpleBGC\n",
    "    Inputs:\n",
    "        command_ID:     a string, such as 'CMD_GET_ANGLES'\n",
    "        data:           a list of numpy scalars\n",
    "        data_size:      the number of bytes in 'data'\n",
    "\n",
    "    Format:\n",
    "        head:\n",
    "            start_char = ord('>') = 0x3E. 1u\n",
    "            command_ID. 1u\n",
    "            data_size. 1u. Can be 0\n",
    "            header_checksum = (command ID + data_size) % 255. 1u\n",
    "\n",
    "        body:\n",
    "            array_of_bytes_of_length_data_size\n",
    "            body_checksum. 1u\n",
    "    \"\"\"\n",
    "    # compose head:\n",
    "    start_char = np.uint8(ord('>'))\n",
    "    header_checksum = np.uint8(L[command_ID] + data_size)\n",
    "    \n",
    "    message = bytearray()\n",
    "    message.append(start_char)\n",
    "    message.append(L[command_ID])\n",
    "    message.append(np.uint8(data_size))\n",
    "    message.append(header_checksum)\n",
    "\n",
    "    # compose body:\n",
    "    body_checksum = 0\n",
    "    if data_size > 0:\n",
    "        for d in data:\n",
    "            if d.nbytes == 1:\n",
    "                message.append(d)\n",
    "                body_checksum += d\n",
    "            elif d.nbytes == 2:\n",
    "                d_bytes = d.tobytes()\n",
    "                message.append(d_bytes[0])  # working with little endian\n",
    "                message.append(d_bytes[1])\n",
    "                body_checksum += d_bytes[0] + d_bytes[1]\n",
    "            else:\n",
    "                print('gimbal_control: Haven\\'t yet built in functionality for 3 or more bytes')\n",
    "        \n",
    "        if debug: print('gimbal_control: body_checksum = %i' % body_checksum)\n",
    "\n",
    "        message.append(np.uint8(body_checksum))\n",
    "    \n",
    "    ser.flushInput()\n",
    "    ser.flushOutput()\n",
    "    ser.flushInput()\n",
    "    ser.flushOutput()\n",
    "    ser.write(message)\n",
    "    \n",
    "    if debug:\n",
    "        print('gimbal_control: message sent:\\t\\t', end='')\n",
    "        print_hex_nicely(message.hex())\n",
    "    \n",
    "    return message"
   ]
  },
  {
   "cell_type": "code",
   "execution_count": null,
   "metadata": {
    "inputHidden": false,
    "outputHidden": false
   },
   "outputs": [],
   "source": [
    "def send_angle_command(roll, pitch, yaw, debug=False):\n",
    "    \"\"\" send an angle command to the gimbal\n",
    "        roll, pitch and yaw are in degrees \"\"\"\n",
    "    \n",
    "    # the spec sheet says to send CONTROL_MODE three times (one for each axis)\n",
    "    # BUT it doesn't seem to work when I do that. Not sure why\n",
    "\n",
    "    scaling = 0.02197265625  # units/degree. 2**15 * 0.02197265625 == 720\n",
    "    message = [\n",
    "        np.uint8(2),                # CONTROL_MODE = MODE_ANGLE\n",
    "        np.int16(0),                # roll speed\n",
    "        np.int16(roll/scaling),     # roll angle\n",
    "      - np.int16(0),                # pitch speed (now pitch up = positive)\n",
    "      - np.int16(pitch/scaling),    # pitch angle (now pitch up = positive)\n",
    "        np.int16(0),                # yaw speed\n",
    "        np.int16(yaw/scaling)       # yaw angle\n",
    "    ]\n",
    "\n",
    "    return send_data('CMD_CONTROL', data=message, data_size=13, debug=debug)"
   ]
  },
  {
   "cell_type": "code",
   "execution_count": null,
   "metadata": {},
   "outputs": [],
   "source": [
    "def send_speed_command(roll, pitch, yaw, debug=False):\n",
    "    \"\"\" send a speed command to the gimbal\n",
    "        roll, pitch and yaw are in degrees/second \"\"\"\n",
    "    \n",
    "    # the spec sheet says to send CONTROL_MODE three times (one for each axis)\n",
    "    # BUT it doesn't seem to work when I do that. Not sure why\n",
    "    \n",
    "    scaling = 0.1220740379          # units/degree/s\n",
    "    message = [\n",
    "        np.uint8(1),                # CONTROL_MODE = MODE_SPEED\n",
    "        np.int16(roll/scaling),     # roll speed\n",
    "        np.int16(0),                # roll angle\n",
    "      - np.int16(pitch/scaling),    # pitch speed\n",
    "      - np.int16(0),                # pitch angle\n",
    "        np.int16(yaw/scaling),      # yaw speed\n",
    "        np.int16(0)                 # yaw angle\n",
    "    ]\n",
    "\n",
    "    return send_data('CMD_CONTROL', data=message, data_size=13, debug=debug)"
   ]
  },
  {
   "cell_type": "code",
   "execution_count": null,
   "metadata": {
    "inputHidden": false,
    "outputHidden": false
   },
   "outputs": [],
   "source": [
    "def get_motor_angles(debug=False):\n",
    "    \"\"\" Get the gimbal's angles, as measured by the IMU and estimated by the SBGC EKF\n",
    "        Units are in degrees.\n",
    "        \n",
    "        One could extend this to fetch other useful data as well - simple bit shift\n",
    "        and then correct extraction of the data. See page 47 of the serial api doc.\n",
    "    \"\"\"\n",
    "\n",
    "    msg = [np.uint8(1),  # 1 = activated bit 0\n",
    "           np.uint8(0), np.uint8(0), np.uint8(0), np.uint8(0), np.uint8(0),\n",
    "           np.uint8(0), np.uint8(0), np.uint8(0), np.uint8(0)]#np.uint64(0)]  # empty flag stuff/reserved\n",
    "    send_data('CMD_REALTIME_DATA_CUSTOM', msg, 10, debug)\n",
    "    \n",
    "    SBGC_response = ser.read(13)  # read (up to) 13 bytes\n",
    "\n",
    "    if response_is_not_valid(SBGC_response):\n",
    "        return 0\n",
    "    \n",
    "    # example responses:\n",
    "    # 3e 58 08 60   f6 89   1a ff   fe ff   fe ff   92   # 0 deg angles\n",
    "    # 3e 58 08 60   66 a5   76 ff   74 fc   90 03   83   # 20 deg angles\n",
    "\n",
    "    # they each arrive in 14-bit resolution and require scaling\n",
    "    scaling = 0.02197265625  # scales to degrees\n",
    "    angles = {\n",
    "        'timestamp_ms': as_uint(SBGC_response[4:6]),\n",
    "        'roll':         as_int(SBGC_response[6:8]) * scaling,\n",
    "        'pitch':       -as_int(SBGC_response[8:10]) * scaling, # change from up = neg to up = pos\n",
    "        'yaw':          as_int(SBGC_response[10:12]) * scaling\n",
    "    }\n",
    "    \n",
    "    return angles"
   ]
  },
  {
   "cell_type": "code",
   "execution_count": null,
   "metadata": {},
   "outputs": [],
   "source": [
    "def turn_off_motors(debug=False):\n",
    "    message = [np.uint8(L['SBGC_MENU_MOTOR_OFF'])]\n",
    "    return send_data('CMD_EXECUTE_MENU', message, 1, debug)\n",
    "\n",
    "def turn_on_motors(debug=False):\n",
    "    message = [np.uint8(L['SBGC_MENU_MOTOR_ON'])]\n",
    "    return send_data('CMD_EXECUTE_MENU', message, 1, debug)"
   ]
  },
  {
   "cell_type": "code",
   "execution_count": null,
   "metadata": {},
   "outputs": [],
   "source": [
    "def response_is_not_valid(SBGC_response):\n",
    "    \"\"\" should be used as,\n",
    "        if response_is_not_valid(SBGC_response):\n",
    "            return -1\n",
    "    \"\"\"\n",
    "    if SBGC_response == b'':\n",
    "        print('gimbal_control: No response response from controller')\n",
    "        return True\n",
    "    \n",
    "    elif chr(SBGC_response[0]) != '>':\n",
    "        print('gimbal_control: Invalid start of response. Got:', SBGC_response)\n",
    "        return True\n",
    "    \n",
    "    elif (SBGC_response[1] + SBGC_response[2] != SBGC_response[3]):\n",
    "        print('gimbal_control: Invalid header checksum in response. Got:', SBGC_response)\n",
    "        return True\n",
    "    \n",
    "    # maybe look at the checksum for the body? though not knowing the datatype would be an issue\n",
    "    # elif ...\n",
    "    \n",
    "    else:\n",
    "        return False"
   ]
  },
  {
   "cell_type": "markdown",
   "metadata": {},
   "source": [
    "## Debugging"
   ]
  },
  {
   "cell_type": "code",
   "execution_count": null,
   "metadata": {
    "scrolled": true
   },
   "outputs": [],
   "source": [
    "if __name__ == '__main__':\n",
    "    debug = True\n",
    "    turn_off_motors(debug)\n",
    "    time.sleep(3)\n",
    "    turn_off_motors(debug)\n",
    "    time.sleep(3)\n",
    "\n",
    "    roll = 0\n",
    "    for pitch in [45, 30, 15, 0, -10]:\n",
    "        for yaw in [-60, -30, 0, 30, 60]:\n",
    "            send_angle_command(roll, pitch, yaw, debug)\n",
    "            time.sleep(2)\n",
    "            angles = get_motor_angles(debug)\n",
    "            print('Roll = %d, pitch = %d, yaw = %d' % (angles['roll'], angles['pitch'], angles['yaw']))"
   ]
  },
  {
   "cell_type": "markdown",
   "metadata": {},
   "source": [
    "## Complete lookup table\n",
    "\n",
    "Check the SerialAPI document for the rest of the commands. I specifically didn't include a lookup table (ie extend `L` above) with all commands as implementing a command isn't always as simple as sending it. You usually need a special receive syntax, etc, so it's a bit misleading to show the whole table. Add stuff to the other `L` thing if needed"
   ]
  },
  {
   "cell_type": "code",
   "execution_count": null,
   "metadata": {},
   "outputs": [],
   "source": []
  }
 ],
 "metadata": {
  "kernel_info": {
   "name": "python3"
  },
  "kernelspec": {
   "display_name": "Python 3",
   "language": "python",
   "name": "python3"
  },
  "language_info": {
   "codemirror_mode": {
    "name": "ipython",
    "version": 3
   },
   "file_extension": ".py",
   "mimetype": "text/x-python",
   "name": "python",
   "nbconvert_exporter": "python",
   "pygments_lexer": "ipython3",
   "version": "3.6.3"
  },
  "nteract": {
   "version": "0.11.6"
  }
 },
 "nbformat": 4,
 "nbformat_minor": 4
}
