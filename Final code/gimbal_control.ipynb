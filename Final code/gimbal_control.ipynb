{
 "cells": [
  {
   "cell_type": "markdown",
   "metadata": {},
   "source": [
    "# SimpleBGC controller\n",
    "\n",
    "Implemented using the serial API specified in www.basecamelectronics.com/serialapi/\n",
    "\n",
    "I find development using a notebook to be quite a bit easier than developing using a regular python file. Unfortunately, you can't import a `.ipynb` as a module. So, here's the workflow:\n",
    "1. Use this file to understand the code and make changes\n",
    "2. Click `Kernal > Restart and Clear Output` to remove your outputs and make the file a bit smaller (shows up as fewer lines in the git commit)\n",
    "3. Uncomment and run the line below to generate a `.py` file which can be imported as a module. Just make sure to remove your debugging code beforehand! Lines like the `ser = serial.Serial(...)` should be kept in.\n",
    "\n",
    "Main commands (prefixed with `gimbal_control.`):\n",
    "1. `turn_on_motors()`\n",
    "2. `send_angle_command(roll, pitch, yaw)`\n",
    "3. `angles_dict = get_motor_angles()`\n",
    "4. `turn_off_motors()`\n",
    "\n",
    "All angles are in degrees"
   ]
  },
  {
   "cell_type": "code",
   "execution_count": 1,
   "metadata": {},
   "outputs": [],
   "source": [
    "# Generate a .py file, which can be imported as a module\n",
    "#!jupyter nbconvert --to=python gimbal_control.ipynb"
   ]
  },
  {
   "cell_type": "code",
   "execution_count": 2,
   "metadata": {
    "inputHidden": false,
    "outputHidden": false
   },
   "outputs": [],
   "source": [
    "import numpy as np, serial, time"
   ]
  },
  {
   "cell_type": "code",
   "execution_count": 3,
   "metadata": {
    "inputHidden": false,
    "outputHidden": false
   },
   "outputs": [],
   "source": [
    "ser = serial.Serial('/dev/serial0',  # has been mapped to ttyAMA0\n",
    "                    baudrate=115200,\n",
    "                    bytesize=serial.EIGHTBITS,\n",
    "                    parity=serial.PARITY_NONE,  # serial.PARITY_NONE if this doesn't work\n",
    "                    stopbits=serial.STOPBITS_ONE,\n",
    "                    timeout=5)\n",
    "#serial0 == '/dev/ttyS0', connected on physical pins 8 & 10.\n",
    "#serial1 == '/dev/ttyAMA0', connected internally to the Bluetooth hardware.\n",
    "# parity issues on ttyS0:\n",
    "#     https://github.com/pyserial/pyserial/issues/196#issuecomment-323382976"
   ]
  },
  {
   "cell_type": "code",
   "execution_count": 4,
   "metadata": {
    "inputHidden": true,
    "outputHidden": false,
    "tags": []
   },
   "outputs": [],
   "source": [
    "L = {\n",
    "    # menu items - so far, these all work\n",
    "    'CMD_EXECUTE_MENU': 69,\n",
    "    'SBGC_MENU_MOTOR_ON': 11,\n",
    "    'SBGC_MENU_MOTOR_OFF': 12,\n",
    "    \n",
    "    # cmd items - so far, only 'control' works\n",
    "    'CMD_CONTROL': 67,  # works\n",
    "    'CMD_REALTIME_DATA': 68,\n",
    "    'CMD_GET_ANGLES': 73,  #??\n",
    "    'CMD_MOTORS_ON': 77,\n",
    "    'CMD_MOTORS_OFF': 109,\n",
    "    'CMD_REALTIME_DATA_CUSTOM': 88\n",
    "}"
   ]
  },
  {
   "cell_type": "markdown",
   "metadata": {},
   "source": [
    "## Utils"
   ]
  },
  {
   "cell_type": "code",
   "execution_count": 5,
   "metadata": {},
   "outputs": [],
   "source": [
    "def as_int(b):\n",
    "    \"\"\" converts b (a bytearray) into a signed integer.\n",
    "        assumes little endian \"\"\"\n",
    "    return int.from_bytes(b, byteorder='little', signed=True)\n",
    "\n",
    "def as_uint(b):\n",
    "    \"\"\" converts b (a bytearray) into an unsigned integer.\n",
    "        assumes little endian \"\"\"\n",
    "    return int.from_bytes(b, byteorder='little', signed=False)\n",
    "\n",
    "def print_binary_padded(hex_data, num_bits=8, reversed=False):\n",
    "    \"\"\" prints the hex value in binary, with zero padding\n",
    "    \n",
    "        eg: print_binary_padded(0x03) # --> 0b00000011\n",
    "            print_binary_padded(0x0421, num_bits=16) # --> 0b0000010000100001\n",
    "    \"\"\"\n",
    "    if reversed is True:\n",
    "        print('LSB first: 0b' + bin(hex_data)[2:].zfill(num_bits)[::-1])\n",
    "    else:\n",
    "        print('0b' + bin(hex_data)[2:].zfill(num_bits))  # [2:] to get rid of the '0b' part\n",
    "\n",
    "def print_hex_nicely(hex_string):\n",
    "    \"\"\" prints a hex string in groups of bytes\n",
    "        Useful when you want to decode a bytearray by eye\n",
    "    \n",
    "        eg. print('Response:\\t', end='')\n",
    "            print_hex_nicely(b'>X\\x08`\\x0c\\xf3z\\xffr\\xfc\\x8e\\x03w'.hex())\n",
    "    \"\"\"\n",
    "    [print(hex_string[i*2:i*2+2] + ' ', end='') for i in range(len(hex_string)//2)]\n",
    "    print()"
   ]
  },
  {
   "cell_type": "markdown",
   "metadata": {},
   "source": [
    "## Main command functions"
   ]
  },
  {
   "cell_type": "code",
   "execution_count": 116,
   "metadata": {
    "inputHidden": false,
    "outputHidden": false
   },
   "outputs": [],
   "source": [
    "def send_data(command_ID, data=None, data_size=0, debug=False):\n",
    "    \"\"\" Compose and send a command to the SimpleBGC\n",
    "    Inputs:\n",
    "        command_ID: a string, such as 'CMD_GET_ANGLES'\n",
    "        data: a list of numpy numbers\n",
    "        data_size: the number of bytes in data\n",
    "\n",
    "    Format:\n",
    "        head:\n",
    "            start_char = ord('>') = 0x3E. 1u\n",
    "            command_ID. 1u\n",
    "            data_size. 1u. Can be 0\n",
    "            header_checksum =  (command ID + data_size) % 255. 1u\n",
    "\n",
    "        body:\n",
    "            array_of_bytes_of_length_data_size\n",
    "            body_checksum. 1u\n",
    "    \"\"\"\n",
    "    # compose head:\n",
    "    start_char = np.uint8(ord('>'))\n",
    "#    header_checksum = np.uint8((L[command_ID] + data_size) % 0xFF)\n",
    "    header_checksum = np.uint8(L[command_ID] + data_size)\n",
    "    \n",
    "    message = bytearray()\n",
    "    message.append(start_char)\n",
    "    message.append(L[command_ID])\n",
    "    message.append(np.uint8(data_size))\n",
    "    message.append(header_checksum)\n",
    "\n",
    "    if data_size > 0:\n",
    "        for d in data:\n",
    "            if d.nbytes == 1:\n",
    "                message.append(d)\n",
    "            elif d.nbytes == 2:\n",
    "                d_bytes = d.tobytes()\n",
    "                message.append(d_bytes[0])  # working with little endian\n",
    "                message.append(d_bytes[1])\n",
    "\n",
    "        body_checksum = np.uint8(sum(data) % 0xFF)\n",
    "        \n",
    "        if debug:\n",
    "            print('body_checksum = %i' % body_checksum)\n",
    "        \n",
    "        # have to subtract 1 for each negative value. Not sure why!\n",
    "        for d in data:\n",
    "            if d != 0:\n",
    "                print('checking for negatives:', d)\n",
    "                if d < 0:\n",
    "                    body_checksum -= 1\n",
    "                    break\n",
    "        \n",
    "        if debug:\n",
    "            print('body_checksum after subtracting = %i' % body_checksum)\n",
    "\n",
    "        message.append(np.uint8(body_checksum))\n",
    "    \n",
    "    ser.flushInput()\n",
    "    ser.flushOutput()\n",
    "    ser.write(message)\n",
    "    \n",
    "    if debug:\n",
    "        print('message sent:\\t\\t', end='')\n",
    "        print_hex_nicely(message.hex())\n",
    "    \n",
    "    return message"
   ]
  },
  {
   "cell_type": "code",
   "execution_count": 88,
   "metadata": {
    "inputHidden": false,
    "outputHidden": false
   },
   "outputs": [],
   "source": [
    "def send_angle_command(roll, pitch, yaw, debug=False):\n",
    "    \"\"\" send an angle command to the gimbal\n",
    "        roll, pitch and yaw are in degrees \"\"\"\n",
    "    \n",
    "    # the spec sheet says to send CONTROL_MODE three time for each axis\n",
    "    # BUT it doesn't seem to work when I do that. Not sure why\n",
    "\n",
    "    scaling = 0.02197265625  # units/degree\n",
    "    message = [\n",
    "        np.uint8(2),                # CONTROL_MODE = MODE_ANGLE\n",
    "        np.int16(0),                # roll speed\n",
    "        np.int16(roll/scaling),     # roll angle\n",
    "        np.int16(0),                # pitch speed\n",
    "        np.int16(pitch/scaling),    # pitch angle\n",
    "        np.int16(0),                # yaw speed\n",
    "        np.int16(yaw/scaling)       # yaw angle\n",
    "    ]\n",
    "\n",
    "    return send_data('CMD_CONTROL', data=message, data_size=13, debug=debug)"
   ]
  },
  {
   "cell_type": "code",
   "execution_count": 85,
   "metadata": {
    "inputHidden": false,
    "outputHidden": false
   },
   "outputs": [],
   "source": [
    "def get_motor_angles(debug=False):\n",
    "    \"\"\" get the gimbal's angles, as measured by the IMU and estimated by the SBGC EKF\n",
    "        units are in degrees \"\"\"\n",
    "\n",
    "    msg = [np.uint8(1), np.uint8(0), np.uint8(0), np.uint8(0),\n",
    "           np.uint8(0), np.uint8(0), np.uint8(0), np.uint8(0), np.uint8(0), np.uint8(0)]\n",
    "    send_data('CMD_REALTIME_DATA_CUSTOM', msg, len(msg), debug)\n",
    "    \n",
    "    SBGC_response = ser.read(13)  # read (up to) 13 bytes\n",
    "\n",
    "    if response_is_not_valid(SBGC_response):\n",
    "        return 0\n",
    "    \n",
    "    # example responses:\n",
    "    # 3e 58 08 60   f6 89   1a ff   fe ff   fe ff   92   # 0 deg angles\n",
    "    # 3e 58 08 60   66 a5   76 ff   74 fc   90 03   83   # 20 deg angles\n",
    "\n",
    "    # they each arrive in 14-bit resolution and require scaling\n",
    "    scaling = 0.02197265625  # scales to degrees\n",
    "    angles = {\n",
    "        'timestamp_ms': as_uint(SBGC_response[4:6]),\n",
    "        'roll':         as_int(SBGC_response[6:8]) * scaling,\n",
    "        'pitch':        as_int(SBGC_response[8:10]) * scaling,\n",
    "        'yaw':          as_int(SBGC_response[10:12]) * scaling\n",
    "    }\n",
    "    \n",
    "    return angles"
   ]
  },
  {
   "cell_type": "code",
   "execution_count": null,
   "metadata": {},
   "outputs": [],
   "source": [
    "def turn_off_motors(debug=False):\n",
    "    message = [\n",
    "        np.uint8(L['SBGC_MENU_MOTOR_OFF'])\n",
    "    ]\n",
    "    return send_data('CMD_EXECUTE_MENU', message, 1, debug)\n",
    "\n",
    "def turn_on_motors(debug=False):\n",
    "    message = [\n",
    "        np.uint8(L['SBGC_MENU_MOTOR_ON'])\n",
    "    ]\n",
    "    return send_data('CMD_EXECUTE_MENU', message, 1, debug)"
   ]
  },
  {
   "cell_type": "code",
   "execution_count": null,
   "metadata": {},
   "outputs": [],
   "source": [
    "def response_is_not_valid(SBGC_response):\n",
    "    \"\"\" should be used as,\n",
    "        if response_is_not_valid(SBGC_response):\n",
    "            return -1\n",
    "    \"\"\"\n",
    "    if SBGC_response == b'':\n",
    "        print('No response response from controller')\n",
    "        return True\n",
    "    \n",
    "    elif chr(SBGC_response[0]) != '>':\n",
    "        print('Invalid start of response. Got:', SBGC_response)\n",
    "        return True\n",
    "    \n",
    "    elif (SBGC_response[1] + SBGC_response[2] != SBGC_response[3]):\n",
    "        print('Invalid header checksum in response. Got:', SBGC_response)\n",
    "        return True\n",
    "    \n",
    "    # maybe look at the checksum for the body? though not knowing the datatype would be an issue\n",
    "    # elif ...\n",
    "    \n",
    "    else:\n",
    "        return False"
   ]
  },
  {
   "cell_type": "markdown",
   "metadata": {},
   "source": [
    "# Debugging section"
   ]
  },
  {
   "cell_type": "code",
   "execution_count": null,
   "metadata": {},
   "outputs": [],
   "source": [
    "# IMU = get_motor_angles()\n",
    "# IMU"
   ]
  },
  {
   "cell_type": "code",
   "execution_count": 36,
   "metadata": {},
   "outputs": [
    {
     "name": "stdout",
     "output_type": "stream",
     "text": [
      "[2, 0, 0, 0, 0, 0, 0]\n",
      "body_checksum = 2\n",
      "body_checksum after subtracting = 2\n",
      "message sent: 3e430d500200000000000000000000000002\n"
     ]
    },
    {
     "data": {
      "text/plain": [
       "bytearray(b'>C\\rP\\x02\\x00\\x00\\x00\\x00\\x00\\x00\\x00\\x00\\x00\\x00\\x00\\x00\\x02')"
      ]
     },
     "execution_count": 36,
     "metadata": {},
     "output_type": "execute_result"
    }
   ],
   "source": [
    "# x = 0\n",
    "# send_angle_command(0, -x, x)"
   ]
  },
  {
   "cell_type": "code",
   "execution_count": null,
   "metadata": {},
   "outputs": [],
   "source": [
    "# for i in range(2):\n",
    "#     x = 20\n",
    "#     print('\\nx =', x)\n",
    "#     send_angle_command(0, -x, x, debug=True)\n",
    "#     time.sleep(3)\n",
    "\n",
    "#     print(get_motor_angles())\n",
    "\n",
    "#     x = 20\n",
    "#     print('\\nx =', x)\n",
    "#     send_angle_command(0, x, -x, debug=True)\n",
    "#     time.sleep(3)\n",
    "\n",
    "#     print(get_motor_angles())"
   ]
  },
  {
   "cell_type": "code",
   "execution_count": null,
   "metadata": {},
   "outputs": [],
   "source": []
  },
  {
   "cell_type": "code",
   "execution_count": null,
   "metadata": {},
   "outputs": [],
   "source": []
  },
  {
   "cell_type": "code",
   "execution_count": null,
   "metadata": {},
   "outputs": [],
   "source": [
    "# import time\n",
    "\n",
    "# arr = [0, 1, 2, 4, 8, 16, 32, 64, 128]\n",
    "# i = 0\n",
    "# while True:\n",
    "#     x = bytearray()\n",
    "#     x.append(np.uint8(arr[i]))\n",
    "#     x.append(np.uint8(arr[i]))\n",
    "#     ser.write(x)\n",
    "#     print('i = %i, num = %i' % (i, arr[i]))\n",
    "#     if i >= len(arr)-1:\n",
    "#         i = 0\n",
    "#     else:\n",
    "#         i += 1\n",
    "#     time.sleep(1)"
   ]
  },
  {
   "cell_type": "code",
   "execution_count": null,
   "metadata": {},
   "outputs": [],
   "source": [
    "# L = {\n",
    "#     'CMD_READ_PARAMS': 82,\n",
    "#     'CMD_WRITE_PARAMS': 87,\n",
    "#     'CMD_REALTIME_DATA': 68,\n",
    "#     'CMD_BOARD_INFO': 86,\n",
    "#     'CMD_CALIB_ACC': 65,\n",
    "#     'CMD_CALIB_GYRO': 103,\n",
    "#     'CMD_CALIB_EXT_GAIN': 71,\n",
    "#     'CMD_USE_DEFAULTS': 70,\n",
    "#     'CMD_CALIB_POLES': 80,\n",
    "#     'CMD_RESET': 114,\n",
    "#     'CMD_HELPER_DATA': 72,\n",
    "#     'CMD_CALIB_OFFSET': 79,\n",
    "#     'CMD_CALIB_BAT': 66,\n",
    "#     'CMD_MOTORS_ON': 77,\n",
    "#     'CMD_MOTORS_OFF': 109,\n",
    "#     'CMD_CONTROL': 67,\n",
    "#     'CMD_TRIGGER_PIN': 84,\n",
    "#     'CMD_EXECUTE_MENU': 69,\n",
    "#     'CMD_GET_ANGLES': 73,\n",
    "#     #'CMD_CONFIRM': 67,\n",
    "#     'CMD_BOARD_INFO_3': 20,\n",
    "#     'CMD_READ_PARAMS_3': 21,\n",
    "#     'CMD_WRITE_PARAMS_3': 22,\n",
    "#     'CMD_REALTIME_DATA_3': 23,\n",
    "#     'CMD_REALTIME_DATA_4': 25,\n",
    "#     'CMD_SELECT_IMU_3': 24,\n",
    "#     'CMD_READ_PROFILE_NAMES': 28,\n",
    "#     'CMD_WRITE_PROFILE_NAMES': 29,\n",
    "#     'CMD_QUEUE_PARAMS_INFO_3': 30,\n",
    "#     'CMD_SET_ADJ_VARS_VAL': 31,\n",
    "#     'CMD_SAVE_PARAMS_3': 32,\n",
    "#     'CMD_READ_PARAMS_EXT': 33,\n",
    "#     'CMD_WRITE_PARAMS_EXT': 34,\n",
    "#     'CMD_AUTO_PID': 35,\n",
    "#     'CMD_SERVO_OUT': 36,\n",
    "#     'CMD_I2C_WRITE_REG_BUF': 39,\n",
    "#     'CMD_I2C_READ_REG_BUF': 40,\n",
    "#     'CMD_WRITE_EXTERNAL_DATA': 41,\n",
    "#     'CMD_READ_EXTERNAL_DATA': 42,\n",
    "#     'CMD_READ_ADJ_VARS_CFG': 43,\n",
    "#     'CMD_WRITE_ADJ_VARS_CFG': 44,\n",
    "#     'CMD_API_VIRT_CH_CONTROL': 45,\n",
    "#     'CMD_ADJ_VARS_STATE': 46,\n",
    "#     'CMD_EEPROM_WRITE': 47,\n",
    "#     'CMD_EEPROM_READ': 48,\n",
    "#     'CMD_CALIB_INFO': 49,\n",
    "#     'CMD_BOOT_MODE_3': 51,\n",
    "#     'CMD_SYSTEM_STATE': 52,\n",
    "#     'CMD_READ_FILE': 53,\n",
    "#     'CMD_WRITE_FILE': 54,\n",
    "#     'CMD_FS_CLEAR_ALL': 55,\n",
    "#     'CMD_AHRS_HELPER': 56,\n",
    "#     'CMD_RUN_SCRIPT': 57,\n",
    "#     'CMD_SCRIPT_DEBUG': 58,\n",
    "#     'CMD_CALIB_MAG': 59,\n",
    "#     'CMD_GET_ANGLES_EXT': 61,\n",
    "#     'CMD_READ_PARAMS_EXT2': 62,\n",
    "#     'CMD_WRITE_PARAMS_EXT2': 63,\n",
    "#     'CMD_GET_ADJ_VARS_VAL': 64,\n",
    "#     'CMD_CALIB_MOTOR_MAG_LINK': 74,\n",
    "#     'CMD_GYRO_CORRECTION': 75,\n",
    "#     'CMD_DATA_STREAM_INTERVAL': 85,\n",
    "#     'CMD_REALTIME_DATA_CUSTOM': 88,\n",
    "#     'CMD_BEEP_SOUND': 89,\n",
    "#     'CMD_ENCODERS_CALIB_OFFSET_4': 26,\n",
    "#     'CMD_ENCODERS_CALIB_FLD_OFFSET_4': 27,\n",
    "#     'CMD_CONTROL_CONFIG': 90,\n",
    "#     'CMD_CALIB_ORIENT_CORR': 91,\n",
    "#     'CMD_COGGING_CALIB_INFO': 92,\n",
    "#     'CMD_CALIB_COGGING': 93,\n",
    "#     'CMD_CALIB_ACC_EXT_REF': 94,\n",
    "#     'CMD_PROFILE_SET': 95,\n",
    "#     'CMD_CAN_DEVICE_SCAN': 96,\n",
    "#     'CMD_CAN_DRV_HARD_PARAMS': 97,\n",
    "#     'CMD_CAN_DRV_STATE': 98,\n",
    "#     'CMD_CAN_DRV_CALIBRATE': 99,\n",
    "#     'CMD_READ_RC_INPUTS': 100,\n",
    "#     'CMD_REALTIME_DATA_CAN_DRV': 101,\n",
    "#     'CMD_EVENT': 102,\n",
    "#     'CMD_READ_PARAMS_EXT3': 104,\n",
    "#     'CMD_WRITE_PARAMS_EXT3': 105,\n",
    "#     'CMD_EXT_IMU_DEBUG_INFO': 106,\n",
    "#     'CMD_SET_DEBUG_PORT': 249,\n",
    "#     'CMD_MAVLINK_INFO': 250,\n",
    "#     'CMD_MAVLINK_DEBUG': 251,\n",
    "#     'CMD_DEBUG_VARS_INFO_3': 253,\n",
    "#     'CMD_DEBUG_VARS_3': 254,\n",
    "#     'CMD_ERROR': 255\n",
    "# }"
   ]
  }
 ],
 "metadata": {
  "kernel_info": {
   "name": "python3"
  },
  "kernelspec": {
   "display_name": "Python 3",
   "language": "python",
   "name": "python3"
  },
  "language_info": {
   "codemirror_mode": {
    "name": "ipython",
    "version": 3
   },
   "file_extension": ".py",
   "mimetype": "text/x-python",
   "name": "python",
   "nbconvert_exporter": "python",
   "pygments_lexer": "ipython3",
   "version": "3.6.3"
  },
  "nteract": {
   "version": "0.11.6"
  }
 },
 "nbformat": 4,
 "nbformat_minor": 4
}
