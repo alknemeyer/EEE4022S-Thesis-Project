{
 "cells": [
  {
   "cell_type": "markdown",
   "metadata": {},
   "source": [
    "# system_simulation\n"
   ]
  },
  {
   "cell_type": "code",
   "execution_count": null,
   "metadata": {},
   "outputs": [],
   "source": [
    "import numpy as np, pandas as pd, matplotlib.pyplot as plt\n",
    "from extended_kalman_filter import ExtendedKalmanFilter"
   ]
  },
  {
   "cell_type": "code",
   "execution_count": null,
   "metadata": {},
   "outputs": [],
   "source": [
    "def plot_util(_plt):\n",
    "    _plt.legend()\n",
    "    _plt.grid()\n",
    "    fig = _plt.gcf();\n",
    "    fig.set_size_inches(18.5, 5, forward=True)\n",
    "    _plt.show()"
   ]
  },
  {
   "cell_type": "markdown",
   "metadata": {},
   "source": [
    "## Load the pre-recorded data"
   ]
  },
  {
   "cell_type": "code",
   "execution_count": null,
   "metadata": {},
   "outputs": [],
   "source": [
    "df_loaded = pd.read_csv('logged_data_1.csv', index_col=0) # or 'logged_data_2.csv'\n",
    "print('Columns:', [i for i in df_loaded.columns])\n",
    "\n",
    "phi_yaw_arr = df_loaded.iloc[:,0].values\n",
    "phi_pitch_arr = df_loaded.iloc[:,1].values\n",
    "time_arr = df_loaded.iloc[:,2].values"
   ]
  },
  {
   "cell_type": "code",
   "execution_count": null,
   "metadata": {},
   "outputs": [],
   "source": [
    "df_loaded = pd.read_csv('logged_data_3.csv', index_col=0)\n",
    "print('Columns:', [i for i in df_loaded.columns])\n",
    "\n",
    "phi_yaw_arr = df_loaded.iloc[:,0].values\n",
    "phi_pitch_arr = df_loaded.iloc[:,1].values\n",
    "gc_yaw_arr = df_loaded.iloc[:,2].values\n",
    "gc_pitch_arr = df_loaded.iloc[:,3].values\n",
    "time_arr = df_loaded.iloc[:,4].values\n",
    "\n",
    "nn_updates = []\n",
    "nn_updates_t = []\n",
    "prev_val = phi_yaw_arr[0]\n",
    "for i, val in enumerate(phi_yaw_arr):\n",
    "    if val != prev_val:\n",
    "        nn_updates.append(val)\n",
    "        nn_updates_t.append(time_arr[i])\n",
    "        prev_val = val"
   ]
  },
  {
   "cell_type": "markdown",
   "metadata": {},
   "source": [
    "## Sample Kalman Filters"
   ]
  },
  {
   "cell_type": "code",
   "execution_count": null,
   "metadata": {},
   "outputs": [],
   "source": [
    "EKF_1 = ExtendedKalmanFilter(Ts=0.05, Q=0.1,   R=0.1, a=1)\n",
    "EKF_2 = ExtendedKalmanFilter(Ts=0.05, Q=0.01,  R=0.1, a=1)\n",
    "EKF_3 = ExtendedKalmanFilter(Ts=0.05, Q=1e-3, R=0.1, a=1)\n",
    "EKF_4 = ExtendedKalmanFilter(Ts=0.05, Q=1e-3, R=1, a=1)\n",
    "\n",
    "EKFs =  [EKF_1, EKF_2, EKF_3, EKF_4]\n",
    "labels= ['Q=0.1, R=0.1, a=1']"
   ]
  },
  {
   "cell_type": "code",
   "execution_count": null,
   "metadata": {},
   "outputs": [],
   "source": [
    "results = []\n",
    "prev_measurement = 0\n",
    "\n",
    "for EKF in EKFs:\n",
    "    temp_results = []\n",
    "    for measurement in phi_yaw_arr:\n",
    "        EKF.predict()\n",
    "        \n",
    "        if measurement != prev_measurement:\n",
    "            EKF.update(measurement)\n",
    "            prev_measurement = measurement\n",
    "        \n",
    "        temp_results.append(EKF.x.item(0))\n",
    "    \n",
    "    results.append(temp_results)"
   ]
  },
  {
   "cell_type": "code",
   "execution_count": null,
   "metadata": {},
   "outputs": [],
   "source": [
    "plt.stem(nn_updates_t, nn_updates, label='Raw NN updates [deg]')\n",
    "for i, result in enumerate(results):\n",
    "    plt.plot(time_arr, result, label='EKF_%i' % (i+1))\n",
    "plt.title('Comparison of EKFs with different parameters for Q, R and a')\n",
    "plot_util(plt)"
   ]
  },
  {
   "cell_type": "code",
   "execution_count": null,
   "metadata": {},
   "outputs": [],
   "source": [
    "# plt.plot(time_arr, EKF_yaw_arr, label='EKF estimate of yaw [deg]')\n",
    "plt.plot(time_arr, phi_yaw_arr, label='Raw NN estimate of yaw [deg]')\n",
    "plot_util(plt)"
   ]
  },
  {
   "cell_type": "code",
   "execution_count": null,
   "metadata": {},
   "outputs": [],
   "source": [
    "# plt.plot(time_arr, EKF_pitch_arr, label='EKF estimate of pitch [deg]')\n",
    "plt.plot(time_arr, phi_pitch_arr, label='Raw NN estimate of pitch [deg]')\n",
    "plot_util(plt)"
   ]
  },
  {
   "cell_type": "code",
   "execution_count": null,
   "metadata": {},
   "outputs": [],
   "source": [
    "loop_times_ms = [(t-t_)*1e3 for t_,t in zip(time_arr[0:-1], time_arr[1:])]\n",
    "plt.stem(time_arr[:-1], loop_times_ms, label='loop times [ms]')\n",
    "plot_util(plt)"
   ]
  },
  {
   "cell_type": "code",
   "execution_count": null,
   "metadata": {},
   "outputs": [],
   "source": []
  },
  {
   "cell_type": "code",
   "execution_count": null,
   "metadata": {},
   "outputs": [],
   "source": []
  },
  {
   "cell_type": "code",
   "execution_count": null,
   "metadata": {},
   "outputs": [],
   "source": [
    "from ipywidgets import interact"
   ]
  },
  {
   "cell_type": "code",
   "execution_count": null,
   "metadata": {},
   "outputs": [],
   "source": [
    "def sim_and_plot_EKF(Q, R, a):\n",
    "    EKF = ExtendedKalmanFilter(Ts=0.05, Q=Q, R=R, a=a)\n",
    "    print('Q = %f, R = %f' % (Q, R))\n",
    "    data = phi_yaw_arr\n",
    "#     data = phi_pitch_arr\n",
    "    prev_measurement = 0\n",
    "    results = []\n",
    "    predict_ahead_results = []\n",
    "    \n",
    "    for measurement in data:\n",
    "        EKF.predict()\n",
    "        \n",
    "        if measurement != prev_measurement:\n",
    "            EKF.update(measurement)\n",
    "            prev_measurement = measurement\n",
    "        \n",
    "        results.append(EKF.x.item(0))\n",
    "        predict_ahead_results.append(EKF.predict_ahead(3)) # 3*Ts = 150 ms\n",
    "\n",
    "    plt.stem(nn_updates_t, nn_updates, label='Raw NN estimate [deg]')\n",
    "    plt.plot(time_arr, results, label='EKF estimate [deg]')\n",
    "    plt.plot(time_arr, predict_ahead_results, label='EKF estimate predicting 150 ms into future [deg]')\n",
    "    plot_util(plt)"
   ]
  },
  {
   "cell_type": "code",
   "execution_count": null,
   "metadata": {},
   "outputs": [],
   "source": [
    "interact(sim_and_plot_EKF, Q=(1e-4, 1, 1e-4), R=(1e-3, 1e-2, 1e-3), a=[0,0.94,1])#(0.9, 1.0, 0.01));"
   ]
  },
  {
   "cell_type": "code",
   "execution_count": null,
   "metadata": {},
   "outputs": [],
   "source": [
    "# good values: Q = 0.5, R = 0.005, a = 0.94"
   ]
  },
  {
   "cell_type": "code",
   "execution_count": null,
   "metadata": {},
   "outputs": [],
   "source": []
  }
 ],
 "metadata": {
  "kernelspec": {
   "display_name": "Python 3",
   "language": "python",
   "name": "python3"
  },
  "language_info": {
   "codemirror_mode": {
    "name": "ipython",
    "version": 3
   },
   "file_extension": ".py",
   "mimetype": "text/x-python",
   "name": "python",
   "nbconvert_exporter": "python",
   "pygments_lexer": "ipython3",
   "version": "3.6.3"
  }
 },
 "nbformat": 4,
 "nbformat_minor": 2
}
