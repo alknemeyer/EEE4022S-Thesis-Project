{
 "cells": [
  {
   "cell_type": "markdown",
   "metadata": {},
   "source": [
    "# Main file for thesis project\n",
    "\n",
    "Ie the top level script which runs the whole `pic -> recognise -> aim gimbal -> repeat` show"
   ]
  },
  {
   "cell_type": "code",
   "execution_count": null,
   "metadata": {},
   "outputs": [],
   "source": [
    "import time, numpy as np, matplotlib.pyplot as plt\n",
    "\n",
    "# homemade stuff\n",
    "import gimbal_control as gc\n",
    "from extended_kalman_filter import ExtendedKalmanFilter\n",
    "from image_classifier import ImageClassifier\n",
    "from utils import plot_util, ExperimentLogger"
   ]
  },
  {
   "cell_type": "markdown",
   "metadata": {},
   "source": [
    "# Constants + things which need global scope"
   ]
  },
  {
   "cell_type": "code",
   "execution_count": null,
   "metadata": {},
   "outputs": [],
   "source": [
    "total_run_time = 5    # seconds\n",
    "t_loop_desired = 0.05 # seconds = 50 ms\n",
    "\n",
    "# initialize variables in case the neural net doesn't spot anything the first time round\n",
    "phi_yaw, phi_pitch = 0, 0"
   ]
  },
  {
   "cell_type": "markdown",
   "metadata": {},
   "source": [
    "## A Basic Loop"
   ]
  },
  {
   "cell_type": "code",
   "execution_count": null,
   "metadata": {
    "scrolled": false
   },
   "outputs": [],
   "source": [
    "# setup stuff\n",
    "EKF_yaw   = ExtendedKalmanFilter(Ts=0.05, Q=0.5, R=0.005, a=0.94, camera_FOV_deg=62.2)  # need to tweak Q and R\n",
    "EKF_pitch = ExtendedKalmanFilter(Ts=0.05, Q=0.5, R=0.005, a=0.94, camera_FOV_deg=48.8)  # need to tweak Q and R\n",
    "\n",
    "IC = ImageClassifier(\n",
    "    graph_filename='../Models/MobileNet_SSD_caffe/graph',\n",
    "    label_filename='../Models/MobileNet_SSD_caffe/categories.txt',\n",
    "    class_of_interest='person',\n",
    "    camera_resolution=(1640, 1232),#(1640, 922)\n",
    "    camera_FOV_deg=(62.2, 48.8),\n",
    "    photo_logging_params=(10000, 'logged_photos/'),\n",
    "    debug=True)\n",
    "\n",
    "# logging used for offline stuff only\n",
    "EL = ExperimentLogger()\n",
    "\n",
    "# a rolling buffer for the gimbal angles\n",
    "gimbal_buffer = GimbalAngleBuffer()"
   ]
  },
  {
   "cell_type": "code",
   "execution_count": null,
   "metadata": {
    "scrolled": true
   },
   "outputs": [],
   "source": [
    "while IC.dict_queue.empty() is True: pass # wait until there's a result from the nn (even if it didn't spot an object)\n",
    "\n",
    "t_start = time.time()\n",
    "t_since_nn_update = time.time()\n",
    "\n",
    "EKF_yaw.start_timer()\n",
    "EKF_pitch.start_timer()\n",
    "\n",
    "while True:\n",
    "    t = time.time()\n",
    "    \n",
    "    ######################### LOG THE GIMBAL ANGLES #########################\n",
    "    gc_angles = gc.get_motor_angles()\n",
    "    gc_angles['yaw'] = ((gc_angles['yaw']+90) % 180)-90 # get rid of erroneous spikes\n",
    "    gc_angles['pitch'] = ((-gc_angles['pitch']+90) % 180)-90\n",
    "    gimbal_buffer.log(gc_angles)\n",
    "    \n",
    "    ######################### NN and EKF #########################\n",
    "    # if there is a new result waiting...\n",
    "    if not IC.dict_queue.empty():\n",
    "        bb, bb_angles, photo_time = IC.get_result()\n",
    "\n",
    "        # and there was an actual object detected...\n",
    "        if bb_angles != -1:\n",
    "            (phi_x1, phi_y1), (phi_x2, phi_y2) = bb_angles\n",
    "            phi_yaw = (phi_x1 + phi_x2)/2\n",
    "            phi_pitch = (phi_y1 + phi_y2)/2 # come as negative angles\n",
    "            \n",
    "#             print('photo -> result =', (time.time()-photo_time)*1000)\n",
    "            logger_yaw, logger_pitch = gimbal_buffer.closest_angle_to(photo_time)            \n",
    "            EKF_yaw.better_update(phi_yaw + logger_yaw)\n",
    "            EKF_pitch.better_update(phi_pitch + logger_pitch)\n",
    "            \n",
    "            t_since_nn_update = time.time()# TODO: this might not be the best approach! maybe do photo_time??\n",
    "#             t_since_nn_update = photo_time\n",
    "    \n",
    "    ######################### CONTROL #########################\n",
    "    desired_yaw = EKF_yaw.predict_ahead(time.time() - t_since_nn_update)\n",
    "    desired_pitch = EKF_pitch.predict_ahead(time.time() - t_since_nn_update)\n",
    "    \n",
    "    # add in bounds\n",
    "    desired_pitch = min(max(desired_pitch, -45), 90) # bounds are (-45, 90)\n",
    "    desired_yaw = min(max(desired_yaw, -60), 60)\n",
    "    \n",
    "    gc.send_angle_command(roll=0, pitch=20, yaw=desired_yaw)\n",
    "\n",
    "    ######################### TIMING #########################    \n",
    "    t_end = time.time()\n",
    "    if t_end > t_start + total_run_time:\n",
    "        break\n",
    "    elif t_end - t > t_loop_desired:\n",
    "        EL.log(gc_angles, phi_yaw, EKF_yaw, phi_pitch, EKF_pitch, time.time() - t_start)\n",
    "    else:\n",
    "        time.sleep(t_loop_desired - (t_end - t))  # aim for a loop time of 50ms\n",
    "        EL.log(gc_angles, phi_yaw, EKF_yaw, phi_pitch, EKF_pitch, time.time() - t_start)\n",
    "\n",
    "IC.close()\n",
    "gc.send_angle_command(0, 0, 0);"
   ]
  },
  {
   "cell_type": "code",
   "execution_count": null,
   "metadata": {},
   "outputs": [],
   "source": [
    "IC.close()\n",
    "gc.send_angle_command(0, 0, 0);"
   ]
  },
  {
   "cell_type": "code",
   "execution_count": null,
   "metadata": {},
   "outputs": [],
   "source": []
  }
 ],
 "metadata": {
  "kernelspec": {
   "display_name": "Python 3",
   "language": "python",
   "name": "python3"
  },
  "language_info": {
   "codemirror_mode": {
    "name": "ipython",
    "version": 3
   },
   "file_extension": ".py",
   "mimetype": "text/x-python",
   "name": "python",
   "nbconvert_exporter": "python",
   "pygments_lexer": "ipython3",
   "version": "3.6.3"
  }
 },
 "nbformat": 4,
 "nbformat_minor": 2
}
