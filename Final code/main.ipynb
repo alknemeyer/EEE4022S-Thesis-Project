{
 "cells": [
  {
   "cell_type": "markdown",
   "metadata": {},
   "source": [
    "# Main file for thesis project\n",
    "\n",
    "Ie the top level script which runs the whole `pic -> recognise -> aim gimbal -> repeat` show"
   ]
  },
  {
   "cell_type": "code",
   "execution_count": null,
   "metadata": {},
   "outputs": [],
   "source": [
    "import time, numpy as np, os, re\n",
    "\n",
    "# homemade stuff\n",
    "import gimbal_control as gc\n",
    "from extended_kalman_filter import KalmanFilter, ExtendedKalmanFilter\n",
    "from image_classifier import ImageClassifier\n",
    "from utils import plot_util, ExperimentLogger, GimbalAngleBuffer"
   ]
  },
  {
   "cell_type": "markdown",
   "metadata": {},
   "source": [
    "# Constants + things which need global scope"
   ]
  },
  {
   "cell_type": "code",
   "execution_count": null,
   "metadata": {},
   "outputs": [],
   "source": [
    "total_run_time = 30   # seconds\n",
    "t_loop_desired = 0.05 # seconds = 50 ms\n",
    "\n",
    "# initialize variables in case the neural net doesn't spot anything the first time round\n",
    "obj_yaw, obj_pitch = 0, 0"
   ]
  },
  {
   "cell_type": "markdown",
   "metadata": {},
   "source": [
    "## A Basic Loop"
   ]
  },
  {
   "cell_type": "code",
   "execution_count": null,
   "metadata": {
    "scrolled": true
   },
   "outputs": [],
   "source": [
    "# # setup stuff\n",
    "# EKF_yaw   = ExtendedKalmanFilter(Ts=0.05, Q=0.5, R=0.005, a=0.94, camera_FOV_deg=62.2)  # need to tweak Q and R\n",
    "# EKF_pitch = ExtendedKalmanFilter(Ts=0.05, Q=0.5, R=0.005, a=0.94, camera_FOV_deg=48.8)  # need to tweak Q and R\n",
    "\n",
    "# somewhat high R to avoid some jerkiness\n",
    "EKF_yaw   = KalmanFilter(Ts=0.05, Q=1, R=1, a=0.0)\n",
    "\n",
    "# very high R to make the thing respond less to my bottom half disappearing behind a chair\n",
    "EKF_pitch = KalmanFilter(Ts=0.05, Q=0.5, R=50, a=0.0)\n",
    "\n",
    "IC = ImageClassifier(\n",
    "    graph_filename='../Models/MobileNet_SSD_caffe/graph',\n",
    "    label_filename='../Models/MobileNet_SSD_caffe/categories.txt',\n",
    "    class_of_interest='person',\n",
    "    camera_resolution=(1640, 1232),#(1640, 922)\n",
    "    camera_FOV_deg=(62.2, 48.8),\n",
    "    photo_logging_params=(5, 'logged_photos/'),\n",
    "    debug=False)\n",
    "\n",
    "# logging used for offline stuff only\n",
    "EL = ExperimentLogger()\n",
    "\n",
    "# a rolling buffer for the gimbal angles\n",
    "gimbal_buffer = GimbalAngleBuffer()\n",
    "\n",
    "# sometimes the gimbal adds 360ᵒ or more to the angle. This keeps it to [-180, 180]\n",
    "def remove_spikes(x, limit=180): return ((x + limit) % (2*limit)) - limit"
   ]
  },
  {
   "cell_type": "code",
   "execution_count": null,
   "metadata": {
    "scrolled": true
   },
   "outputs": [],
   "source": [
    "while IC.dict_queue.empty() is True: pass # wait until there's a result from the nn (even if it didn't spot an object)\n",
    "\n",
    "t_start = time.time()\n",
    "t_since_nn_update = time.time()\n",
    "\n",
    "EKF_yaw.start_timer()\n",
    "EKF_pitch.start_timer()\n",
    "\n",
    "while True:\n",
    "    t = time.time()\n",
    "    \n",
    "    ######################### LOG THE GIMBAL ANGLES #########################\n",
    "    gc_angles = gc.get_motor_angles()\n",
    "    gc_angles['yaw'] = remove_spikes(gc_angles['yaw']) # get rid of erroneous spikes\n",
    "    gc_angles['pitch'] = remove_spikes(gc_angles['pitch'])\n",
    "    gimbal_buffer.log(gc_angles)\n",
    "    \n",
    "    ######################### NN and EKF #########################\n",
    "    # if there is a new result waiting...\n",
    "    if not IC.dict_queue.empty():\n",
    "        bb, bb_angles, photo_time = IC.get_result()\n",
    "\n",
    "        # and there was an actual object detected...\n",
    "        if bb_angles != -1:\n",
    "            (obj_x1, obj_y1), (obj_x2, obj_y2) = bb_angles\n",
    "            obj_yaw = (obj_x1 + obj_x2)/2\n",
    "            obj_pitch = -(obj_y1 + obj_y2)/2 # come as negative angles\n",
    "            \n",
    "#             print('photo -> result =', (time.time()-photo_time)*1000)\n",
    "            logger_yaw, logger_pitch = gimbal_buffer.angle_closest_to(photo_time)            \n",
    "            EKF_yaw.better_update(obj_yaw + logger_yaw)\n",
    "            EKF_pitch.better_update(obj_pitch + logger_pitch)\n",
    "    \n",
    "    ######################### CONTROL #########################\n",
    "    desired_yaw = EKF_yaw.get_cur_est_pos()\n",
    "    desired_pitch = EKF_pitch.get_cur_est_pos()\n",
    "    \n",
    "    # add in bounds\n",
    "    desired_pitch = min(max(desired_pitch, -45), 45) # bounds are (-45, 45)\n",
    "    desired_yaw = min(max(desired_yaw, -120), 120)   # bounds are (-120, 120)\n",
    "    \n",
    "#     gc.send_angle_command(roll=0, pitch=20, yaw=desired_yaw)\n",
    "    gc.send_angle_command(roll=0, pitch=desired_pitch, yaw=desired_yaw)\n",
    "\n",
    "    ######################### TIMING #########################    \n",
    "    t_end = time.time()\n",
    "    if t_end > t_start + total_run_time:\n",
    "        break\n",
    "    elif t_end - t > t_loop_desired:\n",
    "        EL.log(gc_angles, obj_yaw, EKF_yaw, obj_pitch, EKF_pitch, time.time() - t_start)\n",
    "    else:\n",
    "        time.sleep(t_loop_desired - (t_end - t))  # aim for a loop time of 50ms\n",
    "        EL.log(gc_angles, obj_yaw, EKF_yaw, obj_pitch, EKF_pitch, time.time() - t_start)\n",
    "\n",
    "IC.close()\n",
    "gc.send_angle_command(0, 0, 0);"
   ]
  },
  {
   "cell_type": "code",
   "execution_count": null,
   "metadata": {},
   "outputs": [],
   "source": [
    "# IC.close()\n",
    "# gc.send_angle_command(0, 0, 0);"
   ]
  },
  {
   "cell_type": "code",
   "execution_count": null,
   "metadata": {},
   "outputs": [],
   "source": [
    "# very hacky! should make this nicer!\n",
    "\n",
    "potential_dirs = [f for f in os.listdir('.') if re.match(r'logged_photos*', f)]\n",
    "# print(potential_dirs)\n",
    "if len(potential_dirs) == 1:\n",
    "    EL_save_dir = potential_dirs[0] + '/ExperimentLogger_readings.csv'\n",
    "else:\n",
    "    EL_save_dir = potential_dirs[-2] + '/ExperimentLogger_readings.csv' # -1 = logged_photos, others are sorted\n",
    "\n",
    "print('Saving experiment logger to ' + EL_save_dir)\n",
    "EL.save(EL_save_dir)"
   ]
  },
  {
   "cell_type": "code",
   "execution_count": null,
   "metadata": {},
   "outputs": [],
   "source": [
    "# EL.plot()"
   ]
  },
  {
   "cell_type": "code",
   "execution_count": null,
   "metadata": {},
   "outputs": [],
   "source": [
    "# def f(lst):\n",
    "#     return ((lst + 180) % 360) - 180\n",
    "\n",
    "# def print_spaced(lst):\n",
    "#     strs = [str(i) for i in lst]\n",
    "#     [print(i.rjust(5), end='') for i in strs]\n",
    "#     print()\n",
    "\n",
    "# x = np.array([-370, -280, -190, -120, -80, 0, 80, 120, 190, 280, 370])\n",
    "# print('x original:\\t',end=''); print_spaced(x)\n",
    "# print('x + 360:\\t',end=''); print_spaced(x + 360)\n",
    "# print('x - 360:\\t',end=''); print_spaced(x - 360)\n",
    "# print('-'*71)\n",
    "\n",
    "# print('x % 360:\\t', end=''); print_spaced(x % 360)\n",
    "# print('f(x):\\t\\t', end=''); print_spaced(f(x))"
   ]
  },
  {
   "cell_type": "code",
   "execution_count": null,
   "metadata": {},
   "outputs": [],
   "source": []
  }
 ],
 "metadata": {
  "kernelspec": {
   "display_name": "Python 3",
   "language": "python",
   "name": "python3"
  },
  "language_info": {
   "codemirror_mode": {
    "name": "ipython",
    "version": 3
   },
   "file_extension": ".py",
   "mimetype": "text/x-python",
   "name": "python",
   "nbconvert_exporter": "python",
   "pygments_lexer": "ipython3",
   "version": "3.6.3"
  }
 },
 "nbformat": 4,
 "nbformat_minor": 2
}
