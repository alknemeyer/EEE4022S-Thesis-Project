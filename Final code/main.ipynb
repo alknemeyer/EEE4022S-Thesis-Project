{
 "cells": [
  {
   "cell_type": "markdown",
   "metadata": {},
   "source": [
    "# Main file for thesis project\n",
    "\n",
    "Ie the top level script which runs the whole `pic -> recognise -> aim gimbal -> repeat` show"
   ]
  },
  {
   "cell_type": "code",
   "execution_count": null,
   "metadata": {},
   "outputs": [],
   "source": [
    "#!/usr/bin/python3\n",
    "# top level script to run the show\n",
    "\n",
    "# TODO: add all the ncs stuff\n",
    "# TODO: add all the gimbal control stuff\n",
    "# TODO: add the EKF\n",
    "# TODO: add the control stuff\n",
    "\n",
    "from image_classifier import ImageClassifier\n",
    "import gimbal_control as gc\n",
    "from extended_kalman_filter import ExtendedKalmanFilter\n",
    "\n",
    "classifier = ImageClassifier()  # done but not tested\n",
    "EKF = ExtendedKalmanFilter()    # not done, not tested\n",
    "SBGC = GimbalController()       # done, needs to be repackaged and tested\n",
    "\n",
    "while True:\n",
    "    pic = take_picture()\n",
    "\n",
    "\tobj_position = run_through_ncs(pic)\n",
    "\t\n",
    "\t# while the nn recognises the image (approx 80ms),\n",
    "\t# do other stuff:\n",
    "\t\n",
    "\tangles = get_angles_from_gimbal()\n",
    "\n",
    "\tstates = EKF(obj_position, angles)\n",
    "\t\n",
    "\tcontrol_action = controller(states)\n",
    "\t\n",
    "\tcommand_gimbal(control_action)\n"
   ]
  },
  {
   "cell_type": "code",
   "execution_count": 1,
   "metadata": {},
   "outputs": [
    {
     "name": "stdout",
     "output_type": "stream",
     "text": [
      "[NbConvertApp] Converting notebook image_classifier.ipynb to python\n",
      "[NbConvertApp] Writing 13187 bytes to image_classifier.py\n"
     ]
    }
   ],
   "source": [
    "from image_classifier import ImageClassifier"
   ]
  },
  {
   "cell_type": "code",
   "execution_count": 2,
   "metadata": {},
   "outputs": [],
   "source": [
    "IC = ImageClassifier(graph_file='../Models/MobileNet_SSD_caffe/graph',\n",
    "                     label_file='../Models/MobileNet_SSD_caffe/categories.txt')"
   ]
  },
  {
   "cell_type": "code",
   "execution_count": 13,
   "metadata": {},
   "outputs": [
    {
     "name": "stdout",
     "output_type": "stream",
     "text": [
      "{'num_detections': 1, 'detection_scores_0': 97, 'detection_boxes_0': [(0, 128), (397, 576)], 'detection_classes_0': 15}\n",
      "((128, 0), (576, 397))\n",
      "79.94145\n"
     ]
    },
    {
     "name": "stderr",
     "output_type": "stream",
     "text": [
      "/usr/local/lib/python3.5/dist-packages/mvnc/mvncapi.py:418: DeprecationWarning: The binary mode of fromstring is deprecated, as it behaves surprisingly on unicode inputs. Use frombuffer instead\n",
      "  tensor = numpy.fromstring(tensor.raw, dtype=numpy.float32)\n"
     ]
    }
   ],
   "source": [
    "img_array = IC.take_picture_and_start_inference()\n",
    "output_dict, bb, inference_time_ms = IC.get_inference_result()\n",
    "\n",
    "print(output_dict)\n",
    "print(bb)\n",
    "print(inference_time_ms)"
   ]
  },
  {
   "cell_type": "code",
   "execution_count": null,
   "metadata": {},
   "outputs": [],
   "source": []
  }
 ],
 "metadata": {
  "kernelspec": {
   "display_name": "Python 3",
   "language": "python",
   "name": "python3"
  },
  "language_info": {
   "codemirror_mode": {
    "name": "ipython",
    "version": 3
   },
   "file_extension": ".py",
   "mimetype": "text/x-python",
   "name": "python",
   "nbconvert_exporter": "python",
   "pygments_lexer": "ipython3",
   "version": "3.5.3"
  }
 },
 "nbformat": 4,
 "nbformat_minor": 2
}
