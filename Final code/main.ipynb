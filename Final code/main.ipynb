{
 "cells": [
  {
   "cell_type": "markdown",
   "metadata": {},
   "source": [
    "# Main file for thesis project\n",
    "\n",
    "Ie the top level script which runs the whole `pic -> recognise -> aim gimbal -> repeat` show"
   ]
  },
  {
   "cell_type": "code",
   "execution_count": null,
   "metadata": {},
   "outputs": [],
   "source": [
    "import time, \\\n",
    "       numpy as np, \\\n",
    "       gimbal_control as gc, \\\n",
    "       matplotlib.pyplot as plt, \\\n",
    "       pandas as pd\n",
    "\n",
    "from extended_kalman_filter import ExtendedKalmanFilter\n",
    "from image_classifier import ImageClassifier"
   ]
  },
  {
   "cell_type": "code",
   "execution_count": null,
   "metadata": {},
   "outputs": [],
   "source": [
    "def plot_util(_plt):\n",
    "    _plt.legend()\n",
    "    _plt.grid()\n",
    "    fig = _plt.gcf();\n",
    "    fig.set_size_inches(18.5, 5, forward=True)\n",
    "    _plt.show()"
   ]
  },
  {
   "cell_type": "code",
   "execution_count": null,
   "metadata": {},
   "outputs": [],
   "source": [
    "class ExperimentLogger():\n",
    "    def __init__(self):\n",
    "        self.phi_yaw_arr = []\n",
    "        self.EKF_yaw_arr = []\n",
    "        self.gc_yaw_arr = []\n",
    "        \n",
    "        self.phi_pitch_arr = []\n",
    "        self.EKF_pitch_arr = []\n",
    "        self.gc_pitch_arr = []\n",
    "        \n",
    "        self.time_arr = []\n",
    "    \n",
    "    def log(self, gc_angles, phi_yaw, EKF_yaw, phi_pitch, EKF_pitch, t):\n",
    "        self.phi_yaw_arr.append(phi_yaw)\n",
    "        self.EKF_yaw_arr.append(EKF_yaw.get_pos())\n",
    "\n",
    "        self.phi_pitch_arr.append(phi_pitch)\n",
    "        self.EKF_pitch_arr.append(EKF_pitch.get_pos())\n",
    "\n",
    "        self.gc_yaw_arr.append(gc_angles['yaw'])\n",
    "        self.gc_pitch_arr.append(gc_angles['pitch'])\n",
    "        \n",
    "        self.time_arr.append(t)"
   ]
  },
  {
   "cell_type": "markdown",
   "metadata": {},
   "source": [
    "## A Basic Loop"
   ]
  },
  {
   "cell_type": "code",
   "execution_count": null,
   "metadata": {},
   "outputs": [],
   "source": [
    "EKF_yaw = ExtendedKalmanFilter(Ts=0.05, Q=0.5, R=0.005, a=0.94)    # need to tweak Q and R\n",
    "EKF_pitch = ExtendedKalmanFilter(Ts=0.05, Q=0.5, R=0.005, a=0.94)  # need to tweak Q and R"
   ]
  },
  {
   "cell_type": "code",
   "execution_count": null,
   "metadata": {
    "scrolled": true
   },
   "outputs": [],
   "source": [
    "IC = ImageClassifier(\n",
    "    graph_filename='../Models/MobileNet_SSD_caffe/graph',\n",
    "    label_filename='../Models/MobileNet_SSD_caffe/categories.txt',\n",
    "    class_of_interest='person',\n",
    "    camera_resolution=(1640,922),\n",
    "    debug=False)"
   ]
  },
  {
   "cell_type": "code",
   "execution_count": null,
   "metadata": {
    "scrolled": true
   },
   "outputs": [],
   "source": [
    "# constants\n",
    "total_run_time = 20 # seconds\n",
    "t_loop = 0.05       # seconds = 50 ms\n",
    "\n",
    "# get EKFs going on the initial angles\n",
    "initial_angles = gc.get_motor_angles()\n",
    "for i in range(10):\n",
    "    EKF_yaw.predict(); EKF_yaw.update(initial_angles['yaw'])\n",
    "    EKF_pitch.predict(); EKF_pitch.update(initial_angles['pitch'])\n",
    "\n",
    "while IC.dict_queue.empty() is True: pass\n",
    "\n",
    "# other stuff\n",
    "EL = ExperimentLogger()\n",
    "\n",
    "phi_yaw, phi_pitch = 0, 0\n",
    "\n",
    "t_start = time.time()\n",
    "while True:\n",
    "    t = time.time()\n",
    "    print('+', end='')\n",
    "    \n",
    "    gc_angles = gc.get_motor_angles()\n",
    "    gc_angles['yaw'] = ((gc_angles['yaw']+90) % 180)-90\n",
    "    gc_angles['pitch'] = ((gc_angles['pitch']+90) % 180)-90\n",
    "    \n",
    "    ######################### EKF #########################\n",
    "    EKF_yaw.predict()\n",
    "    EKF_pitch.predict()\n",
    "    \n",
    "    # if there is a new result waiting...\n",
    "    if not IC.dict_queue.empty():\n",
    "        print('.',end='')\n",
    "        bb, bb_angles = IC.get_result()\n",
    "\n",
    "        # and there was an actual object detected...\n",
    "        if bb_angles != -1:\n",
    "            (phi_x1, phi_y1), (phi_x2, phi_y2) = bb_angles\n",
    "            phi_yaw = (phi_x1 + phi_x2)/2\n",
    "            phi_pitch = (phi_y1 + phi_y2)/2\n",
    "\n",
    "            EKF_yaw.update(phi_yaw + gc_angles['yaw'])\n",
    "            EKF_pitch.update(phi_pitch + gc_angles['pitch'])\n",
    "    \n",
    "    ######################### CONTROL #########################\n",
    "    desired_yaw = EKF_yaw.get_pos()\n",
    "    gc.send_angle_command(0, 0, desired_yaw)  # NOTE: NO PITCH\n",
    "    \n",
    "    ######################### TIMING #########################    \n",
    "    t_end = time.time()\n",
    "    if t_end > t_start + total_run_time:\n",
    "        break\n",
    "    elif t_end - t > t_loop:\n",
    "        EL.log(gc_angles, phi_yaw, EKF_yaw, phi_pitch, EKF_pitch, time.time() - t_start)\n",
    "    else:\n",
    "        time.sleep(t_loop - (t_end - t))  # aim for a loop time of 50ms\n",
    "        EL.log(gc_angles, phi_yaw, EKF_yaw, phi_pitch, EKF_pitch, time.time() - t_start)\n",
    "\n",
    "IC.close()"
   ]
  },
  {
   "cell_type": "code",
   "execution_count": null,
   "metadata": {},
   "outputs": [],
   "source": [
    "IC.close()\n",
    "gc.send_angle_command(0,0,30);"
   ]
  },
  {
   "cell_type": "code",
   "execution_count": null,
   "metadata": {},
   "outputs": [],
   "source": [
    "# df = pd.DataFrame(\n",
    "#     columns=['phi_yaw_arr', 'phi_pitch_arr',\n",
    "#              'gc_yaw_arr', 'gc_pitch_arr',\n",
    "#              'time_arr'],\n",
    "#     data=np.array([EL.phi_yaw_arr, EL.phi_pitch_arr,\n",
    "#                    EL.gc_yaw_arr, EL.gc_pitch_arr,\n",
    "#                    EL.time_arr]).T)\n",
    "# df.to_csv('logged_data_3.csv')"
   ]
  },
  {
   "cell_type": "code",
   "execution_count": null,
   "metadata": {},
   "outputs": [],
   "source": [
    "# df_loaded = pd.read_csv('logged_data_1.csv', index_col=0)\n",
    "# print(df_loaded.columns)\n",
    "\n",
    "# phi_yaw_arr = df_loaded.iloc[:,0].values\n",
    "# phi_pitch_arr = df_loaded.iloc[:,1].values\n",
    "# gc_yaw_arr = df_loaded.iloc[:,2].values\n",
    "# gc_pitch_arr = df_loaded.iloc[:,3].values\n",
    "# time_arr = df_loaded.iloc[:,4].values"
   ]
  },
  {
   "cell_type": "code",
   "execution_count": null,
   "metadata": {},
   "outputs": [],
   "source": [
    "plt.plot(EL.time_arr, EL.EKF_yaw_arr, label='EKF estimate of yaw [deg]')\n",
    "plt.plot(EL.time_arr, EL.phi_yaw_arr, label='Raw NN estimate of yaw [deg]')\n",
    "# tmp = [min(100, i) for i in EL.gc_yaw_arr]\n",
    "# tmp = [max(-100, i) for i in tmp]\n",
    "# plt.plot(EL.time_arr, tmp, label='Gimbal yaw [deg]')\n",
    "plt.plot(EL.time_arr, np.array(EL.gc_yaw_arr) + np.array(EL.phi_yaw_arr), label='Gimbal yaw [deg]')\n",
    "plot_util(plt)"
   ]
  },
  {
   "cell_type": "code",
   "execution_count": null,
   "metadata": {},
   "outputs": [],
   "source": [
    "plt.plot(EL.time_arr, EL.EKF_pitch_arr, label='EKF estimate of pitch [deg]')\n",
    "plt.plot(EL.time_arr, EL.phi_pitch_arr, label='Raw NN estimate of pitch [deg]')\n",
    "plt.plot(EL.time_arr, EL.gc_pitch_arr, label='Gimbal pitch [deg]')\n",
    "plot_util(plt)"
   ]
  },
  {
   "cell_type": "code",
   "execution_count": null,
   "metadata": {},
   "outputs": [],
   "source": [
    "loop_times_ms = [(t-t_)*1e3 for t_,t in zip(EL.time_arr[0:-1], EL.time_arr[1:])]\n",
    "plt.stem(EL.time_arr[:-1], loop_times_ms, label='loop times [ms]')\n",
    "plot_util(plt)"
   ]
  },
  {
   "cell_type": "code",
   "execution_count": null,
   "metadata": {},
   "outputs": [],
   "source": []
  }
 ],
 "metadata": {
  "kernelspec": {
   "display_name": "Python 3",
   "language": "python",
   "name": "python3"
  },
  "language_info": {
   "codemirror_mode": {
    "name": "ipython",
    "version": 3
   },
   "file_extension": ".py",
   "mimetype": "text/x-python",
   "name": "python",
   "nbconvert_exporter": "python",
   "pygments_lexer": "ipython3",
   "version": "3.6.3"
  }
 },
 "nbformat": 4,
 "nbformat_minor": 2
}
