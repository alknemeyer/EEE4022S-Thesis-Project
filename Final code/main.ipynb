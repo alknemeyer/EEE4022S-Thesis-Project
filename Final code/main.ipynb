{
 "cells": [
  {
   "cell_type": "markdown",
   "metadata": {},
   "source": [
    "# Main file for thesis project\n",
    "\n",
    "Ie the top level script which runs the whole `pic -> recognise -> aim gimbal -> repeat` show"
   ]
  },
  {
   "cell_type": "code",
   "execution_count": null,
   "metadata": {},
   "outputs": [],
   "source": [
    "import time\n",
    "import numpy as np\n",
    "\n",
    "# import gimbal_control as gc"
   ]
  },
  {
   "cell_type": "markdown",
   "metadata": {},
   "source": [
    "## A Basic Loop"
   ]
  },
  {
   "cell_type": "code",
   "execution_count": null,
   "metadata": {},
   "outputs": [],
   "source": [
    "from extended_kalman_filter import ExtendedKalmanFilter\n",
    "\n",
    "EKF_yaw = ExtendedKalmanFilter(Ts=0.05, Q=0.05, R=0.1, a=0.99)  # need to tweak Q and R\n",
    "EKF_pitch = ExtendedKalmanFilter(Ts=0.05, Q=0.05, R=0.1, a=0.99)  # need to tweak Q and R"
   ]
  },
  {
   "cell_type": "code",
   "execution_count": null,
   "metadata": {
    "scrolled": true
   },
   "outputs": [],
   "source": [
    "from image_classifier import ImageClassifier\n",
    "\n",
    "IC = ImageClassifier(\n",
    "    graph_filename='../Models/MobileNet_SSD_caffe/graph',\n",
    "    label_filename='../Models/MobileNet_SSD_caffe/categories.txt',\n",
    "    class_of_interest='person',\n",
    "    camera_resolution=(1640,922),\n",
    "    debug=False)"
   ]
  },
  {
   "cell_type": "code",
   "execution_count": null,
   "metadata": {
    "scrolled": true
   },
   "outputs": [],
   "source": [
    "phi_yaw_arr = []\n",
    "EKF_yaw_arr = []\n",
    "\n",
    "phi_pitch_arr = []\n",
    "EKF_pitch_arr = []\n",
    "\n",
    "phi_yaw = 0\n",
    "phi_pitch = 0\n",
    "\n",
    "time_arr = []\n",
    "t_start = time.time()\n",
    "\n",
    "# constants\n",
    "total_run_time = 30 # seconds\n",
    "t_loop = 0.05       # seconds = 50 ms\n",
    "\n",
    "while True:\n",
    "    t = time.time()\n",
    "    print('+', end='')\n",
    "    \n",
    "    EKF_yaw.predict()\n",
    "    EKF_pitch.predict()\n",
    "    \n",
    "    # if there is a new result waiting...\n",
    "    if not IC.dict_queue.empty():\n",
    "        print('.',end='')\n",
    "        bb, bb_angles = IC.get_result()\n",
    "\n",
    "        # and there was an actual object detected...\n",
    "        if bb_angles != -1:\n",
    "            (phi_x1, phi_y1), (phi_x2, phi_y2) = bb_angles\n",
    "            phi_yaw = (phi_x1 + phi_x2)/2\n",
    "            phi_pitch = (phi_y1 + phi_y2)/2\n",
    "\n",
    "            EKF_yaw.update(phi_yaw)\n",
    "            EKF_pitch.update(phi_pitch)\n",
    "\n",
    "    phi_yaw_arr.append(phi_yaw)\n",
    "    EKF_yaw_arr.append(EKF_yaw.x.item(0))\n",
    "    phi_pitch_arr.append(phi_pitch)\n",
    "    EKF_pitch_arr.append(EKF_pitch.x.item(0))\n",
    "    \n",
    "    time_arr.append(time.time() - t_start)\n",
    "    \n",
    "    if time.time() > t_start + total_run_time:\n",
    "        break\n",
    "    \n",
    "    if time.time() - t < 0.001:\n",
    "        continue\n",
    "    else:\n",
    "        time.sleep(t_loop - (time.time() - t))  # aim for a loop time of 50ms\n",
    "\n",
    "IC.close()"
   ]
  },
  {
   "cell_type": "code",
   "execution_count": null,
   "metadata": {},
   "outputs": [],
   "source": [
    "import matplotlib.pyplot as plt\n",
    "import pandas as pd"
   ]
  },
  {
   "cell_type": "code",
   "execution_count": null,
   "metadata": {},
   "outputs": [],
   "source": [
    "# df = pd.DataFrame(\n",
    "#     columns=['phi_yaw_arr', 'phi_pitch_arr', 'time_arr'],\n",
    "#     data=np.array([phi_yaw_arr, phi_pitch_arr, time_arr]).T)\n",
    "# df.to_csv('logged_data_2.csv')"
   ]
  },
  {
   "cell_type": "code",
   "execution_count": null,
   "metadata": {},
   "outputs": [],
   "source": [
    "# df_loaded = pd.read_csv('logged_data_1.csv', index_col=0)\n",
    "# print(df_loaded.columns)\n",
    "\n",
    "# phi_yaw_arr = df_loaded.iloc[:,0].values\n",
    "# phi_pitch_arr = df_loaded.iloc[:,1].values\n",
    "# time_arr = df_loaded.iloc[:,2].values"
   ]
  },
  {
   "cell_type": "code",
   "execution_count": null,
   "metadata": {},
   "outputs": [],
   "source": [
    "plt.plot(time_arr, EKF_yaw_arr, label='EKF estimate of yaw [deg]')\n",
    "plt.plot(time_arr, phi_yaw_arr, label='Raw NN estimate of yaw [deg]')\n",
    "plt.legend(); plt.grid(); fig = plt.gcf(); fig.set_size_inches(18.5, 5, forward=True); plt.show()"
   ]
  },
  {
   "cell_type": "code",
   "execution_count": null,
   "metadata": {},
   "outputs": [],
   "source": [
    "plt.plot(time_arr, EKF_pitch_arr, label='EKF estimate of pitch [deg]')\n",
    "plt.plot(time_arr, phi_pitch_arr, label='Raw NN estimate of pitch [deg]')\n",
    "plt.legend(); plt.grid(); fig = plt.gcf(); fig.set_size_inches(18.5, 5, forward=True); plt.show()"
   ]
  },
  {
   "cell_type": "code",
   "execution_count": null,
   "metadata": {},
   "outputs": [],
   "source": [
    "loop_times_ms = [(t-t_)*1e3 for t_,t in zip(time_arr[0:-1], time_arr[1:])]\n",
    "plt.stem(time_arr[:-1], loop_times_ms, label='loop times [ms]')\n",
    "plt.legend(); plt.grid(); fig = plt.gcf(); fig.set_size_inches(18.5, 5, forward=True); plt.show()"
   ]
  },
  {
   "cell_type": "code",
   "execution_count": null,
   "metadata": {},
   "outputs": [],
   "source": []
  },
  {
   "cell_type": "code",
   "execution_count": null,
   "metadata": {},
   "outputs": [],
   "source": []
  },
  {
   "cell_type": "code",
   "execution_count": null,
   "metadata": {},
   "outputs": [],
   "source": [
    "# def plot_util(_plt):\n",
    "#     _plt.legend()\n",
    "#     _plt.grid()\n",
    "#     fig = _plt.gcf();\n",
    "#     fig.set_size_inches(18.5, 5, forward=True)\n",
    "#     _plt.show()"
   ]
  }
 ],
 "metadata": {
  "kernelspec": {
   "display_name": "Python 3",
   "language": "python",
   "name": "python3"
  },
  "language_info": {
   "codemirror_mode": {
    "name": "ipython",
    "version": 3
   },
   "file_extension": ".py",
   "mimetype": "text/x-python",
   "name": "python",
   "nbconvert_exporter": "python",
   "pygments_lexer": "ipython3",
   "version": "3.5.3"
  }
 },
 "nbformat": 4,
 "nbformat_minor": 2
}
