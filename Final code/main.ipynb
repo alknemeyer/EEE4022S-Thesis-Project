{
 "cells": [
  {
   "cell_type": "markdown",
   "metadata": {},
   "source": [
    "# Main file for thesis project\n",
    "\n",
    "Ie the top level script which runs the whole `pic -> recognise -> aim gimbal -> repeat` show"
   ]
  },
  {
   "cell_type": "code",
   "execution_count": null,
   "metadata": {},
   "outputs": [],
   "source": [
    "#!/usr/bin/python3\n",
    "# top level script to run the show\n",
    "import time\n",
    "import PIL.Image\n",
    "\n",
    "import image_classifier\n",
    "import gimbal_control as gc\n",
    "\n",
    "import matplotlib.pyplot as plt"
   ]
  },
  {
   "cell_type": "markdown",
   "metadata": {},
   "source": [
    "## A Basic Loop"
   ]
  },
  {
   "cell_type": "code",
   "execution_count": null,
   "metadata": {},
   "outputs": [],
   "source": [
    "IC = image_classifier.ImageClassifier(\n",
    "    graph_file='../Models/MobileNet_SSD_caffe/graph',\n",
    "    label_file='../Models/MobileNet_SSD_caffe/categories.txt',\n",
    "    class_of_interest='person',\n",
    "    camera_resolution=(320, 304))"
   ]
  },
  {
   "cell_type": "code",
   "execution_count": null,
   "metadata": {
    "scrolled": true
   },
   "outputs": [],
   "source": [
    "t_start = time.time()\n",
    "\n",
    "yaw_before = []\n",
    "yaw_after = []\n",
    "angles_just_before = []\n",
    "time_vals = []\n",
    "\n",
    "while True:\n",
    "    t = time.time()\n",
    "    angles_before = gc.get_motor_angles()  # get the current motor angles - need these to calculate offsets\n",
    "    img_array = IC.take_picture_and_start_inference()\n",
    "#     time.sleep(0.02)\n",
    "    angles_after = gc.get_motor_angles()\n",
    "    output_dict, bb, bb_angles, inference_time_ms = IC.get_inference_result()\n",
    "    \n",
    "    if angles_before == 0: print('before'); continue\n",
    "    if angles_after == 0: print('after'); continue\n",
    "    \n",
    "    if bb_angles == -1:\n",
    "        print('-', end='')\n",
    "        img = PIL.Image.fromarray(img_array)\n",
    "        continue\n",
    "        \n",
    "    else:\n",
    "        print('+', end='')\n",
    "#         time.sleep(0.02)\n",
    "        angle_yaw = angles_before['yaw']*0.5 + angles_after['yaw']*0.5    \n",
    "\n",
    "        # draw a box on the object\n",
    "        (x1, y1), (x2, y2) = bb\n",
    "        img = PIL.Image.fromarray(img_array)\n",
    "        img = PIL.Image.fromarray(image_classifier.draw_bounding_box(y1, x1, y2, x2, img_array))\n",
    "#         plt.imshow(img)\n",
    "#         plt.show()\n",
    "\n",
    "        # convert angles of object to centroids\n",
    "        (phi_x1, phi_y1), (phi_x2, phi_y2) = bb_angles\n",
    "        phi_yaw = (phi_x1 + phi_x2)/2\n",
    "        phi_pitch = (phi_y1 + phi_y2)/2\n",
    "        \n",
    "#         angles['pitch'] = -angles['pitch']\n",
    "#         print('gimbal = %d, obj = %d' % (angles['pitch'], phi_pitch))\n",
    "\n",
    "        angles2 = gc.get_motor_angles()\n",
    "        if angles2 == 0: print('angles2'); continue\n",
    "        \n",
    "#         print('gc_pic = %d, gc_now = %d, phi_yaw = %d, target = %d' % (angles['yaw'], angles2['yaw'], phi_yaw, phi_yaw*0.5 + angles['yaw']))\n",
    "#         print('phi_yaw = %d' % phi_yaw)\n",
    "        gc.send_angle_command(0,\n",
    "                              0,\n",
    "                              phi_yaw*0.5 + angle_yaw)\n",
    "    \n",
    "    yaw_before.append(angles_before['yaw'])\n",
    "    yaw_after.append(angles_after['yaw'])\n",
    "    angles_just_before.append(angles2['yaw'])    \n",
    "    t_loop = time.time() - t\n",
    "    time_vals.append(time.time() - t_start)\n",
    "    \n",
    "    if t_loop < 0.25:\n",
    "        time.sleep(0.25 - t_loop)\n",
    "    else:\n",
    "        print(t_loop)\n",
    "        # old integrator approach\n",
    "#         x_target += (x1+x2)/2\n",
    "#         x_target = max(-20, min(20, x_target))\n",
    "#         gc.send_angle_command(0, 0, x_target)\n",
    "#     time.sleep(0.05)"
   ]
  },
  {
   "cell_type": "code",
   "execution_count": null,
   "metadata": {},
   "outputs": [],
   "source": [
    "t_start = time_vals[0]\n",
    "time_vals = [t - t_start for t in time_vals]\n",
    "plt.plot(time_vals, yaw_before, label='yaw_before')\n",
    "plt.plot(time_vals, yaw_after, label='yaw_after')\n",
    "plt.plot(time_vals, angles_just_before, label='angles_just_before')\n",
    "plt.legend()\n",
    "plt.grid()\n",
    "fig = plt.gcf(); fig.set_size_inches(18.5, 5, forward=True)\n",
    "plt.show()"
   ]
  },
  {
   "cell_type": "code",
   "execution_count": null,
   "metadata": {},
   "outputs": [],
   "source": [
    "plt.plot(time_vals, [i - j for i, j in zip(yaw_before, yaw_after)],\n",
    "         label='difference between samples before and after')\n",
    "fig = plt.gcf(); fig.set_size_inches(18.5, 5, forward=True); plt.grid(); plt.legend(); plt.show()"
   ]
  },
  {
   "cell_type": "code",
   "execution_count": null,
   "metadata": {},
   "outputs": [],
   "source": [
    "avg_angles = [(i+j)/2 for i, j in zip(yaw_before, yaw_after)]\n",
    "avg_angles_velocity = [(j-i)/(t_a-t_b) for i,j,t_b,t_a in zip(avg_angles[0:-1], avg_angles[1:], time_vals[0:-1], time_vals[1:])]\n",
    "\n",
    "# avg_angles_velocity = [(i+j)/2 for i,j in zip(avg_angles_velocity[0:-1], avg_angles_velocity[1:])]\n",
    "# avg_angles_velocity.append(avg_angles_velocity[-1])\n",
    "plt.plot(time_vals[1:], avg_angles_velocity, label='est angular velocity')\n",
    "plt.plot(time_vals, yaw_before, label='yaw_before')\n",
    "fig = plt.gcf(); fig.set_size_inches(18.5, 5, forward=True); plt.grid(); plt.legend(); plt.show()"
   ]
  },
  {
   "cell_type": "code",
   "execution_count": null,
   "metadata": {},
   "outputs": [],
   "source": [
    "img_array = IC.take_picture_and_start_inference()\n",
    "output_dict, bb, bb_angles, inference_time_ms = IC.get_inference_result(show_image=True)\n",
    "\n",
    "if bb_angles == -1:\n",
    "    print('-', end='')\n",
    "    img = PIL.Image.fromarray(img_array)\n",
    "\n",
    "else:\n",
    "    print('+', end='')\n",
    "    # draw a box on the object\n",
    "    (x1, y1), (x2, y2) = bb\n",
    "    img = PIL.Image.fromarray(img_array)\n",
    "    img = PIL.Image.fromarray(image_classifier.draw_bounding_box(y1, x1, y2, x2, img_array))\n",
    "\n",
    "img"
   ]
  },
  {
   "cell_type": "code",
   "execution_count": null,
   "metadata": {},
   "outputs": [],
   "source": [
    "IC.__del__()\n",
    "del IC"
   ]
  },
  {
   "cell_type": "code",
   "execution_count": null,
   "metadata": {},
   "outputs": [],
   "source": []
  }
 ],
 "metadata": {
  "kernelspec": {
   "display_name": "Python 3",
   "language": "python",
   "name": "python3"
  },
  "language_info": {
   "codemirror_mode": {
    "name": "ipython",
    "version": 3
   },
   "file_extension": ".py",
   "mimetype": "text/x-python",
   "name": "python",
   "nbconvert_exporter": "python",
   "pygments_lexer": "ipython3",
   "version": "3.5.3"
  }
 },
 "nbformat": 4,
 "nbformat_minor": 2
}
