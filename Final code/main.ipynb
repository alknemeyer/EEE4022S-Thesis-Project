{
 "cells": [
  {
   "cell_type": "markdown",
   "metadata": {},
   "source": [
    "# Main file for thesis project\n",
    "\n",
    "Ie the top level script which runs the whole `pic -> recognise -> aim gimbal -> repeat` show"
   ]
  },
  {
   "cell_type": "code",
   "execution_count": null,
   "metadata": {},
   "outputs": [],
   "source": [
    "#!/usr/bin/python3\n",
    "# top level script to run the show\n",
    "import time\n",
    "import PIL.Image\n",
    "\n",
    "import image_classifier\n",
    "import gimbal_control as gc"
   ]
  },
  {
   "cell_type": "markdown",
   "metadata": {},
   "source": [
    "## A Basic Loop"
   ]
  },
  {
   "cell_type": "code",
   "execution_count": null,
   "metadata": {},
   "outputs": [],
   "source": [
    "IC = image_classifier.ImageClassifier(\n",
    "    graph_file='../Models/MobileNet_SSD_caffe/graph',\n",
    "    label_file='../Models/MobileNet_SSD_caffe/categories.txt',\n",
    "    class_of_interest='person')"
   ]
  },
  {
   "cell_type": "code",
   "execution_count": null,
   "metadata": {
    "scrolled": true
   },
   "outputs": [],
   "source": [
    "while True:\n",
    "    img_array = IC.take_picture_and_start_inference()\n",
    "    angles = gc.get_motor_angles()  # get the current motor angles - need these to calculate offsets\n",
    "    output_dict, bb, bb_angles, inference_time_ms = IC.get_inference_result()\n",
    "\n",
    "    if bb_angles == -1:\n",
    "        print('-', end='')\n",
    "        img = PIL.Image.fromarray(img_array)\n",
    "        \n",
    "    else:\n",
    "        print('+', end='')\n",
    "        # draw a box on the object\n",
    "        (x1, y1), (x2, y2) = bb\n",
    "        img = PIL.Image.fromarray(img_array)\n",
    "        img = PIL.Image.fromarray(image_classifier.draw_bounding_box(y1, x1, y2, x2, img_array))\n",
    "#         plt.imshow(img)\n",
    "#         plt.show()\n",
    "\n",
    "        # convert angles of object to centroids\n",
    "        (phi_x1, phi_y1), (phi_x2, phi_y2) = bb_angles\n",
    "        phi_yaw = (phi_x1 + phi_x2)/2\n",
    "        phi_pitch = (phi_y1 + phi_y2)/2\n",
    "        \n",
    "        angles['pitch'] = -angles['pitch']\n",
    "#         print('gimbal = %d, obj = %d' % (angles['pitch'], phi_pitch))\n",
    "            \n",
    "#         print('phi_yaw = %d' % phi_yaw)\n",
    "        gc.send_angle_command(0,\n",
    "                              0,\n",
    "                              phi_yaw + angles['yaw'])\n",
    "        # old integrator approach\n",
    "#         x_target += (x1+x2)/2\n",
    "#         x_target = max(-20, min(20, x_target))\n",
    "#         gc.send_angle_command(0, 0, x_target)\n",
    "#     time.sleep(0.05)"
   ]
  },
  {
   "cell_type": "code",
   "execution_count": null,
   "metadata": {},
   "outputs": [],
   "source": [
    "img_array = IC.take_picture_and_start_inference()\n",
    "output_dict, bb, bb_angles, inference_time_ms = IC.get_inference_result()\n",
    "\n",
    "if bb_angles == -1:\n",
    "    print('-', end='')\n",
    "    img = PIL.Image.fromarray(img_array)\n",
    "\n",
    "else:\n",
    "    print('+', end='')\n",
    "    # draw a box on the object\n",
    "    (x1, y1), (x2, y2) = bb\n",
    "    img = PIL.Image.fromarray(img_array)\n",
    "    img = PIL.Image.fromarray(image_classifier.draw_bounding_box(y1, x1, y2, x2, img_array))\n",
    "\n",
    "img"
   ]
  },
  {
   "cell_type": "code",
   "execution_count": null,
   "metadata": {},
   "outputs": [],
   "source": []
  }
 ],
 "metadata": {
  "kernelspec": {
   "display_name": "Python 3",
   "language": "python",
   "name": "python3"
  },
  "language_info": {
   "codemirror_mode": {
    "name": "ipython",
    "version": 3
   },
   "file_extension": ".py",
   "mimetype": "text/x-python",
   "name": "python",
   "nbconvert_exporter": "python",
   "pygments_lexer": "ipython3",
   "version": "3.6.3"
  }
 },
 "nbformat": 4,
 "nbformat_minor": 2
}
