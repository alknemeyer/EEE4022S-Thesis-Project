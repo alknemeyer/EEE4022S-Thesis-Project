{
 "cells": [
  {
   "cell_type": "markdown",
   "metadata": {},
   "source": [
    "# Main file for thesis project\n",
    "\n",
    "Ie the top level script which runs the whole `pic -> recognise -> aim gimbal -> repeat` show"
   ]
  },
  {
   "cell_type": "code",
   "execution_count": null,
   "metadata": {},
   "outputs": [],
   "source": [
    "#!/usr/bin/python3\n",
    "# top level script to run the show\n",
    "\n",
    "# TODO: add the EKF\n",
    "# TODO: add the control stuff\n",
    "\n",
    "from image_classifier import ImageClassifier\n",
    "import gimbal_control as gc\n",
    "from extended_kalman_filter import ExtendedKalmanFilter\n",
    "\n",
    "classifier = ImageClassifier()  # done but not tested\n",
    "EKF = ExtendedKalmanFilter()    # not done, not tested\n",
    "SBGC = GimbalController()       # done, needs to be repackaged and tested\n",
    "\n",
    "while True:\n",
    "    pic = take_picture()\n",
    "\n",
    "\tobj_position = run_through_ncs(pic)\n",
    "\t\n",
    "\t# while the nn recognises the image (approx 80ms),\n",
    "\t# do other stuff:\n",
    "\t\n",
    "\tangles = get_angles_from_gimbal()\n",
    "\n",
    "\tstates = EKF(obj_position, angles)\n",
    "\t\n",
    "\tcontrol_action = controller(states)\n",
    "\t\n",
    "\tcommand_gimbal(control_action)\n"
   ]
  },
  {
   "cell_type": "markdown",
   "metadata": {},
   "source": [
    "## Image Classifier"
   ]
  },
  {
   "cell_type": "code",
   "execution_count": null,
   "metadata": {},
   "outputs": [],
   "source": [
    "from image_classifier import ImageClassifier"
   ]
  },
  {
   "cell_type": "code",
   "execution_count": null,
   "metadata": {},
   "outputs": [],
   "source": [
    "IC = ImageClassifier(graph_file='../Models/MobileNet_SSD_caffe/graph',\n",
    "                     label_file='../Models/MobileNet_SSD_caffe/categories.txt')"
   ]
  },
  {
   "cell_type": "code",
   "execution_count": null,
   "metadata": {},
   "outputs": [],
   "source": [
    "img_array = IC.take_picture_and_start_inference()\n",
    "output_dict, bb, inference_time_ms = IC.get_inference_result()\n",
    "\n",
    "print(output_dict)\n",
    "print(bb)\n",
    "print(inference_time_ms)"
   ]
  },
  {
   "cell_type": "markdown",
   "metadata": {},
   "source": [
    "## Gimbal Controller"
   ]
  },
  {
   "cell_type": "code",
   "execution_count": null,
   "metadata": {},
   "outputs": [],
   "source": [
    "import gimbal_control as gc"
   ]
  },
  {
   "cell_type": "code",
   "execution_count": null,
   "metadata": {},
   "outputs": [],
   "source": [
    "gc.turn_off_motors()"
   ]
  },
  {
   "cell_type": "code",
   "execution_count": null,
   "metadata": {},
   "outputs": [],
   "source": [
    "gc.turn_on_motors()"
   ]
  },
  {
   "cell_type": "code",
   "execution_count": null,
   "metadata": {},
   "outputs": [],
   "source": [
    "gc.send_angle_command(0, 0, 0)"
   ]
  },
  {
   "cell_type": "code",
   "execution_count": null,
   "metadata": {},
   "outputs": [],
   "source": [
    "angles = gc.get_motor_angles()\n",
    "print('Roll = %d, pitch = %d, yaw = %d' % (angles['roll'], angles['pitch'], angles['yaw']))"
   ]
  },
  {
   "cell_type": "markdown",
   "metadata": {},
   "source": [
    "## A Basic Loop"
   ]
  },
  {
   "cell_type": "code",
   "execution_count": 1,
   "metadata": {},
   "outputs": [
    {
     "ename": "NameError",
     "evalue": "name 'get_motor_angles' is not defined",
     "output_type": "error",
     "traceback": [
      "\u001b[0;31m---------------------------------------------------------------------------\u001b[0m",
      "\u001b[0;31mNameError\u001b[0m                                 Traceback (most recent call last)",
      "\u001b[0;32m<ipython-input-1-ba4f781a8dcc>\u001b[0m in \u001b[0;36m<module>\u001b[0;34m()\u001b[0m\n\u001b[1;32m      1\u001b[0m \u001b[0;32mfrom\u001b[0m \u001b[0mimage_classifier\u001b[0m \u001b[0;32mimport\u001b[0m \u001b[0mImageClassifier\u001b[0m\u001b[0;34m\u001b[0m\u001b[0m\n\u001b[0;32m----> 2\u001b[0;31m \u001b[0;32mimport\u001b[0m \u001b[0mgimbal_control\u001b[0m \u001b[0;32mas\u001b[0m \u001b[0mgc\u001b[0m\u001b[0;34m\u001b[0m\u001b[0m\n\u001b[0m\u001b[1;32m      3\u001b[0m \u001b[0;34m\u001b[0m\u001b[0m\n\u001b[1;32m      4\u001b[0m IC = ImageClassifier(graph_file='../Models/MobileNet_SSD_caffe/graph',\n\u001b[1;32m      5\u001b[0m                      label_file='../Models/MobileNet_SSD_caffe/categories.txt')\n",
      "\u001b[0;32m~/workspace/EEE4022S-Thesis-Project/Final code/gimbal_control.py\u001b[0m in \u001b[0;36m<module>\u001b[0;34m()\u001b[0m\n\u001b[1;32m     55\u001b[0m \u001b[0;34m\u001b[0m\u001b[0m\n\u001b[1;32m     56\u001b[0m \u001b[0;34m\u001b[0m\u001b[0m\n\u001b[0;32m---> 57\u001b[0;31m \u001b[0mget_motor_angles\u001b[0m\u001b[0;34m(\u001b[0m\u001b[0;34m)\u001b[0m\u001b[0;34m\u001b[0m\u001b[0m\n\u001b[0m\u001b[1;32m     58\u001b[0m \u001b[0;34m\u001b[0m\u001b[0m\n\u001b[1;32m     59\u001b[0m \u001b[0;34m\u001b[0m\u001b[0m\n",
      "\u001b[0;31mNameError\u001b[0m: name 'get_motor_angles' is not defined"
     ]
    }
   ],
   "source": [
    "from image_classifier import ImageClassifier\n",
    "import gimbal_control as gc\n",
    "\n",
    "IC = ImageClassifier(graph_file='../Models/MobileNet_SSD_caffe/graph',\n",
    "                     label_file='../Models/MobileNet_SSD_caffe/categories.txt')"
   ]
  },
  {
   "cell_type": "code",
   "execution_count": null,
   "metadata": {},
   "outputs": [],
   "source": [
    "angles = gc.get_motor_angles()\n",
    "\n",
    "while True:\n",
    "    img_array = IC.take_picture_and_start_inference()\n",
    "    output_dict, bb, inference_time_ms = IC.get_inference_result()\n",
    "    if bb = -1:\n",
    "        continue\n",
    "    else:\n",
    "        (x1, y1), (x2, y2) = bb\n",
    "        angles['yaw'] += (x2 - x1)*10\n",
    "        gc.send_angle_command(0, 0, angles['yaw'])"
   ]
  }
 ],
 "metadata": {
  "kernelspec": {
   "display_name": "Python 3",
   "language": "python",
   "name": "python3"
  },
  "language_info": {
   "codemirror_mode": {
    "name": "ipython",
    "version": 3
   },
   "file_extension": ".py",
   "mimetype": "text/x-python",
   "name": "python",
   "nbconvert_exporter": "python",
   "pygments_lexer": "ipython3",
   "version": "3.5.3"
  }
 },
 "nbformat": 4,
 "nbformat_minor": 2
}
