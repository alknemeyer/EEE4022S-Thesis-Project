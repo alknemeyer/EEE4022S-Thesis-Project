{
 "cells": [
  {
   "cell_type": "markdown",
   "metadata": {},
   "source": [
    "# Code to show a basic convolution example"
   ]
  },
  {
   "cell_type": "code",
   "execution_count": 1,
   "metadata": {},
   "outputs": [
    {
     "data": {
      "image/png": "[encoded data removed]",
      "text/plain": [
       "<PIL.Image.Image image mode=L size=200x200 at 0x29BD12CE1D0>"
      ]
     },
     "execution_count": 1,
     "metadata": {},
     "output_type": "execute_result"
    }
   ],
   "source": [
    "import numpy as np, PIL.Image, scipy.signal\n",
    "\n",
    "arr = np.array([[5,  232, 180, 212, 180],\n",
    "                [30, 243, 152, 206, 188],\n",
    "                [32, 255, 210, 190, 190],\n",
    "                [11, 242, 235, 230, 210],\n",
    "                [90, 240, 130,  20,  30]], dtype=np.uint8)\n",
    "\n",
    "PIL.Image.fromarray(arr).resize((200, 200))"
   ]
  },
  {
   "cell_type": "code",
   "execution_count": 2,
   "metadata": {},
   "outputs": [
    {
     "name": "stdout",
     "output_type": "stream",
     "text": [
      "[[  0 255   0 200   0]\n",
      " [  0 255   0 116   0]\n",
      " [  0 255   0  67   0]\n",
      " [  0 255   0   0   0]\n",
      " [  0 255   0   0   0]]\n"
     ]
    },
    {
     "data": {
      "image/png": "[encoded data removed]",
      "text/plain": [
       "<PIL.Image.Image image mode=L size=200x200 at 0x29BD86B4780>"
      ]
     },
     "execution_count": 2,
     "metadata": {},
     "output_type": "execute_result"
    }
   ],
   "source": [
    "kernel = np.array([[-1, 2, -1],\n",
    "                   [-1, 2, -1],\n",
    "                   [-1, 2, -1]])\n",
    "\n",
    "output = scipy.signal.convolve2d(arr, kernel, mode=\"same\", boundary=\"symm\")\n",
    "\n",
    "# clip to lie within [0, 255]\n",
    "output = np.minimum(np.maximum(output, 0), 255)\n",
    "\n",
    "print(output)\n",
    "\n",
    "PIL.Image.fromarray(output.astype(np.uint8)).resize((200,200))"
   ]
  },
  {
   "cell_type": "code",
   "execution_count": null,
   "metadata": {},
   "outputs": [],
   "source": []
  }
 ],
 "metadata": {
  "kernelspec": {
   "display_name": "Python 3",
   "language": "python",
   "name": "python3"
  },
  "language_info": {
   "codemirror_mode": {
    "name": "ipython",
    "version": 3
   },
   "file_extension": ".py",
   "mimetype": "text/x-python",
   "name": "python",
   "nbconvert_exporter": "python",
   "pygments_lexer": "ipython3",
   "version": "3.6.3"
  }
 },
 "nbformat": 4,
 "nbformat_minor": 2
}
