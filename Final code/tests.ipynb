{
 "cells": [
  {
   "cell_type": "code",
   "execution_count": null,
   "metadata": {},
   "outputs": [],
   "source": [
    "import image_classifier # deserialize_ssd\n",
    "import numpy as np\n",
    "import mvnc.mvncapi as mvnc\n",
    "import os\n",
    "import PIL.Image\n",
    "from pathlib import Path\n",
    "import utils"
   ]
  },
  {
   "cell_type": "markdown",
   "metadata": {},
   "source": [
    "# Set params"
   ]
  },
  {
   "cell_type": "code",
   "execution_count": null,
   "metadata": {},
   "outputs": [],
   "source": [
    "img_dir='logged_photos/'\n",
    "#img_dir = 'my_dogs/'"
   ]
  },
  {
   "cell_type": "markdown",
   "metadata": {},
   "source": [
    "# Convert `.npy` to `.jpg`"
   ]
  },
  {
   "cell_type": "code",
   "execution_count": null,
   "metadata": {},
   "outputs": [],
   "source": [
    "def convert_from_preprocessed_npy_to_jpg(img_dir):\n",
    "    for file in os.listdir(img_dir):\n",
    "        if file[-4:] == '.npy' and ((file[:-4] + '.jpg') not in os.listdir(img_dir)):\n",
    "            # load and undo effects of preprocessing\n",
    "            img_arr = np.load(img_dir + file)\n",
    "            img_arr = (img_arr/np.float32(0.00789)) + np.float32((127.5, 127.5, 127.5))\n",
    "            img_arr = img_arr.astype(np.uint8)\n",
    "\n",
    "            # save as regular image\n",
    "            img = PIL.Image.fromarray(img_arr) # (frame.array - np.float32(mean)) * np.float32(scale)\n",
    "            img.save(img_dir + file[:-4] + '.jpg')\n",
    "    \n",
    "    try:\n",
    "        return img # returns this if img is defined\n",
    "    finally:\n",
    "        return\n",
    "\n",
    "convert_from_preprocessed_npy_to_jpg(img_dir)"
   ]
  },
  {
   "cell_type": "markdown",
   "metadata": {},
   "source": [
    "# Test neural net using photos on disk"
   ]
  },
  {
   "cell_type": "code",
   "execution_count": null,
   "metadata": {},
   "outputs": [],
   "source": [
    "def init_ncs(graph_filename='../Models/MobileNet_SSD_caffe/graph'):\n",
    "    devices = mvnc.enumerate_devices()\n",
    "    if len(devices) == 0:\n",
    "        print('No NCS devices found')\n",
    "        exit()\n",
    "\n",
    "    # Get a handle to the first enumerated device and open it\n",
    "    device = mvnc.Device(devices[0])\n",
    "    device.open()\n",
    "\n",
    "    # Read the graph file into a buffer\n",
    "    with open(graph_filename, mode='rb') as f:\n",
    "        blob = f.read()\n",
    "\n",
    "    # Load the graph buffer into the NCS\n",
    "    graph = mvnc.Graph(graph_filename)\n",
    "    fifo_in, fifo_out = graph.allocate_with_fifos(device, blob)\n",
    "\n",
    "    return device, graph, fifo_in, fifo_out"
   ]
  },
  {
   "cell_type": "code",
   "execution_count": null,
   "metadata": {
    "scrolled": true
   },
   "outputs": [],
   "source": [
    "device, graph, fifo_in, fifo_out = init_ncs()"
   ]
  },
  {
   "cell_type": "code",
   "execution_count": null,
   "metadata": {},
   "outputs": [],
   "source": [
    "def infer_img(img,\n",
    "              graph, fifo_in, fifo_out,\n",
    "              nn_shape=(300,300),\n",
    "              mean=(127.5, 127.5, 127.5),\n",
    "              scale=0.00789,\n",
    "              confidance_threshold=0.7):\n",
    "    preprocessed_img = (img - np.float32(mean)) * np.float32(scale)\n",
    "\n",
    "    graph.queue_inference_with_fifo_elem(fifo_in, fifo_out, preprocessed_img, None)\n",
    "    \n",
    "    output, userobj = fifo_out.read_elem()\n",
    "\n",
    "    # Deserialize the output into a python dictionary\n",
    "    output_dict = image_classifier.deserialize_ssd(output, nn_shape, confidance_threshold)\n",
    "    \n",
    "    return output_dict"
   ]
  },
  {
   "cell_type": "code",
   "execution_count": null,
   "metadata": {},
   "outputs": [],
   "source": [
    "label_filename='../Models/MobileNet_SSD_caffe/categories.txt'\n",
    "labels = [line.rstrip('\\n') for line in open(label_filename) if line != 'classes\\n']\n",
    "\n",
    "class_of_interest = 'all'\n",
    "#class_of_interest = labels.index('dog')"
   ]
  },
  {
   "cell_type": "code",
   "execution_count": null,
   "metadata": {},
   "outputs": [],
   "source": [
    "imgs = []\n",
    "\n",
    "for file in os.listdir(img_dir):\n",
    "    if file[-4:] == '.npy':\n",
    "        continue\n",
    "    im = PIL.Image.open(img_dir + file).resize((300,300))\n",
    "    output_dict = infer_img(np.array(im), graph, fifo_in, fifo_out, confidance_threshold=0.2)\n",
    "    img = utils.display_image(output_dict, class_of_interest, np.array(im), labels)\n",
    "    \n",
    "    imgs.append(PIL.Image.fromarray(img))\n",
    "\n",
    "len(imgs)"
   ]
  },
  {
   "cell_type": "code",
   "execution_count": null,
   "metadata": {},
   "outputs": [],
   "source": [
    "imgs[0].resize((600,600), PIL.Image.ANTIALIAS)"
   ]
  },
  {
   "cell_type": "code",
   "execution_count": null,
   "metadata": {},
   "outputs": [],
   "source": [
    "imgs[1].resize((600,600), PIL.Image.ANTIALIAS)"
   ]
  },
  {
   "cell_type": "code",
   "execution_count": null,
   "metadata": {},
   "outputs": [],
   "source": [
    "imgs[2].resize((600,600), PIL.Image.ANTIALIAS)"
   ]
  },
  {
   "cell_type": "code",
   "execution_count": null,
   "metadata": {},
   "outputs": [],
   "source": [
    "imgs[3].resize((600,600), PIL.Image.ANTIALIAS)"
   ]
  },
  {
   "cell_type": "code",
   "execution_count": null,
   "metadata": {},
   "outputs": [],
   "source": [
    "imgs[4].resize((600,600), PIL.Image.ANTIALIAS)"
   ]
  },
  {
   "cell_type": "code",
   "execution_count": null,
   "metadata": {},
   "outputs": [],
   "source": []
  },
  {
   "cell_type": "code",
   "execution_count": null,
   "metadata": {},
   "outputs": [],
   "source": []
  },
  {
   "cell_type": "code",
   "execution_count": null,
   "metadata": {},
   "outputs": [],
   "source": []
  },
  {
   "cell_type": "code",
   "execution_count": null,
   "metadata": {},
   "outputs": [],
   "source": []
  },
  {
   "cell_type": "code",
   "execution_count": null,
   "metadata": {},
   "outputs": [],
   "source": []
  },
  {
   "cell_type": "code",
   "execution_count": null,
   "metadata": {},
   "outputs": [],
   "source": []
  },
  {
   "cell_type": "code",
   "execution_count": null,
   "metadata": {},
   "outputs": [],
   "source": []
  },
  {
   "cell_type": "code",
   "execution_count": null,
   "metadata": {},
   "outputs": [],
   "source": [
    "import picamera, picamera.array, PIL.Image, PIL.ImageDraw, time, numpy as np"
   ]
  },
  {
   "cell_type": "code",
   "execution_count": null,
   "metadata": {},
   "outputs": [],
   "source": [
    "cam_shape = (1640, 922)\n",
    "nn_shape = (320, 304)\n",
    "with picamera.PiCamera(resolution=cam_shape, framerate=90, sensor_mode=5) as camera:\n",
    "    time.sleep(1)\n",
    "    frame = picamera.array.PiRGBArray(camera, size=nn_shape)\n",
    "    cont_capture = camera.capture_continuous(frame, 'rgb',\n",
    "                                             resize=nn_shape,\n",
    "                                             use_video_port=True)# use GPU for resizing\n",
    "    for i in range(5):        \n",
    "        frame.seek(0)\n",
    "        frame.truncate(0)\n",
    "        t = time.time()\n",
    "        next(cont_capture)\n",
    "        print(time.time() - t)\n",
    "        im = frame.array\n",
    "\n",
    "print(im.shape)\n",
    "PIL.Image.fromarray(im)"
   ]
  },
  {
   "cell_type": "code",
   "execution_count": null,
   "metadata": {},
   "outputs": [],
   "source": [
    "t = time.time()\n",
    "for i in range(10):\n",
    "    np.array(PIL.Image.fromarray(im).resize((300,300), PIL.Image.ANTIALIAS))\n",
    "print('avg time: %ims' % ((time.time() - t)/10*1000))"
   ]
  },
  {
   "cell_type": "code",
   "execution_count": null,
   "metadata": {},
   "outputs": [],
   "source": []
  }
 ],
 "metadata": {
  "kernelspec": {
   "display_name": "Python 3",
   "language": "python",
   "name": "python3"
  },
  "language_info": {
   "codemirror_mode": {
    "name": "ipython",
    "version": 3
   },
   "file_extension": ".py",
   "mimetype": "text/x-python",
   "name": "python",
   "nbconvert_exporter": "python",
   "pygments_lexer": "ipython3",
   "version": "3.5.3"
  }
 },
 "nbformat": 4,
 "nbformat_minor": 2
}
