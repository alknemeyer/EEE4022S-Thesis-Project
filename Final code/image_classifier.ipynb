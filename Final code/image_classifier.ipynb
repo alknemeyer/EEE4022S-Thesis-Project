{
 "cells": [
  {
   "cell_type": "markdown",
   "metadata": {},
   "source": [
    "# Image Classifier\n",
    "\n",
    "Contains code for the `ImageClassifer` class, which loads a neural network on the Movidius NCS, takes pictures using a pi cam, passes the (preprocessed) pics through the stick and decodes the result into a bounding box around the category of your choice.\n",
    "\n",
    "Main workflow when importing:\n",
    "1. `import image_classifier`\n",
    "2. `IC = image_classifier.ImageClassifier()`\n",
    "3. Repeat:\n",
    "    - `img_array = IC.take_picture_and_start_inference()`\n",
    "    - `output_dict, bb, inference_time_ms = IC.get_inference_result()`\n",
    "    - `if bb == -1:`\n",
    "        - `    img = PIL.Image.fromarray(img_array)`\n",
    "    - `else:`\n",
    "        - `    (x1, y1), (x2, y2) = bb  # do stuff`\n",
    "\n",
    "---\n",
    "\n",
    "TODO: Much of the code comes from the Movidius GitHub repo, and should be attributed properly!\n",
    "\n",
    "---\n",
    "\n",
    "I find development using a notebook to be quite a bit easier than developing using a regular python file. Unfortunately, you can't import a `.ipynb` as a module. So, here's the workflow:\n",
    "1. Use this file to understand the code and make changes\n",
    "2. When you want to commit a change, click `Kernal > Restart and Clear Output` to remove your outputs + make the file a bit smaller (shows up as fewer lines in the git commit)\n",
    "3. Run the command `jupyter nbconvert --to=python image_classifier.ipynb` to generate a `.py` file which can be imported as a module. Just make sure to remove your debugging code beforehand!"
   ]
  },
  {
   "cell_type": "code",
   "execution_count": 1,
   "metadata": {},
   "outputs": [],
   "source": [
    "import os, time\n",
    "import numpy as np\n",
    "import picamera, picamera.array\n",
    "import mvnc.mvncapi as mvnc\n",
    "# import PIL.Image, PIL.ImageDraw, PIL.ImageFont\n",
    "import multiprocessing\n",
    "import sys"
   ]
  },
  {
   "cell_type": "markdown",
   "metadata": {},
   "source": [
    "## Open the NCS device and load the graph file"
   ]
  },
  {
   "cell_type": "code",
   "execution_count": 2,
   "metadata": {},
   "outputs": [],
   "source": [
    "# ****************************************************************************\n",
    "# Copyright(c) 2017 Intel Corporation.\n",
    "# License: MIT See LICENSE file in root directory.\n",
    "# ****************************************************************************\n",
    "\n",
    "# DIY smart security camera PoC using Raspberry Pi Camera and\n",
    "# Intel® Movidius™ Neural Compute Stick (NCS)\n",
    "\n",
    "def open_ncs_device_and_load_graph(graph_filename):\n",
    "    # Look for enumerated NCS device(s); quit program if none found.\n",
    "    devices = mvnc.enumerate_devices()\n",
    "    if len(devices) == 0:\n",
    "        print('No NCS devices found')\n",
    "        exit()\n",
    "\n",
    "    # Get a handle to the first enumerated device and open it\n",
    "    device = mvnc.Device(devices[0])\n",
    "    device.open()\n",
    "\n",
    "    # Read the graph file into a buffer\n",
    "    with open(graph_filename, mode='rb') as f:\n",
    "        blob = f.read()\n",
    "\n",
    "    # Load the graph buffer into the NCS\n",
    "    graph = mvnc.Graph(graph_filename)\n",
    "    fifo_in, fifo_out = graph.allocate_with_fifos(device, blob)\n",
    "\n",
    "    return device, graph, fifo_in, fifo_out"
   ]
  },
  {
   "cell_type": "markdown",
   "metadata": {},
   "source": [
    "## Pre-process the image (resizing, scaling, and mean subtraction)"
   ]
  },
  {
   "cell_type": "code",
   "execution_count": 3,
   "metadata": {},
   "outputs": [],
   "source": [
    "def pre_process_image(img, dim, mean, scale):\n",
    "#     img = PIL.Image.fromarray(frame.array)#.resize(dim)\n",
    "#     img = np.array(img, dtype=np.float32)\n",
    "#     if img.shape != (dim[0], dim[1], 3):\n",
    "#         img = img[:dim[0], :dim[1], :]\n",
    "#         print('resizing in preprocess function')\n",
    "\n",
    "    # Mean subtraction & scaling [A common technique used to center the data]\n",
    "    img = (img - np.float32(mean)) * np.float32(scale)\n",
    "\n",
    "    return img"
   ]
  },
  {
   "cell_type": "markdown",
   "metadata": {},
   "source": [
    "## Get the inference result"
   ]
  },
  {
   "cell_type": "code",
   "execution_count": 4,
   "metadata": {},
   "outputs": [],
   "source": [
    "def get_inference_result(graph, shape, fifo_in, fifo_out, confidance_threshold=0.6):\n",
    "    # Get the results from NCS\n",
    "    output, userobj = fifo_out.read_elem()\n",
    "\n",
    "    # Get execution time\n",
    "    inference_time = np.sum(graph.get_option(mvnc.GraphOption.RO_TIME_TAKEN))\n",
    "\n",
    "    # Deserialize the output into a python dictionary\n",
    "    output_dict = deserialize_ssd(output, shape, confidance_threshold)\n",
    "\n",
    "    return output_dict, inference_time"
   ]
  },
  {
   "cell_type": "code",
   "execution_count": 5,
   "metadata": {},
   "outputs": [],
   "source": [
    "# ****************************************************************************\n",
    "# Copyright(c) 2017 Intel Corporation. \n",
    "# License: MIT See LICENSE file in root directory.\n",
    "# ****************************************************************************\n",
    "\n",
    "# Utilities to help deserialize the output list from\n",
    "# Intel® Movidius™ Neural Compute Stick (NCS)\n",
    "def deserialize_ssd(output, shape, confidance_threshold):\n",
    "    \"\"\"---- Deserialize the output from an SSD based network ----\n",
    "    \n",
    "    @param output The NCS returns a list/array in this structure:\n",
    "        First float16: Number of detections\n",
    "        Next 6 values: Unused\n",
    "        Next consecutive batch of 7 values: Detection values\n",
    "          0: Image ID (always 0)\n",
    "          1: Class ID (index into labels.txt)\n",
    "          2: Detection score\n",
    "          3: Box left coordinate (x1) - scaled value between 0 & 1\n",
    "          4: Box top coordinate (y1) - scaled value between 0 & 1\n",
    "          5: Box right coordinate (x2) - scaled value between 0 & 1\n",
    "          6: Box bottom coordinate (y2) - scaled value between 0 & 1\n",
    "\n",
    "    @return output_dict A Python dictionary with the following keys:\n",
    "        output_dict['num_detections'] = Total number of valid detections\n",
    "        output_dict['detection_classes_<X>'] = Class ID of the detected object\n",
    "        output_dict['detection_scores_<X>'] = Percentage of the confidance\n",
    "        output_dict['detection_boxes_<X>'] = A list of 2 tuples [(x1, y1) (x2, y2)]\n",
    "        Where <X> is a zero-index count of num_detections\n",
    "    \"\"\"\n",
    "\n",
    "    output_dict = {}                # Dictionary where the deserialized output will be stored\n",
    "    height, width = shape  # Extract the original image's shape\n",
    "    channel = 3\n",
    "    output_dict['num_detections'] = int(output[0])  # Total number of detections\n",
    "    num_valid_detections = 0\n",
    "\n",
    "    for detection in range(output_dict['num_detections']):\n",
    "        base_index = 7 + (7 * detection)  # Skip the first 7 values\n",
    "\n",
    "        if (output[base_index + 2] > confidance_threshold):\n",
    "            output_dict['detection_classes_' + str(num_valid_detections)] = int(output[base_index + 1])\n",
    "            output_dict['detection_scores_' + str(num_valid_detections)] = int(output[base_index + 2] * 100)\n",
    "\n",
    "            x = [int(output[base_index + 3] * width), int(output[base_index + 5] * width)]\n",
    "            y = [int(output[base_index + 4] * height), int(output[base_index + 6] * height)]\n",
    "\n",
    "            output_dict['detection_boxes_' + str(num_valid_detections)] = list(zip(y, x))\n",
    "\n",
    "            num_valid_detections += 1\n",
    "\n",
    "    # Update total number of detections to valid detections\n",
    "    output_dict['num_detections'] = int(num_valid_detections)\n",
    "\n",
    "    return output_dict"
   ]
  },
  {
   "cell_type": "code",
   "execution_count": 6,
   "metadata": {},
   "outputs": [],
   "source": [
    "def output_dict_to_bb_and_angles(output_dict, class_of_interest, camera_resolution, camera_FOV):\n",
    "    for i in range(output_dict['num_detections']):\n",
    "        if (output_dict.get('detection_classes_%i' % i) == class_of_interest):\n",
    "            (y1, x1) = output_dict.get('detection_boxes_' + str(i))[0]\n",
    "            (y2, x2) = output_dict.get('detection_boxes_' + str(i))[1]\n",
    "            bb = (x1, y1), (x2, y2)\n",
    "\n",
    "            w, h = camera_resolution\n",
    "            cam_width = camera_FOV[0]\n",
    "            cam_height = camera_FOV[1]\n",
    "            x1_angle = pixel_to_angle(x1, w, cam_width)\n",
    "            x2_angle = pixel_to_angle(x2, w, cam_width)\n",
    "            y1_angle = pixel_to_angle(y1, h, cam_height)\n",
    "            y2_angle = pixel_to_angle(y2, h, cam_height)\n",
    "            bb_angles = ((x1_angle, y1_angle), (x2_angle, y2_angle))\n",
    "\n",
    "            return bb, bb_angles"
   ]
  },
  {
   "cell_type": "markdown",
   "metadata": {},
   "source": [
    "## Utils"
   ]
  },
  {
   "cell_type": "code",
   "execution_count": 7,
   "metadata": {},
   "outputs": [],
   "source": [
    "def pixel_to_angle(pixel, img_size, cam_angle_deg):\n",
    "    \"\"\" convert a pixel value to an angle in degrees\n",
    "    inputs:\n",
    "        pixel:              a value from 0 to img_size\n",
    "        img_size:           the total number of pixels along that axis of the image\n",
    "        cam_angle_deg:      the angular width of camera in degrees\n",
    "        \n",
    "    output:\n",
    "        angle:      0deg = when pixel is directly ahead, positive/negative = right/left of center\n",
    "    \"\"\"\n",
    "    norm_pixel = (2*pixel/img_size) - 1  # now in range [-1, 1]\n",
    "    angle = np.arctan(norm_pixel * np.tan(np.deg2rad(cam_angle_deg/2)))\n",
    "    return np.rad2deg(angle)"
   ]
  },
  {
   "cell_type": "markdown",
   "metadata": {},
   "source": [
    "## The ImageClassifier class"
   ]
  },
  {
   "cell_type": "code",
   "execution_count": 8,
   "metadata": {},
   "outputs": [],
   "source": [
    "def take_pictures(raw_image_queue, # for multiprocessing\n",
    "                  camera_resolution, colourmode,\n",
    "                  nn_shape,\n",
    "                  debug):\n",
    "    \n",
    "    ##### OPEN THE CAMERA AND START STREAMING #####\n",
    "    if debug: print('CAMERA: initialising camera') \n",
    "    with picamera.PiCamera(resolution=camera_resolution, framerate=90) as camera:\n",
    "        frame = picamera.array.PiRGBArray(camera, size=nn_shape)\n",
    "        cont_capture = camera.capture_continuous(frame, colourmode,\n",
    "                                                 resize=nn_shape,\n",
    "                                                 use_video_port=True)# use GPU for resizing\n",
    "        next(cont_capture)  # next frame in the continuous capture\n",
    "        \n",
    "        while True:\n",
    "            if debug: print('CAMERA: starting loop - taking a picture')\n",
    "            if debug: t = time.time()\n",
    "            \n",
    "            frame.seek(0)\n",
    "            frame.truncate(0)\n",
    "            next(cont_capture)  # next frame in the continuous capture            \n",
    "            \n",
    "            if debug: print('CAMERA: picture taken. Checking if queue is empty')\n",
    "            \n",
    "            while not raw_image_queue.empty():\n",
    "                pass\n",
    "            \n",
    "            if debug: print('CAMERA: putting pic in queue')\n",
    "            raw_image_queue.put(frame.array)"
   ]
  },
  {
   "cell_type": "code",
   "execution_count": 9,
   "metadata": {},
   "outputs": [],
   "source": [
    "def preprocess_and_infer(raw_image_queue, dict_queue,  # for multiprocessing\n",
    "                         device, graph, fifo_in, fifo_out,\n",
    "                         nn_shape, mean, scale,\n",
    "                         debug):\n",
    "\n",
    "    ##### OPEN AND INIT THE NCS #####\n",
    "#     if debug: print('opening NCS device')\n",
    "#     device, graph, fifo_in, fifo_out = open_ncs_device_and_load_graph(graph_filename)\n",
    "\n",
    "\n",
    "    while True:\n",
    "        if debug: print('PREPROCESS: starting loop - getting image from queue')\n",
    "        img = raw_image_queue.get()\n",
    "\n",
    "        if debug: print('PREPROCESS: preprocessing image')\n",
    "        preprocessed_img = pre_process_image(img, nn_shape, mean, scale)\n",
    "        \n",
    "        if debug: print('PREPROCESS: putting output dict onto queue')\n",
    "        \n",
    "        dict_queue.put(preprocessed_img)\n",
    "\n",
    "#         if debug: print('PREPROCESS: queueing image for inference')\n",
    "#         graph.queue_inference_with_fifo_elem(fifo_in, fifo_out, preprocessed_img, None)\n",
    "\n",
    "#         if debug: print('PREPROCESS: getting inference result')\n",
    "#         output_dict, _ = get_inference_result(graph, nn_shape, fifo_in, fifo_out)\n",
    "\n",
    "#         if debug: print('PREPROCESS: putting output dict onto queue')\n",
    "#         dict_queue.put(output_dict)"
   ]
  },
  {
   "cell_type": "code",
   "execution_count": 10,
   "metadata": {},
   "outputs": [],
   "source": [
    "class ImageClassifier():\n",
    "    def __init__(self,\n",
    "                 graph_filename='graph',\n",
    "                 label_filename='categories.txt',  # must correspond to the specific network\n",
    "                 class_of_interest='person',\n",
    "                 colourmode='rgb',\n",
    "                 camera_resolution=(1280, 720),# (width, height)\n",
    "                 nn_shape=(300, 300),          # (width, height)\n",
    "                 camera_FOV=(62.2, 48.8),      # (width, height)):\n",
    "                 mean=(127.5, 127.5, 127.5),   # depends on the colourmode\n",
    "                 scale=0.00789,                # = 1/127\n",
    "                 debug=False):\n",
    "        \n",
    "        if debug: print('ImageClassifier: opening NCS device')\n",
    "        self.device, self.graph, self.fifo_in, self.fifo_out = \\\n",
    "            open_ncs_device_and_load_graph(graph_filename)\n",
    "        \n",
    "        labels = [line.rstrip('\\n') for line in open(label_filename) if line != 'classes\\n']\n",
    "        self.class_of_interest = labels.index(class_of_interest) # note conversion from string to ID (int)\n",
    "        self.nn_shape = nn_shape\n",
    "        self.camera_FOV = camera_FOV\n",
    "        \n",
    "        self.raw_image_queue = multiprocessing.Queue()\n",
    "        self.dict_queue = multiprocessing.Queue()\n",
    "        \n",
    "        photo_process = multiprocessing.Process(target=take_pictures,\n",
    "                                                args=(self.raw_image_queue,\n",
    "                                                      camera_resolution, colourmode,\n",
    "                                                      nn_shape,\n",
    "                                                      debug))\n",
    "        photo_process.start()\n",
    "        \n",
    "        infer_process = multiprocessing.Process(target=preprocess_and_infer,\n",
    "                                                args=(self.raw_image_queue, self.dict_queue,\n",
    "                                                      self.device, self.graph, self.fifo_in, self.fifo_out,\n",
    "                                                      nn_shape, mean, scale,\n",
    "                                                      debug))\n",
    "        infer_process.start()\n",
    "        \n",
    "        if debug: print('ImageClassifier: started processes')\n",
    "    \n",
    "    def get_result(self, debug=False):\n",
    "        if debug: print('ImageClassifier: getting img from queue')\n",
    "        preprocessed_img = self.dict_queue.get()\n",
    "        \n",
    "        if debug: print('ImageClassifier: queueing for inference')\n",
    "        self.graph.queue_inference_with_fifo_elem(self.fifo_in, self.fifo_out, preprocessed_img, None)\n",
    "\n",
    "#         if debug: print('PREPROCESS: getting inference result')\n",
    "        output_dict, _ = get_inference_result(self.graph, self.nn_shape, self.fifo_in, self.fifo_out)\n",
    "        \n",
    "        print('output_dict =', output_dict)\n",
    "        bb, bb_angles = output_dict_to_bb_and_angles(output_dict,\n",
    "                                                     self.class_of_interest,\n",
    "                                                     self.nn_shape,\n",
    "                                                     self.camera_FOV)\n",
    "        return bb, bb_angles\n",
    "    \n",
    "    \n",
    "    def __del__(self):\n",
    "        self.fifo_in.destroy()\n",
    "        self.fifo_out.destroy()\n",
    "        self.graph.destroy()\n",
    "        self.device.close()\n",
    "        self.device.destroy()"
   ]
  },
  {
   "cell_type": "code",
   "execution_count": 11,
   "metadata": {
    "scrolled": true
   },
   "outputs": [
    {
     "name": "stderr",
     "output_type": "stream",
     "text": [
      "/usr/lib/python3/dist-packages/picamera/encoders.py:521: PiCameraAlphaStripping: using alpha-stripping to convert to non-alpha format; you may find the equivalent alpha format faster\n",
      "  \"using alpha-stripping to convert to non-alpha \"\n",
      "/usr/lib/python3/dist-packages/picamera/encoders.py:544: PiCameraResolutionRounded: frame size rounded up from 300x300 to 320x304\n",
      "  width, height, fwidth, fheight)))\n"
     ]
    },
    {
     "name": "stdout",
     "output_type": "stream",
     "text": [
      "MAIN: getting results:\n"
     ]
    },
    {
     "name": "stderr",
     "output_type": "stream",
     "text": [
      "/usr/lib/python3/dist-packages/picamera/array.py:175: PiCameraDeprecated: This method changes the position of the stream to the truncated length; this is deprecated functionality and you should not rely on it (seek before or after truncate to ensure position is consistent)\n",
      "  'This method changes the position of the stream to the '\n",
      "/usr/local/lib/python3.5/dist-packages/mvnc/mvncapi.py:418: DeprecationWarning: The binary mode of fromstring is deprecated, as it behaves surprisingly on unicode inputs. Use frombuffer instead\n",
      "  tensor = numpy.fromstring(tensor.raw, dtype=numpy.float32)\n"
     ]
    },
    {
     "name": "stdout",
     "output_type": "stream",
     "text": [
      "output_dict = {'detection_scores_1': 96, 'detection_classes_0': 9, 'detection_classes_1': 15, 'detection_boxes_0': [(85, 46), (273, 95)], 'detection_boxes_1': [(0, 106), (232, 285)], 'detection_scores_0': 81, 'num_detections': 2}\n",
      "loop: 0.6510248184204102\n",
      "MAIN: getting results:\n",
      "output_dict = {'detection_scores_1': 96, 'detection_classes_0': 9, 'detection_classes_1': 15, 'detection_boxes_0': [(85, 46), (271, 95)], 'detection_boxes_1': [(-1, 105), (233, 286)], 'detection_scores_0': 80, 'num_detections': 2}\n",
      "loop: 0.13771438598632812\n",
      "MAIN: getting results:\n",
      "output_dict = {'detection_scores_1': 96, 'detection_classes_0': 9, 'detection_classes_1': 15, 'detection_boxes_0': [(85, 47), (273, 96)], 'detection_boxes_1': [(-1, 105), (232, 285)], 'detection_scores_0': 67, 'num_detections': 2}\n",
      "loop: 0.17123794555664062\n",
      "MAIN: getting results:\n",
      "output_dict = {'detection_scores_1': 90, 'detection_classes_0': 9, 'detection_classes_1': 15, 'detection_boxes_0': [(85, 47), (272, 94)], 'detection_boxes_1': [(-4, 99), (240, 282)], 'detection_scores_0': 64, 'num_detections': 2}\n",
      "loop: 0.13670086860656738\n",
      "MAIN: getting results:\n",
      "output_dict = {'detection_scores_1': 92, 'detection_classes_0': 9, 'detection_classes_1': 15, 'detection_boxes_0': [(84, 46), (273, 96)], 'detection_boxes_1': [(1, 107), (243, 279)], 'detection_scores_0': 60, 'num_detections': 2}\n",
      "loop: 0.1336076259613037\n",
      "MAIN: getting results:\n",
      "output_dict = {'detection_scores_2': 87, 'detection_scores_1': 63, 'detection_classes_0': 9, 'detection_classes_1': 9, 'detection_boxes_0': [(26, 82), (251, 272)], 'detection_boxes_1': [(85, 44), (272, 93)], 'detection_scores_0': 68, 'detection_classes_2': 15, 'num_detections': 3, 'detection_boxes_2': [(-1, 98), (239, 282)]}\n",
      "loop: 0.13470697402954102\n",
      "MAIN: getting results:\n",
      "output_dict = {'detection_scores_0': 97, 'detection_classes_0': 15, 'num_detections': 1, 'detection_boxes_0': [(9, 90), (257, 274)]}\n",
      "loop: 0.1508166790008545\n",
      "MAIN: getting results:\n",
      "output_dict = {'detection_scores_1': 96, 'detection_classes_0': 9, 'detection_classes_1': 15, 'detection_boxes_0': [(93, 48), (279, 255)], 'detection_boxes_1': [(13, 79), (270, 269)], 'detection_scores_0': 87, 'num_detections': 2}\n",
      "loop: 0.14508724212646484\n",
      "MAIN: getting results:\n",
      "output_dict = {'detection_scores_1': 98, 'detection_classes_0': 9, 'detection_classes_1': 15, 'detection_boxes_0': [(94, 42), (283, 246)], 'detection_boxes_1': [(6, 72), (266, 269)], 'detection_scores_0': 77, 'num_detections': 2}\n",
      "loop: 0.15115618705749512\n",
      "MAIN: getting results:\n",
      "output_dict = {'detection_scores_0': 98, 'detection_classes_0': 15, 'num_detections': 1, 'detection_boxes_0': [(6, 61), (254, 268)]}\n",
      "loop: 0.1400918960571289\n",
      "MAIN: getting results:\n",
      "output_dict = {'detection_scores_1': 99, 'detection_classes_0': 9, 'detection_classes_1': 15, 'detection_boxes_0': [(84, 3), (279, 84)], 'detection_boxes_1': [(8, 61), (252, 270)], 'detection_scores_0': 85, 'num_detections': 2}\n",
      "loop: 0.1425166130065918\n",
      "MAIN: getting results:\n",
      "output_dict = {'detection_scores_0': 99, 'detection_classes_0': 15, 'num_detections': 1, 'detection_boxes_0': [(1, 61), (268, 265)]}\n",
      "loop: 0.14407873153686523\n",
      "MAIN: getting results:\n",
      "output_dict = {'detection_scores_1': 99, 'detection_classes_0': 9, 'detection_classes_1': 15, 'detection_boxes_0': [(95, 13), (285, 173)], 'detection_boxes_1': [(3, 51), (263, 270)], 'detection_scores_0': 80, 'num_detections': 2}\n",
      "loop: 0.13726019859313965\n",
      "MAIN: getting results:\n",
      "output_dict = {'detection_scores_0': 99, 'detection_classes_0': 15, 'num_detections': 1, 'detection_boxes_0': [(3, 48), (265, 266)]}\n",
      "loop: 0.15830636024475098\n",
      "MAIN: getting results:\n",
      "output_dict = {'detection_scores_0': 99, 'detection_classes_0': 15, 'num_detections': 1, 'detection_boxes_0': [(3, 37), (273, 266)]}\n",
      "loop: 0.16608786582946777\n",
      "MAIN: getting results:\n",
      "output_dict = {'detection_scores_0': 99, 'detection_classes_0': 15, 'num_detections': 1, 'detection_boxes_0': [(3, 35), (262, 263)]}\n",
      "loop: 0.13446283340454102\n",
      "MAIN: getting results:\n",
      "output_dict = {'detection_scores_1': 64, 'detection_classes_0': 15, 'detection_classes_1': 20, 'detection_boxes_0': [(2, 23), (280, 263)], 'detection_boxes_1': [(-1, 151), (64, 223)], 'detection_scores_0': 99, 'num_detections': 2}\n",
      "loop: 0.13709449768066406\n",
      "MAIN: getting results:\n",
      "output_dict = {'detection_scores_1': 71, 'detection_classes_0': 15, 'detection_classes_1': 20, 'detection_boxes_0': [(3, 8), (289, 262)], 'detection_boxes_1': [(-1, 152), (63, 223)], 'detection_scores_0': 99, 'num_detections': 2}\n",
      "loop: 0.13786816596984863\n",
      "MAIN: getting results:\n",
      "output_dict = {'detection_scores_1': 67, 'detection_classes_0': 15, 'detection_classes_1': 20, 'detection_boxes_0': [(3, 12), (288, 260)], 'detection_boxes_1': [(-1, 153), (63, 221)], 'detection_scores_0': 99, 'num_detections': 2}\n",
      "loop: 0.1358034610748291\n",
      "MAIN: getting results:\n",
      "output_dict = {'detection_scores_1': 74, 'detection_classes_0': 15, 'detection_classes_1': 20, 'detection_boxes_0': [(3, 11), (287, 260)], 'detection_boxes_1': [(-2, 154), (63, 221)], 'detection_scores_0': 99, 'num_detections': 2}\n",
      "loop: 0.1405320167541504\n",
      "MAIN: getting results:\n",
      "output_dict = {'detection_scores_1': 73, 'detection_classes_0': 15, 'detection_classes_1': 20, 'detection_boxes_0': [(2, 8), (298, 254)], 'detection_boxes_1': [(-1, 155), (64, 223)], 'detection_scores_0': 100, 'num_detections': 2}\n",
      "loop: 0.14284586906433105\n",
      "MAIN: getting results:\n",
      "output_dict = {'detection_scores_0': 100, 'detection_classes_0': 15, 'num_detections': 1, 'detection_boxes_0': [(0, 13), (293, 255)]}\n",
      "loop: 0.141021728515625\n",
      "MAIN: getting results:\n",
      "output_dict = {'detection_scores_0': 100, 'detection_classes_0': 15, 'num_detections': 1, 'detection_boxes_0': [(1, 11), (295, 249)]}\n",
      "loop: 0.14153552055358887\n",
      "MAIN: getting results:\n",
      "output_dict = {'detection_scores_0': 99, 'detection_classes_0': 15, 'num_detections': 1, 'detection_boxes_0': [(0, 18), (287, 249)]}\n",
      "loop: 0.1376197338104248\n",
      "MAIN: getting results:\n",
      "output_dict = {'detection_scores_0': 95, 'detection_classes_0': 15, 'num_detections': 1, 'detection_boxes_0': [(1, 15), (296, 216)]}\n",
      "loop: 0.14171791076660156\n",
      "MAIN: getting results:\n",
      "output_dict = {'detection_scores_0': 99, 'detection_classes_0': 15, 'num_detections': 1, 'detection_boxes_0': [(3, 22), (282, 252)]}\n",
      "loop: 0.15625286102294922\n",
      "MAIN: getting results:\n",
      "output_dict = {'detection_scores_0': 99, 'detection_classes_0': 15, 'num_detections': 1, 'detection_boxes_0': [(1, 48), (251, 213)]}\n",
      "loop: 0.13490056991577148\n",
      "MAIN: getting results:\n",
      "output_dict = {'detection_scores_1': 99, 'detection_classes_0': 9, 'detection_classes_1': 15, 'detection_boxes_0': [(87, 1), (293, 62)], 'detection_boxes_1': [(1, 68), (255, 211)], 'detection_scores_0': 82, 'num_detections': 2}\n",
      "loop: 0.13877534866333008\n",
      "MAIN: getting results:\n",
      "output_dict = {'detection_scores_0': 98, 'detection_classes_0': 15, 'num_detections': 1, 'detection_boxes_0': [(-5, 86), (259, 184)]}\n",
      "loop: 0.13828754425048828\n",
      "MAIN: getting results:\n",
      "output_dict = {'detection_scores_0': 99, 'detection_classes_0': 15, 'num_detections': 1, 'detection_boxes_0': [(-6, 85), (253, 188)]}\n",
      "loop: 0.1470193862915039\n",
      "MAIN: getting results:\n",
      "output_dict = {'detection_scores_0': 97, 'detection_classes_0': 15, 'num_detections': 1, 'detection_boxes_0': [(0, 82), (240, 202)]}\n",
      "loop: 0.1452031135559082\n",
      "MAIN: getting results:\n",
      "output_dict = {'detection_scores_0': 98, 'detection_classes_0': 15, 'num_detections': 1, 'detection_boxes_0': [(0, 77), (237, 205)]}\n",
      "loop: 0.16082429885864258\n",
      "MAIN: getting results:\n",
      "output_dict = {'detection_scores_0': 99, 'detection_classes_0': 15, 'num_detections': 1, 'detection_boxes_0': [(1, 72), (239, 198)]}\n",
      "loop: 0.1386103630065918\n",
      "MAIN: getting results:\n",
      "output_dict = {'detection_scores_0': 99, 'detection_classes_0': 15, 'num_detections': 1, 'detection_boxes_0': [(0, 66), (239, 204)]}\n",
      "loop: 0.13136982917785645\n",
      "MAIN: getting results:\n",
      "output_dict = {'detection_scores_0': 100, 'detection_classes_0': 15, 'num_detections': 1, 'detection_boxes_0': [(0, 73), (237, 205)]}\n",
      "loop: 0.1360485553741455\n",
      "MAIN: getting results:\n",
      "output_dict = {'detection_scores_0': 100, 'detection_classes_0': 15, 'num_detections': 1, 'detection_boxes_0': [(3, 79), (241, 208)]}\n",
      "loop: 0.13370728492736816\n",
      "MAIN: getting results:\n"
     ]
    },
    {
     "name": "stdout",
     "output_type": "stream",
     "text": [
      "output_dict = {'detection_scores_0': 100, 'detection_classes_0': 15, 'num_detections': 1, 'detection_boxes_0': [(2, 86), (242, 208)]}\n",
      "loop: 0.14031434059143066\n",
      "MAIN: getting results:\n",
      "output_dict = {'detection_scores_0': 99, 'detection_classes_0': 15, 'num_detections': 1, 'detection_boxes_0': [(4, 102), (242, 215)]}\n",
      "loop: 0.14401650428771973\n",
      "MAIN: getting results:\n",
      "output_dict = {'detection_scores_0': 89, 'detection_classes_0': 15, 'num_detections': 1, 'detection_boxes_0': [(1, 121), (243, 222)]}\n",
      "loop: 0.13759541511535645\n",
      "MAIN: getting results:\n",
      "output_dict = {'num_detections': 0}\n"
     ]
    },
    {
     "ename": "TypeError",
     "evalue": "'NoneType' object is not iterable",
     "output_type": "error",
     "traceback": [
      "\u001b[0;31m---------------------------------------------------------------------------\u001b[0m",
      "\u001b[0;31mTypeError\u001b[0m                                 Traceback (most recent call last)",
      "\u001b[0;32m<ipython-input-11-adc146cbb64b>\u001b[0m in \u001b[0;36m<module>\u001b[0;34m()\u001b[0m\n\u001b[1;32m     12\u001b[0m     \u001b[0mprint\u001b[0m\u001b[0;34m(\u001b[0m\u001b[0;34m'MAIN: getting results:'\u001b[0m\u001b[0;34m)\u001b[0m\u001b[0;34m\u001b[0m\u001b[0m\n\u001b[1;32m     13\u001b[0m     \u001b[0mt\u001b[0m \u001b[0;34m=\u001b[0m \u001b[0mtime\u001b[0m\u001b[0;34m.\u001b[0m\u001b[0mtime\u001b[0m\u001b[0;34m(\u001b[0m\u001b[0;34m)\u001b[0m\u001b[0;34m\u001b[0m\u001b[0m\n\u001b[0;32m---> 14\u001b[0;31m     \u001b[0mbb\u001b[0m\u001b[0;34m,\u001b[0m \u001b[0mbb_angles\u001b[0m \u001b[0;34m=\u001b[0m \u001b[0mIC\u001b[0m\u001b[0;34m.\u001b[0m\u001b[0mget_result\u001b[0m\u001b[0;34m(\u001b[0m\u001b[0;34m)\u001b[0m\u001b[0;34m\u001b[0m\u001b[0m\n\u001b[0m\u001b[1;32m     15\u001b[0m     \u001b[0mbb_arr\u001b[0m\u001b[0;34m.\u001b[0m\u001b[0mappend\u001b[0m\u001b[0;34m(\u001b[0m\u001b[0mbb\u001b[0m\u001b[0;34m)\u001b[0m\u001b[0;34m\u001b[0m\u001b[0m\n\u001b[1;32m     16\u001b[0m     \u001b[0mbb_angles_arr\u001b[0m\u001b[0;34m.\u001b[0m\u001b[0mappend\u001b[0m\u001b[0;34m(\u001b[0m\u001b[0mbb_angles\u001b[0m\u001b[0;34m)\u001b[0m\u001b[0;34m\u001b[0m\u001b[0m\n",
      "\u001b[0;32m<ipython-input-10-8d12dcc73e1a>\u001b[0m in \u001b[0;36mget_result\u001b[0;34m(self, debug)\u001b[0m\n\u001b[1;32m     53\u001b[0m                                                      \u001b[0mself\u001b[0m\u001b[0;34m.\u001b[0m\u001b[0mclass_of_interest\u001b[0m\u001b[0;34m,\u001b[0m\u001b[0;34m\u001b[0m\u001b[0m\n\u001b[1;32m     54\u001b[0m                                                      \u001b[0mself\u001b[0m\u001b[0;34m.\u001b[0m\u001b[0mnn_shape\u001b[0m\u001b[0;34m,\u001b[0m\u001b[0;34m\u001b[0m\u001b[0m\n\u001b[0;32m---> 55\u001b[0;31m                                                      self.camera_FOV)\n\u001b[0m\u001b[1;32m     56\u001b[0m         \u001b[0;32mreturn\u001b[0m \u001b[0mbb\u001b[0m\u001b[0;34m,\u001b[0m \u001b[0mbb_angles\u001b[0m\u001b[0;34m\u001b[0m\u001b[0m\n\u001b[1;32m     57\u001b[0m \u001b[0;34m\u001b[0m\u001b[0m\n",
      "\u001b[0;31mTypeError\u001b[0m: 'NoneType' object is not iterable"
     ]
    },
    {
     "name": "stderr",
     "output_type": "stream",
     "text": [
      "Process Process-1:\n",
      "Traceback (most recent call last):\n",
      "  File \"/usr/lib/python3.5/multiprocessing/process.py\", line 249, in _bootstrap\n",
      "    self.run()\n",
      "  File \"/usr/lib/python3.5/multiprocessing/process.py\", line 93, in run\n",
      "    self._target(*self._args, **self._kwargs)\n",
      "  File \"<ipython-input-8-4ce79c25d8ec>\", line 21, in take_pictures\n",
      "    next(cont_capture)  # next frame in the continuous capture\n",
      "  File \"/usr/lib/python3/dist-packages/picamera/camera.py\", line 1701, in capture_continuous\n",
      "    encoder.start(output)\n",
      "  File \"/usr/lib/python3/dist-packages/picamera/encoders.py\", line 1166, in start\n",
      "    super(PiRawImageMixin, self).start(output)\n",
      "  File \"/usr/lib/python3/dist-packages/picamera/encoders.py\", line 380, in start\n",
      "    self.parent._start_capture(self.camera_port)\n",
      "  File \"/usr/lib/python3/dist-packages/picamera/camera.py\", line 521, in _start_capture\n",
      "    port.params[mmal.MMAL_PARAMETER_CAPTURE] = True\n",
      "  File \"/usr/lib/python3/dist-packages/picamera/mmalobj.py\", line 1493, in __setitem__\n",
      "    func(self._port, key, conv(value)),\n",
      "KeyboardInterrupt\n"
     ]
    }
   ],
   "source": [
    "IC = ImageClassifier(graph_filename='../Models/MobileNet_SSD_caffe/graph',\n",
    "                     label_filename='../Models/MobileNet_SSD_caffe/categories.txt',\n",
    "                     camera_resolution=(1280,720),\n",
    "                     debug=False)\n",
    "\n",
    "bb_arr = []\n",
    "bb_angles_arr = []\n",
    "t_start = time.time()\n",
    "time_arr = []\n",
    "\n",
    "while True:\n",
    "    print('MAIN: getting results:')\n",
    "    t = time.time()\n",
    "    bb, bb_angles = IC.get_result()\n",
    "    bb_arr.append(bb)\n",
    "    bb_angles_arr.append(bb_angles)\n",
    "    print('loop:', time.time() - t)\n",
    "    time_arr.append(time.time() - t_start)"
   ]
  },
  {
   "cell_type": "code",
   "execution_count": 12,
   "metadata": {},
   "outputs": [],
   "source": [
    "import matplotlib.pyplot as plt"
   ]
  },
  {
   "cell_type": "code",
   "execution_count": 13,
   "metadata": {},
   "outputs": [],
   "source": [
    "x_angles = [(xL+xR)/2 for ((xL, _), (xR, _)) in bb_angles_arr]\n",
    "loop_times_ms = [(t-t_)*1000 for t_,t in zip(time_arr[0:-1], time_arr[1:])]"
   ]
  },
  {
   "cell_type": "code",
   "execution_count": 14,
   "metadata": {},
   "outputs": [
    {
     "data": {
      "image/png": "[encoded data removed]",
      "text/plain": [
       "<Figure size 1332x216 with 1 Axes>"
      ]
     },
     "metadata": {
      "needs_background": "light"
     },
     "output_type": "display_data"
    }
   ],
   "source": [
    "plt.plot(time_arr, x_angles, label='estimated angle from nn [degrees]')\n",
    "plt.grid(); plt.legend(); fig = plt.gcf(); fig.set_size_inches(18.5, 3, forward=True); plt.show()"
   ]
  },
  {
   "cell_type": "code",
   "execution_count": 15,
   "metadata": {
    "scrolled": true
   },
   "outputs": [
    {
     "data": {
      "image/png": "[encoded data removed]",
      "text/plain": [
       "<Figure size 1332x216 with 1 Axes>"
      ]
     },
     "metadata": {
      "needs_background": "light"
     },
     "output_type": "display_data"
    }
   ],
   "source": [
    "plt.plot(loop_times_ms, label='time per loop [ms]')\n",
    "plt.legend(); plt.grid(); fig = plt.gcf(); fig.set_size_inches(18.5, 3, forward=True); plt.show()"
   ]
  },
  {
   "cell_type": "code",
   "execution_count": 16,
   "metadata": {},
   "outputs": [
    {
     "data": {
      "text/plain": [
       "0"
      ]
     },
     "execution_count": 16,
     "metadata": {},
     "output_type": "execute_result"
    }
   ],
   "source": [
    "IC.raw_image_queue.qsize()"
   ]
  },
  {
   "cell_type": "code",
   "execution_count": 17,
   "metadata": {},
   "outputs": [
    {
     "data": {
      "text/plain": [
       "155"
      ]
     },
     "execution_count": 17,
     "metadata": {},
     "output_type": "execute_result"
    }
   ],
   "source": [
    "IC.dict_queue.qsize()"
   ]
  },
  {
   "cell_type": "code",
   "execution_count": null,
   "metadata": {},
   "outputs": [],
   "source": [
    "# im = IC.raw_image_queue.get()\n",
    "# PIL.Image.fromarray(im)"
   ]
  },
  {
   "cell_type": "code",
   "execution_count": null,
   "metadata": {},
   "outputs": [],
   "source": [
    "# f = None\n",
    "# with picamera.PiCamera(resolution=(1280, 720), framerate=90) as camera:\n",
    "#     frame = picamera.array.PiRGBArray(camera, size=(300,300))\n",
    "#     cont_capture = camera.capture_continuous(frame, 'rgb', resize=(300,300), use_video_port=True)# use GPU for resizing\n",
    "#     next(cont_capture)  # next frame in the continuous capture\n",
    "#     print(frame)\n",
    "#     f = frame"
   ]
  },
  {
   "cell_type": "code",
   "execution_count": null,
   "metadata": {},
   "outputs": [],
   "source": []
  },
  {
   "cell_type": "code",
   "execution_count": null,
   "metadata": {},
   "outputs": [],
   "source": []
  },
  {
   "cell_type": "code",
   "execution_count": null,
   "metadata": {},
   "outputs": [],
   "source": []
  },
  {
   "cell_type": "code",
   "execution_count": null,
   "metadata": {},
   "outputs": [],
   "source": []
  },
  {
   "cell_type": "code",
   "execution_count": null,
   "metadata": {},
   "outputs": [],
   "source": [
    "# IC.__del__()"
   ]
  },
  {
   "cell_type": "code",
   "execution_count": null,
   "metadata": {},
   "outputs": [],
   "source": []
  },
  {
   "cell_type": "markdown",
   "metadata": {},
   "source": [
    "## Functions for displaying images"
   ]
  },
  {
   "cell_type": "code",
   "execution_count": null,
   "metadata": {},
   "outputs": [],
   "source": [
    "def display_image(output_dict, class_of_interest, frame, labels, capture_screenshots=False):\n",
    "    # Print the results (each image/frame may have multiple objects)\n",
    "    for i in range(output_dict['num_detections']):\n",
    "        \n",
    "        if (output_dict.get('detection_classes_' + str(i)) == class_of_interest):\n",
    "            \n",
    "            # Extract top-left & bottom-right coordinates of detected objects\n",
    "            (y1, x1) = output_dict.get('detection_boxes_' + str(i))[0]\n",
    "            (y2, x2) = output_dict.get('detection_boxes_' + str(i))[1]\n",
    "\n",
    "            # Prep string to overlay on the image\n",
    "            display_str = (labels[output_dict.get('detection_classes_%i' % i)]\n",
    "                           + ': %s%%' % output_dict.get('detection_scores_%i' % i))\n",
    "\n",
    "            # Overlay bounding boxes, detection class and scores\n",
    "            frame = draw_bounding_box( \n",
    "                        y1, x1, y2, x2,\n",
    "                        frame, display_str=display_str)\n",
    "\n",
    "    if capture_screenshots:\n",
    "        img = PIL.Image.fromarray(frame)\n",
    "        img.save('captures/photo_%s.jpg' % cur_time)\n",
    "\n",
    "    # If a display is available, show image on which inference was performed\n",
    "    if 'DISPLAY' in os.environ:\n",
    "        img.show()\n",
    "\n",
    "# ****************************************************************************\n",
    "# Copyright(c) 2017 Intel Corporation. \n",
    "# License: MIT See LICENSE file in root directory.\n",
    "# ****************************************************************************\n",
    "\n",
    "# Utilities to help visualize the output from\n",
    "# Intel® Movidius™ Neural Compute Stick (NCS)\n",
    "def draw_bounding_box(y1, x1, y2, x2, \n",
    "                      img, \n",
    "                      thickness=4, \n",
    "                      color=(255, 255, 0),\n",
    "                      display_str=()):\n",
    "    \"\"\" draw a bounding box on an image to help visualise the nn output\n",
    "    \n",
    "    Inputs\n",
    "        (x1, y1)  = Top left corner of the bounding box\n",
    "        (x2, y2)  = Bottom right corner of the bounding box\n",
    "        img       = Image/frame represented as numpy array\n",
    "        thickness = Thickness of the bounding box's outline\n",
    "        color     = Color of the bounding box's outline\n",
    "    \"\"\"\n",
    "    img = PIL.Image.fromarray(img)\n",
    "    draw = PIL.ImageDraw.Draw(img)\n",
    "\n",
    "    for x in range(0, thickness):\n",
    "        draw.rectangle([(x1-x, y1-x), (x2-x, y2-x)], outline=color)\n",
    "\n",
    "    font = PIL.ImageFont.load_default()\n",
    "    draw.text((x1, y1), display_str, font=font)\n",
    "\n",
    "    return np.array(img)"
   ]
  },
  {
   "cell_type": "code",
   "execution_count": null,
   "metadata": {},
   "outputs": [],
   "source": []
  }
 ],
 "metadata": {
  "kernelspec": {
   "display_name": "Python 3",
   "language": "python",
   "name": "python3"
  },
  "language_info": {
   "codemirror_mode": {
    "name": "ipython",
    "version": 3
   },
   "file_extension": ".py",
   "mimetype": "text/x-python",
   "name": "python",
   "nbconvert_exporter": "python",
   "pygments_lexer": "ipython3",
   "version": "3.5.3"
  }
 },
 "nbformat": 4,
 "nbformat_minor": 2
}
